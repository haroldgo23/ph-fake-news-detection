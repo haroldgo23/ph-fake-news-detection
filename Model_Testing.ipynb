{
  "cells": [
    {
      "cell_type": "markdown",
      "metadata": {
        "id": "view-in-github",
        "colab_type": "text"
      },
      "source": [
        "<a href=\"https://colab.research.google.com/github/haroldgo23/ph-fake-news-detection/blob/main/Model_Testing.ipynb\" target=\"_parent\"><img src=\"https://colab.research.google.com/assets/colab-badge.svg\" alt=\"Open In Colab\"/></a>"
      ]
    },
    {
      "cell_type": "markdown",
      "metadata": {
        "id": "-0tPtHopx-PX"
      },
      "source": [
        "# Prepare dataset and models"
      ]
    },
    {
      "cell_type": "markdown",
      "metadata": {
        "id": "-S5KO3NAx-Pd"
      },
      "source": [
        "### Import necessary libraries"
      ]
    },
    {
      "cell_type": "code",
      "execution_count": 28,
      "metadata": {
        "id": "Lhv_Rkigx-Pd"
      },
      "outputs": [],
      "source": [
        "import pandas as pd\n",
        "import numpy as np\n",
        "import seaborn as sns\n",
        "import matplotlib.pyplot as plt\n",
        "from sklearn.model_selection import train_test_split\n",
        "from sklearn.metrics import accuracy_score, classification_report, confusion_matrix, ConfusionMatrixDisplay, precision_score, recall_score, f1_score\n",
        "import re\n",
        "import string"
      ]
    },
    {
      "cell_type": "markdown",
      "source": [
        "###Import csv files"
      ],
      "metadata": {
        "id": "UZm4tYy81Kcm"
      }
    },
    {
      "cell_type": "code",
      "source": [
        "from google.colab import drive\n",
        "drive.mount('/content/drive')"
      ],
      "metadata": {
        "colab": {
          "base_uri": "https://localhost:8080/"
        },
        "id": "MlQhfb0I1WDz",
        "outputId": "bdec7440-2084-49ea-f29e-59965c5bc67f"
      },
      "execution_count": 2,
      "outputs": [
        {
          "output_type": "stream",
          "name": "stdout",
          "text": [
            "Mounted at /content/drive\n"
          ]
        }
      ]
    },
    {
      "cell_type": "markdown",
      "source": [],
      "metadata": {
        "id": "GdDoWR_l1UzL"
      }
    },
    {
      "cell_type": "markdown",
      "metadata": {
        "id": "Pt0XUs1xx-Pe"
      },
      "source": [
        "### Inserting fake and real dataset"
      ]
    },
    {
      "cell_type": "code",
      "execution_count": 3,
      "metadata": {
        "id": "hj-eDUJxx-Pf"
      },
      "outputs": [],
      "source": [
        "df_eng = pd.read_csv(\"/content/drive/MyDrive/Machine Learning Tool for Identification of Philippine Fake News in Social Media/English.csv\")\n",
        "df_fil = pd.read_csv(\"/content/drive/MyDrive/Machine Learning Tool for Identification of Philippine Fake News in Social Media/Filipino.csv\")"
      ]
    },
    {
      "cell_type": "code",
      "execution_count": 4,
      "metadata": {
        "id": "viCdhbAbx-Pf",
        "outputId": "4ea32d0d-75d3-4ef0-a7f7-04d64556aeb5",
        "colab": {
          "base_uri": "https://localhost:8080/",
          "height": 206
        }
      },
      "outputs": [
        {
          "output_type": "execute_result",
          "data": {
            "text/plain": [
              "              Page                                               Text  Label\n",
              "0  Manila Bulletin  President Ferdinand “Bongbong” Marcos Jr. beli...      0\n",
              "1  Manila Bulletin  A New People’s Army member who has pending war...      0\n",
              "2  Manila Bulletin  Malacañang announced that President Marcos has...      0\n",
              "3  Manila Bulletin  Fisherfolk organizations staged a peaceful ral...      0\n",
              "4  Manila Bulletin  Members of the Northern Police District-Distri...      0"
            ],
            "text/html": [
              "\n",
              "  <div id=\"df-f95487ac-5469-4b88-b9c8-1f4501191e64\">\n",
              "    <div class=\"colab-df-container\">\n",
              "      <div>\n",
              "<style scoped>\n",
              "    .dataframe tbody tr th:only-of-type {\n",
              "        vertical-align: middle;\n",
              "    }\n",
              "\n",
              "    .dataframe tbody tr th {\n",
              "        vertical-align: top;\n",
              "    }\n",
              "\n",
              "    .dataframe thead th {\n",
              "        text-align: right;\n",
              "    }\n",
              "</style>\n",
              "<table border=\"1\" class=\"dataframe\">\n",
              "  <thead>\n",
              "    <tr style=\"text-align: right;\">\n",
              "      <th></th>\n",
              "      <th>Page</th>\n",
              "      <th>Text</th>\n",
              "      <th>Label</th>\n",
              "    </tr>\n",
              "  </thead>\n",
              "  <tbody>\n",
              "    <tr>\n",
              "      <th>0</th>\n",
              "      <td>Manila Bulletin</td>\n",
              "      <td>President Ferdinand “Bongbong” Marcos Jr. beli...</td>\n",
              "      <td>0</td>\n",
              "    </tr>\n",
              "    <tr>\n",
              "      <th>1</th>\n",
              "      <td>Manila Bulletin</td>\n",
              "      <td>A New People’s Army member who has pending war...</td>\n",
              "      <td>0</td>\n",
              "    </tr>\n",
              "    <tr>\n",
              "      <th>2</th>\n",
              "      <td>Manila Bulletin</td>\n",
              "      <td>Malacañang announced that President Marcos has...</td>\n",
              "      <td>0</td>\n",
              "    </tr>\n",
              "    <tr>\n",
              "      <th>3</th>\n",
              "      <td>Manila Bulletin</td>\n",
              "      <td>Fisherfolk organizations staged a peaceful ral...</td>\n",
              "      <td>0</td>\n",
              "    </tr>\n",
              "    <tr>\n",
              "      <th>4</th>\n",
              "      <td>Manila Bulletin</td>\n",
              "      <td>Members of the Northern Police District-Distri...</td>\n",
              "      <td>0</td>\n",
              "    </tr>\n",
              "  </tbody>\n",
              "</table>\n",
              "</div>\n",
              "      <button class=\"colab-df-convert\" onclick=\"convertToInteractive('df-f95487ac-5469-4b88-b9c8-1f4501191e64')\"\n",
              "              title=\"Convert this dataframe to an interactive table.\"\n",
              "              style=\"display:none;\">\n",
              "        \n",
              "  <svg xmlns=\"http://www.w3.org/2000/svg\" height=\"24px\"viewBox=\"0 0 24 24\"\n",
              "       width=\"24px\">\n",
              "    <path d=\"M0 0h24v24H0V0z\" fill=\"none\"/>\n",
              "    <path d=\"M18.56 5.44l.94 2.06.94-2.06 2.06-.94-2.06-.94-.94-2.06-.94 2.06-2.06.94zm-11 1L8.5 8.5l.94-2.06 2.06-.94-2.06-.94L8.5 2.5l-.94 2.06-2.06.94zm10 10l.94 2.06.94-2.06 2.06-.94-2.06-.94-.94-2.06-.94 2.06-2.06.94z\"/><path d=\"M17.41 7.96l-1.37-1.37c-.4-.4-.92-.59-1.43-.59-.52 0-1.04.2-1.43.59L10.3 9.45l-7.72 7.72c-.78.78-.78 2.05 0 2.83L4 21.41c.39.39.9.59 1.41.59.51 0 1.02-.2 1.41-.59l7.78-7.78 2.81-2.81c.8-.78.8-2.07 0-2.86zM5.41 20L4 18.59l7.72-7.72 1.47 1.35L5.41 20z\"/>\n",
              "  </svg>\n",
              "      </button>\n",
              "      \n",
              "  <style>\n",
              "    .colab-df-container {\n",
              "      display:flex;\n",
              "      flex-wrap:wrap;\n",
              "      gap: 12px;\n",
              "    }\n",
              "\n",
              "    .colab-df-convert {\n",
              "      background-color: #E8F0FE;\n",
              "      border: none;\n",
              "      border-radius: 50%;\n",
              "      cursor: pointer;\n",
              "      display: none;\n",
              "      fill: #1967D2;\n",
              "      height: 32px;\n",
              "      padding: 0 0 0 0;\n",
              "      width: 32px;\n",
              "    }\n",
              "\n",
              "    .colab-df-convert:hover {\n",
              "      background-color: #E2EBFA;\n",
              "      box-shadow: 0px 1px 2px rgba(60, 64, 67, 0.3), 0px 1px 3px 1px rgba(60, 64, 67, 0.15);\n",
              "      fill: #174EA6;\n",
              "    }\n",
              "\n",
              "    [theme=dark] .colab-df-convert {\n",
              "      background-color: #3B4455;\n",
              "      fill: #D2E3FC;\n",
              "    }\n",
              "\n",
              "    [theme=dark] .colab-df-convert:hover {\n",
              "      background-color: #434B5C;\n",
              "      box-shadow: 0px 1px 3px 1px rgba(0, 0, 0, 0.15);\n",
              "      filter: drop-shadow(0px 1px 2px rgba(0, 0, 0, 0.3));\n",
              "      fill: #FFFFFF;\n",
              "    }\n",
              "  </style>\n",
              "\n",
              "      <script>\n",
              "        const buttonEl =\n",
              "          document.querySelector('#df-f95487ac-5469-4b88-b9c8-1f4501191e64 button.colab-df-convert');\n",
              "        buttonEl.style.display =\n",
              "          google.colab.kernel.accessAllowed ? 'block' : 'none';\n",
              "\n",
              "        async function convertToInteractive(key) {\n",
              "          const element = document.querySelector('#df-f95487ac-5469-4b88-b9c8-1f4501191e64');\n",
              "          const dataTable =\n",
              "            await google.colab.kernel.invokeFunction('convertToInteractive',\n",
              "                                                     [key], {});\n",
              "          if (!dataTable) return;\n",
              "\n",
              "          const docLinkHtml = 'Like what you see? Visit the ' +\n",
              "            '<a target=\"_blank\" href=https://colab.research.google.com/notebooks/data_table.ipynb>data table notebook</a>'\n",
              "            + ' to learn more about interactive tables.';\n",
              "          element.innerHTML = '';\n",
              "          dataTable['output_type'] = 'display_data';\n",
              "          await google.colab.output.renderOutput(dataTable, element);\n",
              "          const docLink = document.createElement('div');\n",
              "          docLink.innerHTML = docLinkHtml;\n",
              "          element.appendChild(docLink);\n",
              "        }\n",
              "      </script>\n",
              "    </div>\n",
              "  </div>\n",
              "  "
            ]
          },
          "metadata": {},
          "execution_count": 4
        }
      ],
      "source": [
        "df_eng.head(5)"
      ]
    },
    {
      "cell_type": "code",
      "execution_count": 5,
      "metadata": {
        "id": "2ddIU5SJx-Pg",
        "outputId": "2a0a4127-5a05-48a8-8577-4a3b077bc22e",
        "colab": {
          "base_uri": "https://localhost:8080/",
          "height": 206
        }
      },
      "outputs": [
        {
          "output_type": "execute_result",
          "data": {
            "text/plain": [
              "     Page                                               Text  Label\n",
              "0  Balita  Nagtalaga na ng bagong acting president at chi...      0\n",
              "1  Balita  Sa paglaganap ng text scam, nagbabala si Senad...      0\n",
              "2  Balita  Umapela sa gobyerno ang grupong Confederation ...      0\n",
              "3  Balita  Nagtatago pa rin umano si National Bilibid Pri...      0\n",
              "4  Balita  Mahigpit ang kautusan ni Manila Mayor Honey La...      0"
            ],
            "text/html": [
              "\n",
              "  <div id=\"df-04b02091-e6b6-42f1-b40e-3df4081cbd19\">\n",
              "    <div class=\"colab-df-container\">\n",
              "      <div>\n",
              "<style scoped>\n",
              "    .dataframe tbody tr th:only-of-type {\n",
              "        vertical-align: middle;\n",
              "    }\n",
              "\n",
              "    .dataframe tbody tr th {\n",
              "        vertical-align: top;\n",
              "    }\n",
              "\n",
              "    .dataframe thead th {\n",
              "        text-align: right;\n",
              "    }\n",
              "</style>\n",
              "<table border=\"1\" class=\"dataframe\">\n",
              "  <thead>\n",
              "    <tr style=\"text-align: right;\">\n",
              "      <th></th>\n",
              "      <th>Page</th>\n",
              "      <th>Text</th>\n",
              "      <th>Label</th>\n",
              "    </tr>\n",
              "  </thead>\n",
              "  <tbody>\n",
              "    <tr>\n",
              "      <th>0</th>\n",
              "      <td>Balita</td>\n",
              "      <td>Nagtalaga na ng bagong acting president at chi...</td>\n",
              "      <td>0</td>\n",
              "    </tr>\n",
              "    <tr>\n",
              "      <th>1</th>\n",
              "      <td>Balita</td>\n",
              "      <td>Sa paglaganap ng text scam, nagbabala si Senad...</td>\n",
              "      <td>0</td>\n",
              "    </tr>\n",
              "    <tr>\n",
              "      <th>2</th>\n",
              "      <td>Balita</td>\n",
              "      <td>Umapela sa gobyerno ang grupong Confederation ...</td>\n",
              "      <td>0</td>\n",
              "    </tr>\n",
              "    <tr>\n",
              "      <th>3</th>\n",
              "      <td>Balita</td>\n",
              "      <td>Nagtatago pa rin umano si National Bilibid Pri...</td>\n",
              "      <td>0</td>\n",
              "    </tr>\n",
              "    <tr>\n",
              "      <th>4</th>\n",
              "      <td>Balita</td>\n",
              "      <td>Mahigpit ang kautusan ni Manila Mayor Honey La...</td>\n",
              "      <td>0</td>\n",
              "    </tr>\n",
              "  </tbody>\n",
              "</table>\n",
              "</div>\n",
              "      <button class=\"colab-df-convert\" onclick=\"convertToInteractive('df-04b02091-e6b6-42f1-b40e-3df4081cbd19')\"\n",
              "              title=\"Convert this dataframe to an interactive table.\"\n",
              "              style=\"display:none;\">\n",
              "        \n",
              "  <svg xmlns=\"http://www.w3.org/2000/svg\" height=\"24px\"viewBox=\"0 0 24 24\"\n",
              "       width=\"24px\">\n",
              "    <path d=\"M0 0h24v24H0V0z\" fill=\"none\"/>\n",
              "    <path d=\"M18.56 5.44l.94 2.06.94-2.06 2.06-.94-2.06-.94-.94-2.06-.94 2.06-2.06.94zm-11 1L8.5 8.5l.94-2.06 2.06-.94-2.06-.94L8.5 2.5l-.94 2.06-2.06.94zm10 10l.94 2.06.94-2.06 2.06-.94-2.06-.94-.94-2.06-.94 2.06-2.06.94z\"/><path d=\"M17.41 7.96l-1.37-1.37c-.4-.4-.92-.59-1.43-.59-.52 0-1.04.2-1.43.59L10.3 9.45l-7.72 7.72c-.78.78-.78 2.05 0 2.83L4 21.41c.39.39.9.59 1.41.59.51 0 1.02-.2 1.41-.59l7.78-7.78 2.81-2.81c.8-.78.8-2.07 0-2.86zM5.41 20L4 18.59l7.72-7.72 1.47 1.35L5.41 20z\"/>\n",
              "  </svg>\n",
              "      </button>\n",
              "      \n",
              "  <style>\n",
              "    .colab-df-container {\n",
              "      display:flex;\n",
              "      flex-wrap:wrap;\n",
              "      gap: 12px;\n",
              "    }\n",
              "\n",
              "    .colab-df-convert {\n",
              "      background-color: #E8F0FE;\n",
              "      border: none;\n",
              "      border-radius: 50%;\n",
              "      cursor: pointer;\n",
              "      display: none;\n",
              "      fill: #1967D2;\n",
              "      height: 32px;\n",
              "      padding: 0 0 0 0;\n",
              "      width: 32px;\n",
              "    }\n",
              "\n",
              "    .colab-df-convert:hover {\n",
              "      background-color: #E2EBFA;\n",
              "      box-shadow: 0px 1px 2px rgba(60, 64, 67, 0.3), 0px 1px 3px 1px rgba(60, 64, 67, 0.15);\n",
              "      fill: #174EA6;\n",
              "    }\n",
              "\n",
              "    [theme=dark] .colab-df-convert {\n",
              "      background-color: #3B4455;\n",
              "      fill: #D2E3FC;\n",
              "    }\n",
              "\n",
              "    [theme=dark] .colab-df-convert:hover {\n",
              "      background-color: #434B5C;\n",
              "      box-shadow: 0px 1px 3px 1px rgba(0, 0, 0, 0.15);\n",
              "      filter: drop-shadow(0px 1px 2px rgba(0, 0, 0, 0.3));\n",
              "      fill: #FFFFFF;\n",
              "    }\n",
              "  </style>\n",
              "\n",
              "      <script>\n",
              "        const buttonEl =\n",
              "          document.querySelector('#df-04b02091-e6b6-42f1-b40e-3df4081cbd19 button.colab-df-convert');\n",
              "        buttonEl.style.display =\n",
              "          google.colab.kernel.accessAllowed ? 'block' : 'none';\n",
              "\n",
              "        async function convertToInteractive(key) {\n",
              "          const element = document.querySelector('#df-04b02091-e6b6-42f1-b40e-3df4081cbd19');\n",
              "          const dataTable =\n",
              "            await google.colab.kernel.invokeFunction('convertToInteractive',\n",
              "                                                     [key], {});\n",
              "          if (!dataTable) return;\n",
              "\n",
              "          const docLinkHtml = 'Like what you see? Visit the ' +\n",
              "            '<a target=\"_blank\" href=https://colab.research.google.com/notebooks/data_table.ipynb>data table notebook</a>'\n",
              "            + ' to learn more about interactive tables.';\n",
              "          element.innerHTML = '';\n",
              "          dataTable['output_type'] = 'display_data';\n",
              "          await google.colab.output.renderOutput(dataTable, element);\n",
              "          const docLink = document.createElement('div');\n",
              "          docLink.innerHTML = docLinkHtml;\n",
              "          element.appendChild(docLink);\n",
              "        }\n",
              "      </script>\n",
              "    </div>\n",
              "  </div>\n",
              "  "
            ]
          },
          "metadata": {},
          "execution_count": 5
        }
      ],
      "source": [
        "df_fil.head(5)"
      ]
    },
    {
      "cell_type": "code",
      "execution_count": 6,
      "metadata": {
        "id": "MZ56QVcwx-Pi",
        "outputId": "ddd0ccf1-6656-4de2-880a-df5ea79f442c",
        "colab": {
          "base_uri": "https://localhost:8080/"
        }
      },
      "outputs": [
        {
          "output_type": "execute_result",
          "data": {
            "text/plain": [
              "((1210, 3), (793, 3))"
            ]
          },
          "metadata": {},
          "execution_count": 6
        }
      ],
      "source": [
        "df_eng.shape, df_fil.shape"
      ]
    },
    {
      "cell_type": "markdown",
      "metadata": {
        "id": "QuXdXCIMx-Pk"
      },
      "source": [
        "Merging the main fake and true dataframe"
      ]
    },
    {
      "cell_type": "code",
      "execution_count": 7,
      "metadata": {
        "id": "G5LeEgoEx-Pk",
        "outputId": "92c7a4f5-c1ea-44c3-e97e-3c15f13403ef",
        "colab": {
          "base_uri": "https://localhost:8080/",
          "height": 363
        }
      },
      "outputs": [
        {
          "output_type": "execute_result",
          "data": {
            "text/plain": [
              "              Page                                               Text  Label\n",
              "0  Manila Bulletin  President Ferdinand “Bongbong” Marcos Jr. beli...      0\n",
              "1  Manila Bulletin  A New People’s Army member who has pending war...      0\n",
              "2  Manila Bulletin  Malacañang announced that President Marcos has...      0\n",
              "3  Manila Bulletin  Fisherfolk organizations staged a peaceful ral...      0\n",
              "4  Manila Bulletin  Members of the Northern Police District-Distri...      0\n",
              "5  Manila Bulletin  Secretary of Foreign Affairs Enrique Manalo sa...      0\n",
              "6  Manila Bulletin  CAMP RAFAEL C. RODRIGUEZ, Butuan City – A top ...      0\n",
              "7  Manila Bulletin  The National Bureau of Investigation (NBI) is ...      0\n",
              "8  Manila Bulletin  At least six members of the New People’s Army ...      0\n",
              "9  Manila Bulletin  The Department of Finance (DOF) has vowed to r...      0"
            ],
            "text/html": [
              "\n",
              "  <div id=\"df-bcaa1631-6b3c-4668-a8a0-a1d85bb43ba6\">\n",
              "    <div class=\"colab-df-container\">\n",
              "      <div>\n",
              "<style scoped>\n",
              "    .dataframe tbody tr th:only-of-type {\n",
              "        vertical-align: middle;\n",
              "    }\n",
              "\n",
              "    .dataframe tbody tr th {\n",
              "        vertical-align: top;\n",
              "    }\n",
              "\n",
              "    .dataframe thead th {\n",
              "        text-align: right;\n",
              "    }\n",
              "</style>\n",
              "<table border=\"1\" class=\"dataframe\">\n",
              "  <thead>\n",
              "    <tr style=\"text-align: right;\">\n",
              "      <th></th>\n",
              "      <th>Page</th>\n",
              "      <th>Text</th>\n",
              "      <th>Label</th>\n",
              "    </tr>\n",
              "  </thead>\n",
              "  <tbody>\n",
              "    <tr>\n",
              "      <th>0</th>\n",
              "      <td>Manila Bulletin</td>\n",
              "      <td>President Ferdinand “Bongbong” Marcos Jr. beli...</td>\n",
              "      <td>0</td>\n",
              "    </tr>\n",
              "    <tr>\n",
              "      <th>1</th>\n",
              "      <td>Manila Bulletin</td>\n",
              "      <td>A New People’s Army member who has pending war...</td>\n",
              "      <td>0</td>\n",
              "    </tr>\n",
              "    <tr>\n",
              "      <th>2</th>\n",
              "      <td>Manila Bulletin</td>\n",
              "      <td>Malacañang announced that President Marcos has...</td>\n",
              "      <td>0</td>\n",
              "    </tr>\n",
              "    <tr>\n",
              "      <th>3</th>\n",
              "      <td>Manila Bulletin</td>\n",
              "      <td>Fisherfolk organizations staged a peaceful ral...</td>\n",
              "      <td>0</td>\n",
              "    </tr>\n",
              "    <tr>\n",
              "      <th>4</th>\n",
              "      <td>Manila Bulletin</td>\n",
              "      <td>Members of the Northern Police District-Distri...</td>\n",
              "      <td>0</td>\n",
              "    </tr>\n",
              "    <tr>\n",
              "      <th>5</th>\n",
              "      <td>Manila Bulletin</td>\n",
              "      <td>Secretary of Foreign Affairs Enrique Manalo sa...</td>\n",
              "      <td>0</td>\n",
              "    </tr>\n",
              "    <tr>\n",
              "      <th>6</th>\n",
              "      <td>Manila Bulletin</td>\n",
              "      <td>CAMP RAFAEL C. RODRIGUEZ, Butuan City – A top ...</td>\n",
              "      <td>0</td>\n",
              "    </tr>\n",
              "    <tr>\n",
              "      <th>7</th>\n",
              "      <td>Manila Bulletin</td>\n",
              "      <td>The National Bureau of Investigation (NBI) is ...</td>\n",
              "      <td>0</td>\n",
              "    </tr>\n",
              "    <tr>\n",
              "      <th>8</th>\n",
              "      <td>Manila Bulletin</td>\n",
              "      <td>At least six members of the New People’s Army ...</td>\n",
              "      <td>0</td>\n",
              "    </tr>\n",
              "    <tr>\n",
              "      <th>9</th>\n",
              "      <td>Manila Bulletin</td>\n",
              "      <td>The Department of Finance (DOF) has vowed to r...</td>\n",
              "      <td>0</td>\n",
              "    </tr>\n",
              "  </tbody>\n",
              "</table>\n",
              "</div>\n",
              "      <button class=\"colab-df-convert\" onclick=\"convertToInteractive('df-bcaa1631-6b3c-4668-a8a0-a1d85bb43ba6')\"\n",
              "              title=\"Convert this dataframe to an interactive table.\"\n",
              "              style=\"display:none;\">\n",
              "        \n",
              "  <svg xmlns=\"http://www.w3.org/2000/svg\" height=\"24px\"viewBox=\"0 0 24 24\"\n",
              "       width=\"24px\">\n",
              "    <path d=\"M0 0h24v24H0V0z\" fill=\"none\"/>\n",
              "    <path d=\"M18.56 5.44l.94 2.06.94-2.06 2.06-.94-2.06-.94-.94-2.06-.94 2.06-2.06.94zm-11 1L8.5 8.5l.94-2.06 2.06-.94-2.06-.94L8.5 2.5l-.94 2.06-2.06.94zm10 10l.94 2.06.94-2.06 2.06-.94-2.06-.94-.94-2.06-.94 2.06-2.06.94z\"/><path d=\"M17.41 7.96l-1.37-1.37c-.4-.4-.92-.59-1.43-.59-.52 0-1.04.2-1.43.59L10.3 9.45l-7.72 7.72c-.78.78-.78 2.05 0 2.83L4 21.41c.39.39.9.59 1.41.59.51 0 1.02-.2 1.41-.59l7.78-7.78 2.81-2.81c.8-.78.8-2.07 0-2.86zM5.41 20L4 18.59l7.72-7.72 1.47 1.35L5.41 20z\"/>\n",
              "  </svg>\n",
              "      </button>\n",
              "      \n",
              "  <style>\n",
              "    .colab-df-container {\n",
              "      display:flex;\n",
              "      flex-wrap:wrap;\n",
              "      gap: 12px;\n",
              "    }\n",
              "\n",
              "    .colab-df-convert {\n",
              "      background-color: #E8F0FE;\n",
              "      border: none;\n",
              "      border-radius: 50%;\n",
              "      cursor: pointer;\n",
              "      display: none;\n",
              "      fill: #1967D2;\n",
              "      height: 32px;\n",
              "      padding: 0 0 0 0;\n",
              "      width: 32px;\n",
              "    }\n",
              "\n",
              "    .colab-df-convert:hover {\n",
              "      background-color: #E2EBFA;\n",
              "      box-shadow: 0px 1px 2px rgba(60, 64, 67, 0.3), 0px 1px 3px 1px rgba(60, 64, 67, 0.15);\n",
              "      fill: #174EA6;\n",
              "    }\n",
              "\n",
              "    [theme=dark] .colab-df-convert {\n",
              "      background-color: #3B4455;\n",
              "      fill: #D2E3FC;\n",
              "    }\n",
              "\n",
              "    [theme=dark] .colab-df-convert:hover {\n",
              "      background-color: #434B5C;\n",
              "      box-shadow: 0px 1px 3px 1px rgba(0, 0, 0, 0.15);\n",
              "      filter: drop-shadow(0px 1px 2px rgba(0, 0, 0, 0.3));\n",
              "      fill: #FFFFFF;\n",
              "    }\n",
              "  </style>\n",
              "\n",
              "      <script>\n",
              "        const buttonEl =\n",
              "          document.querySelector('#df-bcaa1631-6b3c-4668-a8a0-a1d85bb43ba6 button.colab-df-convert');\n",
              "        buttonEl.style.display =\n",
              "          google.colab.kernel.accessAllowed ? 'block' : 'none';\n",
              "\n",
              "        async function convertToInteractive(key) {\n",
              "          const element = document.querySelector('#df-bcaa1631-6b3c-4668-a8a0-a1d85bb43ba6');\n",
              "          const dataTable =\n",
              "            await google.colab.kernel.invokeFunction('convertToInteractive',\n",
              "                                                     [key], {});\n",
              "          if (!dataTable) return;\n",
              "\n",
              "          const docLinkHtml = 'Like what you see? Visit the ' +\n",
              "            '<a target=\"_blank\" href=https://colab.research.google.com/notebooks/data_table.ipynb>data table notebook</a>'\n",
              "            + ' to learn more about interactive tables.';\n",
              "          element.innerHTML = '';\n",
              "          dataTable['output_type'] = 'display_data';\n",
              "          await google.colab.output.renderOutput(dataTable, element);\n",
              "          const docLink = document.createElement('div');\n",
              "          docLink.innerHTML = docLinkHtml;\n",
              "          element.appendChild(docLink);\n",
              "        }\n",
              "      </script>\n",
              "    </div>\n",
              "  </div>\n",
              "  "
            ]
          },
          "metadata": {},
          "execution_count": 7
        }
      ],
      "source": [
        "df_merge = pd.concat([df_eng, df_fil], axis =0 )\n",
        "df_merge.head(10)"
      ]
    },
    {
      "cell_type": "code",
      "execution_count": 8,
      "metadata": {
        "id": "Avbh-v4Nx-Pl",
        "outputId": "5ce00f17-5199-4765-95b0-bf5e0ff7a464",
        "colab": {
          "base_uri": "https://localhost:8080/"
        }
      },
      "outputs": [
        {
          "output_type": "execute_result",
          "data": {
            "text/plain": [
              "Index(['Page', 'Text', 'Label'], dtype='object')"
            ]
          },
          "metadata": {},
          "execution_count": 8
        }
      ],
      "source": [
        "df_merge.columns"
      ]
    },
    {
      "cell_type": "markdown",
      "metadata": {
        "id": "LASAhNRAx-Pl"
      },
      "source": [
        "#### Dropping unnecessary columns columns "
      ]
    },
    {
      "cell_type": "code",
      "execution_count": 9,
      "metadata": {
        "id": "L3QqZWiPx-Pl",
        "colab": {
          "base_uri": "https://localhost:8080/",
          "height": 363
        },
        "outputId": "e2102c2e-68a1-4e21-c5bf-d4dc79f4435f"
      },
      "outputs": [
        {
          "output_type": "execute_result",
          "data": {
            "text/plain": [
              "                                                Text  Label\n",
              "0  President Ferdinand “Bongbong” Marcos Jr. beli...      0\n",
              "1  A New People’s Army member who has pending war...      0\n",
              "2  Malacañang announced that President Marcos has...      0\n",
              "3  Fisherfolk organizations staged a peaceful ral...      0\n",
              "4  Members of the Northern Police District-Distri...      0\n",
              "5  Secretary of Foreign Affairs Enrique Manalo sa...      0\n",
              "6  CAMP RAFAEL C. RODRIGUEZ, Butuan City – A top ...      0\n",
              "7  The National Bureau of Investigation (NBI) is ...      0\n",
              "8  At least six members of the New People’s Army ...      0\n",
              "9  The Department of Finance (DOF) has vowed to r...      0"
            ],
            "text/html": [
              "\n",
              "  <div id=\"df-a1fd516a-7f7a-4fe0-8eca-3b2984263bd8\">\n",
              "    <div class=\"colab-df-container\">\n",
              "      <div>\n",
              "<style scoped>\n",
              "    .dataframe tbody tr th:only-of-type {\n",
              "        vertical-align: middle;\n",
              "    }\n",
              "\n",
              "    .dataframe tbody tr th {\n",
              "        vertical-align: top;\n",
              "    }\n",
              "\n",
              "    .dataframe thead th {\n",
              "        text-align: right;\n",
              "    }\n",
              "</style>\n",
              "<table border=\"1\" class=\"dataframe\">\n",
              "  <thead>\n",
              "    <tr style=\"text-align: right;\">\n",
              "      <th></th>\n",
              "      <th>Text</th>\n",
              "      <th>Label</th>\n",
              "    </tr>\n",
              "  </thead>\n",
              "  <tbody>\n",
              "    <tr>\n",
              "      <th>0</th>\n",
              "      <td>President Ferdinand “Bongbong” Marcos Jr. beli...</td>\n",
              "      <td>0</td>\n",
              "    </tr>\n",
              "    <tr>\n",
              "      <th>1</th>\n",
              "      <td>A New People’s Army member who has pending war...</td>\n",
              "      <td>0</td>\n",
              "    </tr>\n",
              "    <tr>\n",
              "      <th>2</th>\n",
              "      <td>Malacañang announced that President Marcos has...</td>\n",
              "      <td>0</td>\n",
              "    </tr>\n",
              "    <tr>\n",
              "      <th>3</th>\n",
              "      <td>Fisherfolk organizations staged a peaceful ral...</td>\n",
              "      <td>0</td>\n",
              "    </tr>\n",
              "    <tr>\n",
              "      <th>4</th>\n",
              "      <td>Members of the Northern Police District-Distri...</td>\n",
              "      <td>0</td>\n",
              "    </tr>\n",
              "    <tr>\n",
              "      <th>5</th>\n",
              "      <td>Secretary of Foreign Affairs Enrique Manalo sa...</td>\n",
              "      <td>0</td>\n",
              "    </tr>\n",
              "    <tr>\n",
              "      <th>6</th>\n",
              "      <td>CAMP RAFAEL C. RODRIGUEZ, Butuan City – A top ...</td>\n",
              "      <td>0</td>\n",
              "    </tr>\n",
              "    <tr>\n",
              "      <th>7</th>\n",
              "      <td>The National Bureau of Investigation (NBI) is ...</td>\n",
              "      <td>0</td>\n",
              "    </tr>\n",
              "    <tr>\n",
              "      <th>8</th>\n",
              "      <td>At least six members of the New People’s Army ...</td>\n",
              "      <td>0</td>\n",
              "    </tr>\n",
              "    <tr>\n",
              "      <th>9</th>\n",
              "      <td>The Department of Finance (DOF) has vowed to r...</td>\n",
              "      <td>0</td>\n",
              "    </tr>\n",
              "  </tbody>\n",
              "</table>\n",
              "</div>\n",
              "      <button class=\"colab-df-convert\" onclick=\"convertToInteractive('df-a1fd516a-7f7a-4fe0-8eca-3b2984263bd8')\"\n",
              "              title=\"Convert this dataframe to an interactive table.\"\n",
              "              style=\"display:none;\">\n",
              "        \n",
              "  <svg xmlns=\"http://www.w3.org/2000/svg\" height=\"24px\"viewBox=\"0 0 24 24\"\n",
              "       width=\"24px\">\n",
              "    <path d=\"M0 0h24v24H0V0z\" fill=\"none\"/>\n",
              "    <path d=\"M18.56 5.44l.94 2.06.94-2.06 2.06-.94-2.06-.94-.94-2.06-.94 2.06-2.06.94zm-11 1L8.5 8.5l.94-2.06 2.06-.94-2.06-.94L8.5 2.5l-.94 2.06-2.06.94zm10 10l.94 2.06.94-2.06 2.06-.94-2.06-.94-.94-2.06-.94 2.06-2.06.94z\"/><path d=\"M17.41 7.96l-1.37-1.37c-.4-.4-.92-.59-1.43-.59-.52 0-1.04.2-1.43.59L10.3 9.45l-7.72 7.72c-.78.78-.78 2.05 0 2.83L4 21.41c.39.39.9.59 1.41.59.51 0 1.02-.2 1.41-.59l7.78-7.78 2.81-2.81c.8-.78.8-2.07 0-2.86zM5.41 20L4 18.59l7.72-7.72 1.47 1.35L5.41 20z\"/>\n",
              "  </svg>\n",
              "      </button>\n",
              "      \n",
              "  <style>\n",
              "    .colab-df-container {\n",
              "      display:flex;\n",
              "      flex-wrap:wrap;\n",
              "      gap: 12px;\n",
              "    }\n",
              "\n",
              "    .colab-df-convert {\n",
              "      background-color: #E8F0FE;\n",
              "      border: none;\n",
              "      border-radius: 50%;\n",
              "      cursor: pointer;\n",
              "      display: none;\n",
              "      fill: #1967D2;\n",
              "      height: 32px;\n",
              "      padding: 0 0 0 0;\n",
              "      width: 32px;\n",
              "    }\n",
              "\n",
              "    .colab-df-convert:hover {\n",
              "      background-color: #E2EBFA;\n",
              "      box-shadow: 0px 1px 2px rgba(60, 64, 67, 0.3), 0px 1px 3px 1px rgba(60, 64, 67, 0.15);\n",
              "      fill: #174EA6;\n",
              "    }\n",
              "\n",
              "    [theme=dark] .colab-df-convert {\n",
              "      background-color: #3B4455;\n",
              "      fill: #D2E3FC;\n",
              "    }\n",
              "\n",
              "    [theme=dark] .colab-df-convert:hover {\n",
              "      background-color: #434B5C;\n",
              "      box-shadow: 0px 1px 3px 1px rgba(0, 0, 0, 0.15);\n",
              "      filter: drop-shadow(0px 1px 2px rgba(0, 0, 0, 0.3));\n",
              "      fill: #FFFFFF;\n",
              "    }\n",
              "  </style>\n",
              "\n",
              "      <script>\n",
              "        const buttonEl =\n",
              "          document.querySelector('#df-a1fd516a-7f7a-4fe0-8eca-3b2984263bd8 button.colab-df-convert');\n",
              "        buttonEl.style.display =\n",
              "          google.colab.kernel.accessAllowed ? 'block' : 'none';\n",
              "\n",
              "        async function convertToInteractive(key) {\n",
              "          const element = document.querySelector('#df-a1fd516a-7f7a-4fe0-8eca-3b2984263bd8');\n",
              "          const dataTable =\n",
              "            await google.colab.kernel.invokeFunction('convertToInteractive',\n",
              "                                                     [key], {});\n",
              "          if (!dataTable) return;\n",
              "\n",
              "          const docLinkHtml = 'Like what you see? Visit the ' +\n",
              "            '<a target=\"_blank\" href=https://colab.research.google.com/notebooks/data_table.ipynb>data table notebook</a>'\n",
              "            + ' to learn more about interactive tables.';\n",
              "          element.innerHTML = '';\n",
              "          dataTable['output_type'] = 'display_data';\n",
              "          await google.colab.output.renderOutput(dataTable, element);\n",
              "          const docLink = document.createElement('div');\n",
              "          docLink.innerHTML = docLinkHtml;\n",
              "          element.appendChild(docLink);\n",
              "        }\n",
              "      </script>\n",
              "    </div>\n",
              "  </div>\n",
              "  "
            ]
          },
          "metadata": {},
          "execution_count": 9
        }
      ],
      "source": [
        "df = df_merge.drop([\"Page\"], axis = 1)\n",
        "df.head(10)"
      ]
    },
    {
      "cell_type": "code",
      "execution_count": 10,
      "metadata": {
        "id": "0wbRVI9wx-Pm",
        "outputId": "b494b299-5178-4c8b-8b6a-aaa97b6be291",
        "colab": {
          "base_uri": "https://localhost:8080/"
        }
      },
      "outputs": [
        {
          "output_type": "execute_result",
          "data": {
            "text/plain": [
              "Text     0\n",
              "Label    0\n",
              "dtype: int64"
            ]
          },
          "metadata": {},
          "execution_count": 10
        }
      ],
      "source": [
        "df.isnull().sum()"
      ]
    },
    {
      "cell_type": "markdown",
      "metadata": {
        "id": "iEGswMdix-Pm"
      },
      "source": [
        "#### Randomly shuffling the dataframe "
      ]
    },
    {
      "cell_type": "code",
      "execution_count": 11,
      "metadata": {
        "id": "ueitSSRBx-Pm"
      },
      "outputs": [],
      "source": [
        "df = df.sample(frac = 1)"
      ]
    },
    {
      "cell_type": "code",
      "execution_count": 12,
      "metadata": {
        "id": "p2a7LYScx-Pm",
        "outputId": "1f07566f-8701-45b7-9108-e9a293308ed7",
        "colab": {
          "base_uri": "https://localhost:8080/",
          "height": 206
        }
      },
      "outputs": [
        {
          "output_type": "execute_result",
          "data": {
            "text/plain": [
              "                                                   Text  Label\n",
              "515   \"How do the members of the campaign team of Le...      1\n",
              "1105  RAPPLER’S TWEET: In a tweet dated May 6, Rappl...      1\n",
              "424   Sinabi ni reelectionist Senator Leila de Lima ...      0\n",
              "186   Ika-walong Cabinet meeting sa Palasyo ng Malak...      0\n",
              "150   President Ferdinand Marcos Jr. on Thursday sai...      0"
            ],
            "text/html": [
              "\n",
              "  <div id=\"df-c4d3f0bf-fb41-4348-bc25-78c1237168fd\">\n",
              "    <div class=\"colab-df-container\">\n",
              "      <div>\n",
              "<style scoped>\n",
              "    .dataframe tbody tr th:only-of-type {\n",
              "        vertical-align: middle;\n",
              "    }\n",
              "\n",
              "    .dataframe tbody tr th {\n",
              "        vertical-align: top;\n",
              "    }\n",
              "\n",
              "    .dataframe thead th {\n",
              "        text-align: right;\n",
              "    }\n",
              "</style>\n",
              "<table border=\"1\" class=\"dataframe\">\n",
              "  <thead>\n",
              "    <tr style=\"text-align: right;\">\n",
              "      <th></th>\n",
              "      <th>Text</th>\n",
              "      <th>Label</th>\n",
              "    </tr>\n",
              "  </thead>\n",
              "  <tbody>\n",
              "    <tr>\n",
              "      <th>515</th>\n",
              "      <td>\"How do the members of the campaign team of Le...</td>\n",
              "      <td>1</td>\n",
              "    </tr>\n",
              "    <tr>\n",
              "      <th>1105</th>\n",
              "      <td>RAPPLER’S TWEET: In a tweet dated May 6, Rappl...</td>\n",
              "      <td>1</td>\n",
              "    </tr>\n",
              "    <tr>\n",
              "      <th>424</th>\n",
              "      <td>Sinabi ni reelectionist Senator Leila de Lima ...</td>\n",
              "      <td>0</td>\n",
              "    </tr>\n",
              "    <tr>\n",
              "      <th>186</th>\n",
              "      <td>Ika-walong Cabinet meeting sa Palasyo ng Malak...</td>\n",
              "      <td>0</td>\n",
              "    </tr>\n",
              "    <tr>\n",
              "      <th>150</th>\n",
              "      <td>President Ferdinand Marcos Jr. on Thursday sai...</td>\n",
              "      <td>0</td>\n",
              "    </tr>\n",
              "  </tbody>\n",
              "</table>\n",
              "</div>\n",
              "      <button class=\"colab-df-convert\" onclick=\"convertToInteractive('df-c4d3f0bf-fb41-4348-bc25-78c1237168fd')\"\n",
              "              title=\"Convert this dataframe to an interactive table.\"\n",
              "              style=\"display:none;\">\n",
              "        \n",
              "  <svg xmlns=\"http://www.w3.org/2000/svg\" height=\"24px\"viewBox=\"0 0 24 24\"\n",
              "       width=\"24px\">\n",
              "    <path d=\"M0 0h24v24H0V0z\" fill=\"none\"/>\n",
              "    <path d=\"M18.56 5.44l.94 2.06.94-2.06 2.06-.94-2.06-.94-.94-2.06-.94 2.06-2.06.94zm-11 1L8.5 8.5l.94-2.06 2.06-.94-2.06-.94L8.5 2.5l-.94 2.06-2.06.94zm10 10l.94 2.06.94-2.06 2.06-.94-2.06-.94-.94-2.06-.94 2.06-2.06.94z\"/><path d=\"M17.41 7.96l-1.37-1.37c-.4-.4-.92-.59-1.43-.59-.52 0-1.04.2-1.43.59L10.3 9.45l-7.72 7.72c-.78.78-.78 2.05 0 2.83L4 21.41c.39.39.9.59 1.41.59.51 0 1.02-.2 1.41-.59l7.78-7.78 2.81-2.81c.8-.78.8-2.07 0-2.86zM5.41 20L4 18.59l7.72-7.72 1.47 1.35L5.41 20z\"/>\n",
              "  </svg>\n",
              "      </button>\n",
              "      \n",
              "  <style>\n",
              "    .colab-df-container {\n",
              "      display:flex;\n",
              "      flex-wrap:wrap;\n",
              "      gap: 12px;\n",
              "    }\n",
              "\n",
              "    .colab-df-convert {\n",
              "      background-color: #E8F0FE;\n",
              "      border: none;\n",
              "      border-radius: 50%;\n",
              "      cursor: pointer;\n",
              "      display: none;\n",
              "      fill: #1967D2;\n",
              "      height: 32px;\n",
              "      padding: 0 0 0 0;\n",
              "      width: 32px;\n",
              "    }\n",
              "\n",
              "    .colab-df-convert:hover {\n",
              "      background-color: #E2EBFA;\n",
              "      box-shadow: 0px 1px 2px rgba(60, 64, 67, 0.3), 0px 1px 3px 1px rgba(60, 64, 67, 0.15);\n",
              "      fill: #174EA6;\n",
              "    }\n",
              "\n",
              "    [theme=dark] .colab-df-convert {\n",
              "      background-color: #3B4455;\n",
              "      fill: #D2E3FC;\n",
              "    }\n",
              "\n",
              "    [theme=dark] .colab-df-convert:hover {\n",
              "      background-color: #434B5C;\n",
              "      box-shadow: 0px 1px 3px 1px rgba(0, 0, 0, 0.15);\n",
              "      filter: drop-shadow(0px 1px 2px rgba(0, 0, 0, 0.3));\n",
              "      fill: #FFFFFF;\n",
              "    }\n",
              "  </style>\n",
              "\n",
              "      <script>\n",
              "        const buttonEl =\n",
              "          document.querySelector('#df-c4d3f0bf-fb41-4348-bc25-78c1237168fd button.colab-df-convert');\n",
              "        buttonEl.style.display =\n",
              "          google.colab.kernel.accessAllowed ? 'block' : 'none';\n",
              "\n",
              "        async function convertToInteractive(key) {\n",
              "          const element = document.querySelector('#df-c4d3f0bf-fb41-4348-bc25-78c1237168fd');\n",
              "          const dataTable =\n",
              "            await google.colab.kernel.invokeFunction('convertToInteractive',\n",
              "                                                     [key], {});\n",
              "          if (!dataTable) return;\n",
              "\n",
              "          const docLinkHtml = 'Like what you see? Visit the ' +\n",
              "            '<a target=\"_blank\" href=https://colab.research.google.com/notebooks/data_table.ipynb>data table notebook</a>'\n",
              "            + ' to learn more about interactive tables.';\n",
              "          element.innerHTML = '';\n",
              "          dataTable['output_type'] = 'display_data';\n",
              "          await google.colab.output.renderOutput(dataTable, element);\n",
              "          const docLink = document.createElement('div');\n",
              "          docLink.innerHTML = docLinkHtml;\n",
              "          element.appendChild(docLink);\n",
              "        }\n",
              "      </script>\n",
              "    </div>\n",
              "  </div>\n",
              "  "
            ]
          },
          "metadata": {},
          "execution_count": 12
        }
      ],
      "source": [
        "df.head()"
      ]
    },
    {
      "cell_type": "code",
      "execution_count": 13,
      "metadata": {
        "id": "ctX3Ex2kx-Pn"
      },
      "outputs": [],
      "source": [
        "df.reset_index(inplace = True)\n",
        "df.drop([\"index\"], axis = 1, inplace = True)"
      ]
    },
    {
      "cell_type": "code",
      "execution_count": 14,
      "metadata": {
        "id": "qVF2YKByx-Pn",
        "outputId": "039d41d1-98da-4f81-96b4-c6aedf5668ab",
        "colab": {
          "base_uri": "https://localhost:8080/"
        }
      },
      "outputs": [
        {
          "output_type": "execute_result",
          "data": {
            "text/plain": [
              "Index(['Text', 'Label'], dtype='object')"
            ]
          },
          "metadata": {},
          "execution_count": 14
        }
      ],
      "source": [
        "df.columns"
      ]
    },
    {
      "cell_type": "code",
      "execution_count": 15,
      "metadata": {
        "id": "LB-IoNnsx-Pn",
        "outputId": "acfa03c0-1064-48ea-cce0-b0f4d703a63a",
        "colab": {
          "base_uri": "https://localhost:8080/",
          "height": 206
        }
      },
      "outputs": [
        {
          "output_type": "execute_result",
          "data": {
            "text/plain": [
              "                                                Text  Label\n",
              "0  \"How do the members of the campaign team of Le...      1\n",
              "1  RAPPLER’S TWEET: In a tweet dated May 6, Rappl...      1\n",
              "2  Sinabi ni reelectionist Senator Leila de Lima ...      0\n",
              "3  Ika-walong Cabinet meeting sa Palasyo ng Malak...      0\n",
              "4  President Ferdinand Marcos Jr. on Thursday sai...      0"
            ],
            "text/html": [
              "\n",
              "  <div id=\"df-30d363a0-136a-4158-9318-ec381fae5036\">\n",
              "    <div class=\"colab-df-container\">\n",
              "      <div>\n",
              "<style scoped>\n",
              "    .dataframe tbody tr th:only-of-type {\n",
              "        vertical-align: middle;\n",
              "    }\n",
              "\n",
              "    .dataframe tbody tr th {\n",
              "        vertical-align: top;\n",
              "    }\n",
              "\n",
              "    .dataframe thead th {\n",
              "        text-align: right;\n",
              "    }\n",
              "</style>\n",
              "<table border=\"1\" class=\"dataframe\">\n",
              "  <thead>\n",
              "    <tr style=\"text-align: right;\">\n",
              "      <th></th>\n",
              "      <th>Text</th>\n",
              "      <th>Label</th>\n",
              "    </tr>\n",
              "  </thead>\n",
              "  <tbody>\n",
              "    <tr>\n",
              "      <th>0</th>\n",
              "      <td>\"How do the members of the campaign team of Le...</td>\n",
              "      <td>1</td>\n",
              "    </tr>\n",
              "    <tr>\n",
              "      <th>1</th>\n",
              "      <td>RAPPLER’S TWEET: In a tweet dated May 6, Rappl...</td>\n",
              "      <td>1</td>\n",
              "    </tr>\n",
              "    <tr>\n",
              "      <th>2</th>\n",
              "      <td>Sinabi ni reelectionist Senator Leila de Lima ...</td>\n",
              "      <td>0</td>\n",
              "    </tr>\n",
              "    <tr>\n",
              "      <th>3</th>\n",
              "      <td>Ika-walong Cabinet meeting sa Palasyo ng Malak...</td>\n",
              "      <td>0</td>\n",
              "    </tr>\n",
              "    <tr>\n",
              "      <th>4</th>\n",
              "      <td>President Ferdinand Marcos Jr. on Thursday sai...</td>\n",
              "      <td>0</td>\n",
              "    </tr>\n",
              "  </tbody>\n",
              "</table>\n",
              "</div>\n",
              "      <button class=\"colab-df-convert\" onclick=\"convertToInteractive('df-30d363a0-136a-4158-9318-ec381fae5036')\"\n",
              "              title=\"Convert this dataframe to an interactive table.\"\n",
              "              style=\"display:none;\">\n",
              "        \n",
              "  <svg xmlns=\"http://www.w3.org/2000/svg\" height=\"24px\"viewBox=\"0 0 24 24\"\n",
              "       width=\"24px\">\n",
              "    <path d=\"M0 0h24v24H0V0z\" fill=\"none\"/>\n",
              "    <path d=\"M18.56 5.44l.94 2.06.94-2.06 2.06-.94-2.06-.94-.94-2.06-.94 2.06-2.06.94zm-11 1L8.5 8.5l.94-2.06 2.06-.94-2.06-.94L8.5 2.5l-.94 2.06-2.06.94zm10 10l.94 2.06.94-2.06 2.06-.94-2.06-.94-.94-2.06-.94 2.06-2.06.94z\"/><path d=\"M17.41 7.96l-1.37-1.37c-.4-.4-.92-.59-1.43-.59-.52 0-1.04.2-1.43.59L10.3 9.45l-7.72 7.72c-.78.78-.78 2.05 0 2.83L4 21.41c.39.39.9.59 1.41.59.51 0 1.02-.2 1.41-.59l7.78-7.78 2.81-2.81c.8-.78.8-2.07 0-2.86zM5.41 20L4 18.59l7.72-7.72 1.47 1.35L5.41 20z\"/>\n",
              "  </svg>\n",
              "      </button>\n",
              "      \n",
              "  <style>\n",
              "    .colab-df-container {\n",
              "      display:flex;\n",
              "      flex-wrap:wrap;\n",
              "      gap: 12px;\n",
              "    }\n",
              "\n",
              "    .colab-df-convert {\n",
              "      background-color: #E8F0FE;\n",
              "      border: none;\n",
              "      border-radius: 50%;\n",
              "      cursor: pointer;\n",
              "      display: none;\n",
              "      fill: #1967D2;\n",
              "      height: 32px;\n",
              "      padding: 0 0 0 0;\n",
              "      width: 32px;\n",
              "    }\n",
              "\n",
              "    .colab-df-convert:hover {\n",
              "      background-color: #E2EBFA;\n",
              "      box-shadow: 0px 1px 2px rgba(60, 64, 67, 0.3), 0px 1px 3px 1px rgba(60, 64, 67, 0.15);\n",
              "      fill: #174EA6;\n",
              "    }\n",
              "\n",
              "    [theme=dark] .colab-df-convert {\n",
              "      background-color: #3B4455;\n",
              "      fill: #D2E3FC;\n",
              "    }\n",
              "\n",
              "    [theme=dark] .colab-df-convert:hover {\n",
              "      background-color: #434B5C;\n",
              "      box-shadow: 0px 1px 3px 1px rgba(0, 0, 0, 0.15);\n",
              "      filter: drop-shadow(0px 1px 2px rgba(0, 0, 0, 0.3));\n",
              "      fill: #FFFFFF;\n",
              "    }\n",
              "  </style>\n",
              "\n",
              "      <script>\n",
              "        const buttonEl =\n",
              "          document.querySelector('#df-30d363a0-136a-4158-9318-ec381fae5036 button.colab-df-convert');\n",
              "        buttonEl.style.display =\n",
              "          google.colab.kernel.accessAllowed ? 'block' : 'none';\n",
              "\n",
              "        async function convertToInteractive(key) {\n",
              "          const element = document.querySelector('#df-30d363a0-136a-4158-9318-ec381fae5036');\n",
              "          const dataTable =\n",
              "            await google.colab.kernel.invokeFunction('convertToInteractive',\n",
              "                                                     [key], {});\n",
              "          if (!dataTable) return;\n",
              "\n",
              "          const docLinkHtml = 'Like what you see? Visit the ' +\n",
              "            '<a target=\"_blank\" href=https://colab.research.google.com/notebooks/data_table.ipynb>data table notebook</a>'\n",
              "            + ' to learn more about interactive tables.';\n",
              "          element.innerHTML = '';\n",
              "          dataTable['output_type'] = 'display_data';\n",
              "          await google.colab.output.renderOutput(dataTable, element);\n",
              "          const docLink = document.createElement('div');\n",
              "          docLink.innerHTML = docLinkHtml;\n",
              "          element.appendChild(docLink);\n",
              "        }\n",
              "      </script>\n",
              "    </div>\n",
              "  </div>\n",
              "  "
            ]
          },
          "metadata": {},
          "execution_count": 15
        }
      ],
      "source": [
        "df.head()"
      ]
    },
    {
      "cell_type": "markdown",
      "metadata": {
        "id": "h4_E9Qdsx-Po"
      },
      "source": [
        "#### Defining independent and dependent variables as x and y"
      ]
    },
    {
      "cell_type": "code",
      "execution_count": 16,
      "metadata": {
        "id": "hcBa4Tl5x-Po"
      },
      "outputs": [],
      "source": [
        "x = df[\"Text\"]\n",
        "y = df[\"Label\"]\n",
        "#print(x)"
      ]
    },
    {
      "cell_type": "markdown",
      "metadata": {
        "id": "cpl9jIi7x-Pn"
      },
      "source": [
        "#### Creating a function to convert the text in lowercase, remove the extra space, special chr., ulr and links."
      ]
    },
    {
      "cell_type": "code",
      "execution_count": 17,
      "metadata": {
        "id": "X4AiMAYwx-Pn"
      },
      "outputs": [],
      "source": [
        "def wordopt(text):\n",
        "    text = text.lower()\n",
        "    text = re.sub('\\[.*?\\]', '', text)\n",
        "    text = re.sub(\"\\\\W\",\" \",text) \n",
        "    text = re.sub('https?://\\S+|www\\.\\S+', '', text)\n",
        "    text = re.sub('<.*?>+', '', text)\n",
        "    text = re.sub('[%s]' % re.escape(string.punctuation), '', text)\n",
        "    text = re.sub('\\n', '', text)\n",
        "    text = re.sub('\\w*\\d\\w*', '', text)    \n",
        "    return text"
      ]
    },
    {
      "cell_type": "code",
      "execution_count": 18,
      "metadata": {
        "id": "tfsUbhLIx-Po"
      },
      "outputs": [],
      "source": [
        "df[\"Text\"] = df[\"Text\"].apply(wordopt)"
      ]
    },
    {
      "cell_type": "markdown",
      "metadata": {
        "id": "DsMuMq7Vx-Po"
      },
      "source": [
        "#### Splitting the dataset into training set and testing set. "
      ]
    },
    {
      "cell_type": "code",
      "execution_count": 19,
      "metadata": {
        "id": "itqeKcJjx-Po"
      },
      "outputs": [],
      "source": [
        "x_train, x_test, y_train, y_test = train_test_split(x, y, test_size=0.2)"
      ]
    },
    {
      "cell_type": "markdown",
      "metadata": {
        "id": "N_W0p4vZx-Po"
      },
      "source": [
        "#### Convert text to vectors"
      ]
    },
    {
      "cell_type": "code",
      "execution_count": 20,
      "metadata": {
        "id": "Rn38-OQnx-Po"
      },
      "outputs": [],
      "source": [
        "from sklearn.feature_extraction.text import TfidfVectorizer"
      ]
    },
    {
      "cell_type": "code",
      "execution_count": 21,
      "metadata": {
        "id": "XgJAteQAx-Po"
      },
      "outputs": [],
      "source": [
        "vectorization = TfidfVectorizer()\n",
        "X = vectorization.fit_transform(x)\n",
        "xv_train = vectorization.transform(x_train)\n",
        "xv_test = vectorization.transform(x_test)\n",
        "#print(X)"
      ]
    },
    {
      "cell_type": "markdown",
      "metadata": {
        "id": "6QO011-vx-Pp"
      },
      "source": [
        "### 1. Logistic Regression"
      ]
    },
    {
      "cell_type": "code",
      "execution_count": null,
      "metadata": {
        "id": "SyOrtroox-Pp"
      },
      "outputs": [],
      "source": [
        "from sklearn.linear_model import LogisticRegression"
      ]
    },
    {
      "cell_type": "code",
      "execution_count": null,
      "metadata": {
        "id": "ZG1v2Vvox-Pp",
        "outputId": "cabaf7c3-5341-4273-9996-b582995b7e42",
        "colab": {
          "base_uri": "https://localhost:8080/"
        }
      },
      "outputs": [
        {
          "output_type": "stream",
          "name": "stderr",
          "text": [
            "/usr/local/lib/python3.8/dist-packages/sklearn/linear_model/_sag.py:352: ConvergenceWarning: The max_iter was reached which means the coef_ did not converge\n",
            "  warnings.warn(\n"
          ]
        },
        {
          "output_type": "execute_result",
          "data": {
            "text/plain": [
              "LogisticRegression(C=100, max_iter=1000, penalty='l1', solver='saga')"
            ]
          },
          "metadata": {},
          "execution_count": 23
        }
      ],
      "source": [
        "LR = LogisticRegression(solver='saga', penalty='l1', \n",
        "                        max_iter=1000, C=100)\n",
        "LR.fit(xv_train,y_train)"
      ]
    },
    {
      "cell_type": "code",
      "execution_count": null,
      "metadata": {
        "id": "2feqcGIYx-Pp"
      },
      "outputs": [],
      "source": [
        "pred_lr=LR.predict(xv_test)"
      ]
    },
    {
      "cell_type": "code",
      "execution_count": null,
      "metadata": {
        "id": "yIFa-K1Ix-Pp",
        "outputId": "ce80f19a-0460-4abd-e896-6e596f17ea3b",
        "colab": {
          "base_uri": "https://localhost:8080/"
        }
      },
      "outputs": [
        {
          "output_type": "execute_result",
          "data": {
            "text/plain": [
              "0.9675810473815462"
            ]
          },
          "metadata": {},
          "execution_count": 25
        }
      ],
      "source": [
        "LR.score(xv_test, y_test)"
      ]
    },
    {
      "cell_type": "code",
      "source": [
        "# cross validation\n",
        "from sklearn.model_selection import cross_val_score\n",
        "score_lr = cross_val_score(LR, X, y,cv=10)\n",
        "print(score_lr)\n",
        "print(score_lr.mean())"
      ],
      "metadata": {
        "colab": {
          "base_uri": "https://localhost:8080/"
        },
        "id": "fVauOURCN36J",
        "outputId": "f681e0f3-9743-4671-d2de-0fa09613e13c"
      },
      "execution_count": null,
      "outputs": [
        {
          "output_type": "stream",
          "name": "stderr",
          "text": [
            "/usr/local/lib/python3.8/dist-packages/sklearn/linear_model/_sag.py:352: ConvergenceWarning: The max_iter was reached which means the coef_ did not converge\n",
            "  warnings.warn(\n",
            "/usr/local/lib/python3.8/dist-packages/sklearn/linear_model/_sag.py:352: ConvergenceWarning: The max_iter was reached which means the coef_ did not converge\n",
            "  warnings.warn(\n",
            "/usr/local/lib/python3.8/dist-packages/sklearn/linear_model/_sag.py:352: ConvergenceWarning: The max_iter was reached which means the coef_ did not converge\n",
            "  warnings.warn(\n",
            "/usr/local/lib/python3.8/dist-packages/sklearn/linear_model/_sag.py:352: ConvergenceWarning: The max_iter was reached which means the coef_ did not converge\n",
            "  warnings.warn(\n",
            "/usr/local/lib/python3.8/dist-packages/sklearn/linear_model/_sag.py:352: ConvergenceWarning: The max_iter was reached which means the coef_ did not converge\n",
            "  warnings.warn(\n",
            "/usr/local/lib/python3.8/dist-packages/sklearn/linear_model/_sag.py:352: ConvergenceWarning: The max_iter was reached which means the coef_ did not converge\n",
            "  warnings.warn(\n",
            "/usr/local/lib/python3.8/dist-packages/sklearn/linear_model/_sag.py:352: ConvergenceWarning: The max_iter was reached which means the coef_ did not converge\n",
            "  warnings.warn(\n",
            "/usr/local/lib/python3.8/dist-packages/sklearn/linear_model/_sag.py:352: ConvergenceWarning: The max_iter was reached which means the coef_ did not converge\n",
            "  warnings.warn(\n",
            "/usr/local/lib/python3.8/dist-packages/sklearn/linear_model/_sag.py:352: ConvergenceWarning: The max_iter was reached which means the coef_ did not converge\n",
            "  warnings.warn(\n"
          ]
        },
        {
          "output_type": "stream",
          "name": "stdout",
          "text": [
            "[0.9800995  0.98507463 0.97014925 0.965      0.965      0.97\n",
            " 0.985      0.985      0.975      0.975     ]\n",
            "0.9755323383084576\n"
          ]
        },
        {
          "output_type": "stream",
          "name": "stderr",
          "text": [
            "/usr/local/lib/python3.8/dist-packages/sklearn/linear_model/_sag.py:352: ConvergenceWarning: The max_iter was reached which means the coef_ did not converge\n",
            "  warnings.warn(\n"
          ]
        }
      ]
    },
    {
      "cell_type": "markdown",
      "metadata": {
        "id": "0ttFaGm5x-Pp"
      },
      "source": [
        "### 2. Decision Tree Classification"
      ]
    },
    {
      "cell_type": "code",
      "execution_count": null,
      "metadata": {
        "id": "BwHwHPXax-Pp"
      },
      "outputs": [],
      "source": [
        "from sklearn.tree import DecisionTreeClassifier"
      ]
    },
    {
      "cell_type": "code",
      "execution_count": null,
      "metadata": {
        "id": "8Of2lxA1x-Pq",
        "outputId": "ff2a6c47-a4df-4fb4-99a9-31a366588314",
        "colab": {
          "base_uri": "https://localhost:8080/"
        }
      },
      "outputs": [
        {
          "output_type": "execute_result",
          "data": {
            "text/plain": [
              "DecisionTreeClassifier(min_samples_leaf=2, min_samples_split=6)"
            ]
          },
          "metadata": {},
          "execution_count": 28
        }
      ],
      "source": [
        "DT = DecisionTreeClassifier(min_samples_split=6,min_samples_leaf=2,\n",
        "                            max_features=None, max_depth=None,\n",
        "                            criterion='gini')\n",
        "DT.fit(xv_train, y_train)"
      ]
    },
    {
      "cell_type": "code",
      "execution_count": null,
      "metadata": {
        "id": "mWq1lN6Ex-Pq"
      },
      "outputs": [],
      "source": [
        "pred_dt = DT.predict(xv_test)"
      ]
    },
    {
      "cell_type": "code",
      "execution_count": null,
      "metadata": {
        "id": "eFqCXjo6x-Pq",
        "outputId": "f3e1cfab-64be-4858-bb0d-92acd2c706c3",
        "colab": {
          "base_uri": "https://localhost:8080/"
        }
      },
      "outputs": [
        {
          "output_type": "execute_result",
          "data": {
            "text/plain": [
              "0.8778054862842892"
            ]
          },
          "metadata": {},
          "execution_count": 30
        }
      ],
      "source": [
        "DT.score(xv_test, y_test)"
      ]
    },
    {
      "cell_type": "code",
      "source": [
        "# cross validation\n",
        "from sklearn.model_selection import cross_val_score\n",
        "score_dt = cross_val_score(DT, X, y,cv=10)\n",
        "print(score_dt)\n",
        "print(score_dt.mean())"
      ],
      "metadata": {
        "colab": {
          "base_uri": "https://localhost:8080/"
        },
        "id": "hzb-k79srPra",
        "outputId": "d1a27b8f-cefc-4410-c7b8-45e2b235a6fe"
      },
      "execution_count": null,
      "outputs": [
        {
          "output_type": "stream",
          "name": "stdout",
          "text": [
            "[0.94527363 0.92537313 0.92537313 0.88       0.925      0.905\n",
            " 0.95       0.93       0.885      0.86      ]\n",
            "0.9131019900497511\n"
          ]
        }
      ]
    },
    {
      "cell_type": "markdown",
      "metadata": {
        "id": "-VvXZ6eVx-Pq"
      },
      "source": [
        "### 3. Gradient Boosting Classifier"
      ]
    },
    {
      "cell_type": "code",
      "execution_count": null,
      "metadata": {
        "id": "_iBg_b0Qx-Pq"
      },
      "outputs": [],
      "source": [
        "from sklearn.ensemble import GradientBoostingClassifier\n",
        "GBC = GradientBoostingClassifier(subsample=0.5, n_estimators=1000, \n",
        "                                 max_depth=3, learning_rate=0.02) "
      ]
    },
    {
      "cell_type": "code",
      "execution_count": null,
      "metadata": {
        "id": "NgFRpVtQx-Pq",
        "outputId": "d01d1429-ab6b-455c-897f-0d770053ee7d",
        "colab": {
          "base_uri": "https://localhost:8080/"
        }
      },
      "outputs": [
        {
          "output_type": "execute_result",
          "data": {
            "text/plain": [
              "GradientBoostingClassifier(learning_rate=0.02, n_estimators=1000, subsample=0.5)"
            ]
          },
          "metadata": {},
          "execution_count": 33
        }
      ],
      "source": [
        "GBC.fit(xv_train, y_train)"
      ]
    },
    {
      "cell_type": "code",
      "execution_count": null,
      "metadata": {
        "id": "9wC2HnJnx-Pr"
      },
      "outputs": [],
      "source": [
        "pred_gbc = GBC.predict(xv_test)"
      ]
    },
    {
      "cell_type": "code",
      "execution_count": null,
      "metadata": {
        "id": "MS3KLa3_x-Pr",
        "outputId": "8bc56709-031d-4dea-e62d-2b55be8caba9",
        "colab": {
          "base_uri": "https://localhost:8080/"
        }
      },
      "outputs": [
        {
          "output_type": "execute_result",
          "data": {
            "text/plain": [
              "0.970074812967581"
            ]
          },
          "metadata": {},
          "execution_count": 35
        }
      ],
      "source": [
        "GBC.score(xv_test, y_test)"
      ]
    },
    {
      "cell_type": "code",
      "source": [
        "# cross validation\n",
        "from sklearn.model_selection import cross_val_score\n",
        "score_gbc = cross_val_score(GBC, X, y,cv=10)\n",
        "print(score_gbc)\n",
        "print(score_gbc.mean())"
      ],
      "metadata": {
        "colab": {
          "base_uri": "https://localhost:8080/"
        },
        "id": "OPONc9Qg2XVW",
        "outputId": "cfededd5-58df-4e4f-82e5-88c91d8008e5"
      },
      "execution_count": null,
      "outputs": [
        {
          "output_type": "stream",
          "name": "stdout",
          "text": [
            "[0.97512438 0.98507463 0.97014925 0.965      0.97       0.975\n",
            " 0.975      0.99       0.95       0.965     ]\n",
            "0.9720348258706467\n"
          ]
        }
      ]
    },
    {
      "cell_type": "markdown",
      "metadata": {
        "id": "ii-GykiUx-Pr"
      },
      "source": [
        "### 4. Random Forest Classifier"
      ]
    },
    {
      "cell_type": "code",
      "execution_count": null,
      "metadata": {
        "id": "OIwoGCPCx-Pr"
      },
      "outputs": [],
      "source": [
        "from sklearn.ensemble import RandomForestClassifier\n",
        "RFC = RandomForestClassifier(n_estimators=50, min_samples_split=6,\n",
        "                             min_samples_leaf=2,max_features='sqrt',\n",
        "                             max_depth=None, criterion='entropy')"
      ]
    },
    {
      "cell_type": "code",
      "execution_count": null,
      "metadata": {
        "id": "LQ_NRI6Fx-Pr",
        "outputId": "9455f9ad-13fb-4774-8b7b-5ec973100507",
        "colab": {
          "base_uri": "https://localhost:8080/"
        }
      },
      "outputs": [
        {
          "output_type": "execute_result",
          "data": {
            "text/plain": [
              "RandomForestClassifier(criterion='entropy', max_features='sqrt',\n",
              "                       min_samples_leaf=2, min_samples_split=6,\n",
              "                       n_estimators=50)"
            ]
          },
          "metadata": {},
          "execution_count": 38
        }
      ],
      "source": [
        "RFC.fit(xv_train, y_train)"
      ]
    },
    {
      "cell_type": "code",
      "execution_count": null,
      "metadata": {
        "id": "f6t9OsC5x-Ps"
      },
      "outputs": [],
      "source": [
        "pred_rfc = RFC.predict(xv_test)"
      ]
    },
    {
      "cell_type": "code",
      "execution_count": null,
      "metadata": {
        "id": "rsr-3J3bx-Ps",
        "outputId": "21d4177e-0af4-44e0-f1f3-6f25b9502390",
        "colab": {
          "base_uri": "https://localhost:8080/"
        }
      },
      "outputs": [
        {
          "output_type": "execute_result",
          "data": {
            "text/plain": [
              "0.9476309226932669"
            ]
          },
          "metadata": {},
          "execution_count": 40
        }
      ],
      "source": [
        "RFC.score(xv_test, y_test)"
      ]
    },
    {
      "cell_type": "code",
      "source": [
        "# cross validation\n",
        "from sklearn.model_selection import cross_val_score\n",
        "score_rfc = cross_val_score(RFC, X, y,cv=10)\n",
        "print(score_rfc)\n",
        "print(score_rfc.mean())"
      ],
      "metadata": {
        "colab": {
          "base_uri": "https://localhost:8080/"
        },
        "id": "Io87LJZ289yZ",
        "outputId": "8f8b70bc-7a31-4b46-c26b-6d754d08ddd4"
      },
      "execution_count": null,
      "outputs": [
        {
          "output_type": "stream",
          "name": "stdout",
          "text": [
            "[0.96517413 0.97512438 0.97512438 0.955      0.975      0.96\n",
            " 0.975      0.975      0.95       0.945     ]\n",
            "0.9650422885572139\n"
          ]
        }
      ]
    },
    {
      "cell_type": "markdown",
      "source": [
        "### 5. Passive-Aggresive Classifier"
      ],
      "metadata": {
        "id": "RWqfA6GBr_2j"
      }
    },
    {
      "cell_type": "code",
      "source": [
        "from sklearn.linear_model import PassiveAggressiveClassifier\n",
        "pac = PassiveAggressiveClassifier(C=1, max_iter=1000) # prev best @ max iter = 50"
      ],
      "metadata": {
        "id": "bnANzDrjsFa_"
      },
      "execution_count": null,
      "outputs": []
    },
    {
      "cell_type": "code",
      "source": [
        "pac.fit(xv_train, y_train)"
      ],
      "metadata": {
        "colab": {
          "base_uri": "https://localhost:8080/"
        },
        "id": "dU9HRTCMsVT_",
        "outputId": "6b801d8f-b05b-4799-cfaa-091cc3af25b4"
      },
      "execution_count": null,
      "outputs": [
        {
          "output_type": "execute_result",
          "data": {
            "text/plain": [
              "PassiveAggressiveClassifier(C=1)"
            ]
          },
          "metadata": {},
          "execution_count": 59
        }
      ]
    },
    {
      "cell_type": "code",
      "source": [
        "pred_pac = pac.predict(xv_test)"
      ],
      "metadata": {
        "id": "TjrMxTbPsk76"
      },
      "execution_count": null,
      "outputs": []
    },
    {
      "cell_type": "code",
      "source": [
        "pac.score(xv_test, y_test)"
      ],
      "metadata": {
        "colab": {
          "base_uri": "https://localhost:8080/"
        },
        "id": "Zk8_X68Ks5Oy",
        "outputId": "7b12040d-feda-40b5-b6c7-7768a79bd79f"
      },
      "execution_count": null,
      "outputs": [
        {
          "output_type": "execute_result",
          "data": {
            "text/plain": [
              "0.9576059850374065"
            ]
          },
          "metadata": {},
          "execution_count": 61
        }
      ]
    },
    {
      "cell_type": "code",
      "source": [
        "# cross validation\n",
        "from sklearn.model_selection import cross_val_score\n",
        "score_pac = cross_val_score(pac, X, y,cv=10)\n",
        "print(score_pac)\n",
        "print(score_pac.mean())"
      ],
      "metadata": {
        "colab": {
          "base_uri": "https://localhost:8080/"
        },
        "id": "-zit-X6j9GH8",
        "outputId": "881e8655-0abf-4497-970f-6ddc37c8c0a9"
      },
      "execution_count": null,
      "outputs": [
        {
          "output_type": "stream",
          "name": "stdout",
          "text": [
            "[0.98507463 0.97512438 0.96517413 0.965      0.97       0.975\n",
            " 0.98       0.985      0.965      0.965     ]\n",
            "0.9730373134328358\n"
          ]
        }
      ]
    },
    {
      "cell_type": "markdown",
      "source": [
        "### 6. Naive Bayes"
      ],
      "metadata": {
        "id": "3vm6QReAvWy6"
      }
    },
    {
      "cell_type": "code",
      "source": [
        "from sklearn.naive_bayes import MultinomialNB\n",
        "mnb= MultinomialNB(alpha=0.001) "
      ],
      "metadata": {
        "id": "0JzqVX5rvs6a"
      },
      "execution_count": 22,
      "outputs": []
    },
    {
      "cell_type": "code",
      "source": [
        "mnb.fit(xv_train, y_train)"
      ],
      "metadata": {
        "colab": {
          "base_uri": "https://localhost:8080/"
        },
        "id": "nY-yKpQmwYY-",
        "outputId": "22b285bf-5125-4c8f-d85e-f79f7f596127"
      },
      "execution_count": 23,
      "outputs": [
        {
          "output_type": "execute_result",
          "data": {
            "text/plain": [
              "MultinomialNB(alpha=0.001)"
            ]
          },
          "metadata": {},
          "execution_count": 23
        }
      ]
    },
    {
      "cell_type": "code",
      "source": [
        "pred_mnb = mnb.predict(xv_test)"
      ],
      "metadata": {
        "id": "hhVQn77hweT_"
      },
      "execution_count": 24,
      "outputs": []
    },
    {
      "cell_type": "code",
      "source": [
        "mnb.score(xv_test, y_test)"
      ],
      "metadata": {
        "colab": {
          "base_uri": "https://localhost:8080/"
        },
        "id": "2bAlauDkwk5e",
        "outputId": "12baca23-19e7-443a-daf3-bc5885423fff"
      },
      "execution_count": 25,
      "outputs": [
        {
          "output_type": "execute_result",
          "data": {
            "text/plain": [
              "0.9476309226932669"
            ]
          },
          "metadata": {},
          "execution_count": 25
        }
      ]
    },
    {
      "cell_type": "code",
      "source": [
        "# cross validation\n",
        "from sklearn.model_selection import cross_val_score\n",
        "score_nb = cross_val_score(mnb, X, y,cv=10)\n",
        "print(score_nb)\n",
        "print(score_nb.mean())"
      ],
      "metadata": {
        "colab": {
          "base_uri": "https://localhost:8080/"
        },
        "id": "u8vMgX0U9OIz",
        "outputId": "ad92c21e-cbb6-4b00-b169-cca72f56f46a"
      },
      "execution_count": 26,
      "outputs": [
        {
          "output_type": "stream",
          "name": "stdout",
          "text": [
            "[0.96517413 0.94029851 0.97512438 0.96       0.97       0.945\n",
            " 0.935      0.965      0.96       0.955     ]\n",
            "0.9570597014925374\n"
          ]
        }
      ]
    },
    {
      "cell_type": "markdown",
      "source": [
        "### 7. Support Vector Machine"
      ],
      "metadata": {
        "id": "APqMiytIw810"
      }
    },
    {
      "cell_type": "code",
      "source": [
        "from sklearn import svm\n",
        "svm = svm.SVC(kernel='linear', degree=0.001, \n",
        "              C=10, probability=True) # best @ kernel='linear', prob=True"
      ],
      "metadata": {
        "id": "X2LFRldmxAhz"
      },
      "execution_count": null,
      "outputs": []
    },
    {
      "cell_type": "code",
      "source": [
        "svm.fit(xv_train, y_train)"
      ],
      "metadata": {
        "colab": {
          "base_uri": "https://localhost:8080/"
        },
        "id": "5zIP476kxKAK",
        "outputId": "c8b08fe1-f034-42a2-b1cc-4cb0e3863cf2"
      },
      "execution_count": null,
      "outputs": [
        {
          "output_type": "execute_result",
          "data": {
            "text/plain": [
              "SVC(C=10, degree=0.001, kernel='linear', probability=True)"
            ]
          },
          "metadata": {},
          "execution_count": 53
        }
      ]
    },
    {
      "cell_type": "code",
      "source": [
        "pred_svm = svm.predict(xv_test)"
      ],
      "metadata": {
        "id": "azLxj7lfxTjJ"
      },
      "execution_count": null,
      "outputs": []
    },
    {
      "cell_type": "code",
      "source": [
        "svm.score(xv_test, y_test)"
      ],
      "metadata": {
        "colab": {
          "base_uri": "https://localhost:8080/"
        },
        "id": "iw37Vor7xZJ4",
        "outputId": "678e59aa-b0d1-4c86-f53f-4ad603844d01"
      },
      "execution_count": null,
      "outputs": [
        {
          "output_type": "execute_result",
          "data": {
            "text/plain": [
              "0.9650872817955112"
            ]
          },
          "metadata": {},
          "execution_count": 55
        }
      ]
    },
    {
      "cell_type": "code",
      "source": [
        "# cross validation\n",
        "from sklearn.model_selection import cross_val_score\n",
        "score_svm = cross_val_score(svm, X, y,cv=10)\n",
        "print(score_svm)\n",
        "print(score_svm.mean())"
      ],
      "metadata": {
        "colab": {
          "base_uri": "https://localhost:8080/"
        },
        "id": "qc725qPJ9TdT",
        "outputId": "6c2ca4f1-6ac1-4de5-d769-645855b254f3"
      },
      "execution_count": null,
      "outputs": [
        {
          "output_type": "stream",
          "name": "stdout",
          "text": [
            "[0.98507463 0.98507463 0.97014925 0.975      0.97       0.975\n",
            " 0.98       0.98       0.97       0.965     ]\n",
            "0.9755298507462686\n"
          ]
        }
      ]
    },
    {
      "cell_type": "markdown",
      "source": [
        "# Evaluation "
      ],
      "metadata": {
        "id": "zjM3PaYWL860"
      }
    },
    {
      "cell_type": "markdown",
      "source": [
        "### ROC/AUC"
      ],
      "metadata": {
        "id": "oOIjGDCWAYRH"
      }
    },
    {
      "cell_type": "code",
      "source": [
        "# getting probabilities for the positive outcome\n",
        "lr_probs = LR.predict_proba(xv_test)[:, 1]\n",
        "dt_probs = DT.predict_proba(xv_test)[:, 1]\n",
        "gb_probs = GBC.predict_proba(xv_test)[:, 1]\n",
        "rf_probs = RFC.predict_proba(xv_test)[:, 1]\n",
        "pac_probs = pac.decision_function(xv_test)\n",
        "nb_probs = mnb.predict_proba(xv_test)[:, 1]\n",
        "svm_probs = svm.predict_proba(xv_test)[:, 1]"
      ],
      "metadata": {
        "id": "WwbqWXxWMqg_"
      },
      "execution_count": null,
      "outputs": []
    },
    {
      "cell_type": "code",
      "source": [
        "from sklearn.metrics import roc_curve, roc_auc_score\n",
        "lr_auc = roc_auc_score(y_test, lr_probs)\n",
        "dt_auc = roc_auc_score(y_test, dt_probs)\n",
        "gb_auc = roc_auc_score(y_test, gb_probs)\n",
        "rf_auc = roc_auc_score(y_test, rf_probs)\n",
        "pac_auc = roc_auc_score(y_test, pac_probs)\n",
        "nb_auc = roc_auc_score(y_test, nb_probs)\n",
        "svm_auc = roc_auc_score(y_test, svm_probs)"
      ],
      "metadata": {
        "id": "072BKXu5R12R"
      },
      "execution_count": null,
      "outputs": []
    },
    {
      "cell_type": "code",
      "source": [
        "lr_fpr, lr_tpr, _ = roc_curve(y_test, lr_probs)\n",
        "dt_fpr, dt_tpr, _ = roc_curve(y_test, dt_probs)\n",
        "gb_fpr, gb_tpr, _ = roc_curve(y_test, gb_probs)\n",
        "rf_fpr, rf_tpr, _ = roc_curve(y_test, rf_probs)\n",
        "pac_fpr, pac_tpr, _ = roc_curve(y_test, pac_probs)\n",
        "nb_fpr, nb_tpr, _ = roc_curve(y_test, nb_probs)\n",
        "svm_fpr, svm_tpr, _ = roc_curve(y_test, svm_probs)"
      ],
      "metadata": {
        "id": "wL6veUO2VmP9"
      },
      "execution_count": null,
      "outputs": []
    },
    {
      "cell_type": "markdown",
      "source": [
        "#### Plot the curves"
      ],
      "metadata": {
        "id": "jC0eYxNUWIlk"
      }
    },
    {
      "cell_type": "code",
      "source": [
        "roc_plot = plt.figure()\n",
        "plt.plot([0,1],[0,1], 'k--')\n",
        "plt.plot(lr_fpr, lr_tpr, marker='1', label='LR (AUC = %0.5f)' % lr_auc)\n",
        "plt.plot(dt_fpr, dt_tpr, marker='.', label='DTC (AUC = %0.5f)' % dt_auc)\n",
        "plt.plot(gb_fpr, gb_tpr, marker='2', label='GBC (AUC = %0.5f)' % gb_auc)\n",
        "plt.plot(rf_fpr, rf_tpr, marker='3', label='RFC (AUC = %0.5f)' % rf_auc)\n",
        "plt.plot(pac_fpr, pac_tpr, marker='4', label='PAC (AUC = %0.5f)' % pac_auc)\n",
        "plt.plot(nb_fpr, nb_tpr, marker='x', label='NB (AUC = %0.5f)' % nb_auc)\n",
        "plt.plot(svm_fpr, svm_tpr, marker='*', label='SVM (AUC = %0.5f)' % svm_auc)\n",
        "\n",
        "\n",
        "plt.title('ROC Plot')\n",
        "plt.xlabel('False Positive Rate')\n",
        "plt.ylabel('True Positive Rate')\n",
        "plt.legend()  \n",
        "plt.show()\n",
        "\n",
        "roc_plot.savefig('roc2.9.23.pdf', format='pdf', bbox_inches = 'tight')"
      ],
      "metadata": {
        "colab": {
          "base_uri": "https://localhost:8080/",
          "height": 295
        },
        "id": "0vBI4ejwWHy6",
        "outputId": "f960a063-2741-4e13-b9ba-2851972a1d84"
      },
      "execution_count": null,
      "outputs": [
        {
          "output_type": "display_data",
          "data": {
            "text/plain": [
              "<Figure size 432x288 with 1 Axes>"
            ],
            "image/png": "[encoded data removed]"
          },
          "metadata": {
            "needs_background": "light"
          }
        }
      ]
    },
    {
      "cell_type": "markdown",
      "source": [
        "### Precision, Recall, F1-scores"
      ],
      "metadata": {
        "id": "4a67bIgpE4mR"
      }
    },
    {
      "cell_type": "code",
      "source": [
        "lr_prec = precision_score(y_test, pred_lr)\n",
        "lr_rec = recall_score(y_test, pred_lr)\n",
        "lr_f1 = f1_score(y_test, pred_lr)\n",
        "print(\"LR Precision:\", lr_prec)\n",
        "print(\"LR Recall:\", lr_rec)\n",
        "print(\"LR F1-score\", lr_f1)"
      ],
      "metadata": {
        "colab": {
          "base_uri": "https://localhost:8080/"
        },
        "id": "onClPYqjAjLp",
        "outputId": "00f03768-8fdd-4264-9c06-9e957e71c74f"
      },
      "execution_count": null,
      "outputs": [
        {
          "output_type": "stream",
          "name": "stdout",
          "text": [
            "LR Precision: 0.9757281553398058\n",
            "LR Recall: 0.9617224880382775\n",
            "LR F1-score 0.9686746987951808\n"
          ]
        }
      ]
    },
    {
      "cell_type": "code",
      "source": [
        "dtc_prec = precision_score(y_test, pred_dt)\n",
        "dtc_rec = recall_score(y_test, pred_dt)\n",
        "dtc_f1 = f1_score(y_test, pred_dt)\n",
        "print(\"DTC Precision:\", dtc_prec)\n",
        "print(\"DTC Recall:\", dtc_rec)\n",
        "print(\"DTC F1-score\", dtc_f1)"
      ],
      "metadata": {
        "colab": {
          "base_uri": "https://localhost:8080/"
        },
        "id": "a5ABt-10HZJF",
        "outputId": "3e60efe1-4216-4e4a-ed71-00dce4b0de00"
      },
      "execution_count": null,
      "outputs": [
        {
          "output_type": "stream",
          "name": "stdout",
          "text": [
            "DTC Precision: 0.8960396039603961\n",
            "DTC Recall: 0.8660287081339713\n",
            "DTC F1-score 0.8807785888077859\n"
          ]
        }
      ]
    },
    {
      "cell_type": "code",
      "source": [
        "gbc_prec = precision_score(y_test, pred_gbc)\n",
        "gbc_rec = recall_score(y_test, pred_gbc)\n",
        "gbc_f1 = f1_score(y_test, pred_gbc)\n",
        "print(\"GBC Precision:\", gbc_prec)\n",
        "print(\"GBC Recall:\", gbc_rec)\n",
        "print(\"GBC F1-score\", gbc_f1)"
      ],
      "metadata": {
        "colab": {
          "base_uri": "https://localhost:8080/"
        },
        "id": "-IYNadO1HvBa",
        "outputId": "5a4be268-d413-40ec-8cb7-dad5fdaaa567"
      },
      "execution_count": null,
      "outputs": [
        {
          "output_type": "stream",
          "name": "stdout",
          "text": [
            "GBC Precision: 0.9712918660287081\n",
            "GBC Recall: 0.9712918660287081\n",
            "GBC F1-score 0.9712918660287081\n"
          ]
        }
      ]
    },
    {
      "cell_type": "code",
      "source": [
        "rfc_prec = precision_score(y_test, pred_rfc)\n",
        "rfc_rec = recall_score(y_test, pred_rfc)\n",
        "rfc_f1 = f1_score(y_test, pred_rfc)\n",
        "print(\"RFC Precision:\", rfc_prec)\n",
        "print(\"RFC Recall:\", rfc_rec)\n",
        "print(\"RFC F1-score\", rfc_f1)"
      ],
      "metadata": {
        "colab": {
          "base_uri": "https://localhost:8080/"
        },
        "id": "ZnIKqKdOIAWp",
        "outputId": "86a68164-14af-4e1b-bdf7-694963919c61"
      },
      "execution_count": null,
      "outputs": [
        {
          "output_type": "stream",
          "name": "stdout",
          "text": [
            "RFC Precision: 0.9653465346534653\n",
            "RFC Recall: 0.9330143540669856\n",
            "RFC F1-score 0.9489051094890512\n"
          ]
        }
      ]
    },
    {
      "cell_type": "code",
      "source": [
        "pac_prec = precision_score(y_test, pred_pac)\n",
        "pac_rec = recall_score(y_test, pred_pac)\n",
        "pac_f1 = f1_score(y_test, pred_pac)\n",
        "print(\"PAC Precision:\", pac_prec)\n",
        "print(\"PAC Recall:\", pac_rec)\n",
        "print(\"PAC F1-score\", pac_f1)"
      ],
      "metadata": {
        "colab": {
          "base_uri": "https://localhost:8080/"
        },
        "id": "H1ydsppfJMYF",
        "outputId": "0af85271-1b26-4afb-a0a7-9f420ba32fe7"
      },
      "execution_count": null,
      "outputs": [
        {
          "output_type": "stream",
          "name": "stdout",
          "text": [
            "PAC Precision: 0.9752475247524752\n",
            "PAC Recall: 0.9425837320574163\n",
            "PAC F1-score 0.9586374695863746\n"
          ]
        }
      ]
    },
    {
      "cell_type": "code",
      "source": [
        "nb_prec = precision_score(y_test, pred_mnb)\n",
        "nb_rec = recall_score(y_test, pred_mnb)\n",
        "nb_f1 = f1_score(y_test, pred_mnb)\n",
        "print(\"NB Precision:\", nb_prec)\n",
        "print(\"NB Recall:\", nb_rec)\n",
        "print(\"NB F1-score\", nb_f1)"
      ],
      "metadata": {
        "colab": {
          "base_uri": "https://localhost:8080/"
        },
        "id": "tDqdbqfZJa23",
        "outputId": "6034d6bc-c312-441e-a411-2a20451ee4e3"
      },
      "execution_count": 29,
      "outputs": [
        {
          "output_type": "stream",
          "name": "stdout",
          "text": [
            "NB Precision: 0.975\n",
            "NB Recall: 0.9241706161137441\n",
            "NB F1-score 0.948905109489051\n"
          ]
        }
      ]
    },
    {
      "cell_type": "code",
      "source": [
        "svm_prec = precision_score(y_test, pred_svm)\n",
        "svm_rec = recall_score(y_test, pred_svm)\n",
        "svm_f1 = f1_score(y_test, pred_svm)\n",
        "print(\"SVM Precision:\", svm_prec)\n",
        "print(\"SVM Recall:\", svm_rec)\n",
        "print(\"SVM F1-score\", svm_f1)"
      ],
      "metadata": {
        "colab": {
          "base_uri": "https://localhost:8080/"
        },
        "id": "iKuiXe6_Jr14",
        "outputId": "901ef41b-67ef-4c9c-cafb-f3f64b7fd9f6"
      },
      "execution_count": null,
      "outputs": [
        {
          "output_type": "stream",
          "name": "stdout",
          "text": [
            "SVM Precision: 0.975609756097561\n",
            "SVM Recall: 0.9569377990430622\n",
            "SVM F1-score 0.9661835748792269\n"
          ]
        }
      ]
    },
    {
      "cell_type": "markdown",
      "source": [
        "### Confusion Matrix"
      ],
      "metadata": {
        "id": "ebI4rhKNTi6M"
      }
    },
    {
      "cell_type": "code",
      "source": [
        "def generate_matrix(y_true, y_pred, model_name):\n",
        "  cm = confusion_matrix(y_true, y_pred)\n",
        "  labels = ['Not Fake','Fake']\n",
        "  fig, ax = plt.subplots(figsize=(5, 5))\n",
        "  ax.matshow(cm, cmap=plt.cm.Blues, alpha=0.3)\n",
        "  for i in range(cm.shape[0]):\n",
        "      for j in range(cm.shape[1]):\n",
        "          ax.text(x=j, y=i,s=cm[i, j], va='center', ha='center', size='large')\n",
        "  ax.set_xticklabels([''] + labels)\n",
        "  ax.set_yticklabels([''] + labels)\n",
        "  plt.xlabel('Predicted Label', fontsize=12)\n",
        "  plt.ylabel('True Label', fontsize=12)\n",
        "  plt.title('Confusion Matrix of ' + model_name, fontsize=12)\n",
        "  plt.show()\n",
        "  fig.savefig(model_name + '_cm' + '.pdf', format='pdf', bbox_inches='tight')"
      ],
      "metadata": {
        "id": "j_iQOJfMTidv"
      },
      "execution_count": 30,
      "outputs": []
    },
    {
      "cell_type": "code",
      "source": [
        "generate_matrix(y_test, pred_lr, 'Logistic Regression')\n",
        "generate_matrix(y_test, pred_dt, 'Decision Tree')\n",
        "generate_matrix(y_test, pred_gbc, 'Gradient Boosting Classifier')\n",
        "generate_matrix(y_test, pred_rfc, 'Random Forest Classifier')\n",
        "generate_matrix(y_test, pred_pac, 'Passive-Aggresive Classifier')\n",
        "#generate_matrix(y_test, pred_mnb, 'Naive Bayes')\n",
        "generate_matrix(y_test, pred_svm, 'Support Vector Machine')"
      ],
      "metadata": {
        "colab": {
          "base_uri": "https://localhost:8080/",
          "height": 1000
        },
        "id": "9JjYZR7EUnVw",
        "outputId": "7d3d8994-2abf-425d-f221-7a748bb40205"
      },
      "execution_count": null,
      "outputs": [
        {
          "output_type": "display_data",
          "data": {
            "text/plain": [
              "<Figure size 360x360 with 1 Axes>"
            ],
            "image/png": "[encoded data removed]"
          },
          "metadata": {
            "needs_background": "light"
          }
        },
        {
          "output_type": "display_data",
          "data": {
            "text/plain": [
              "<Figure size 360x360 with 1 Axes>"
            ],
            "image/png": "[encoded data removed]"
          },
          "metadata": {
            "needs_background": "light"
          }
        },
        {
          "output_type": "display_data",
          "data": {
            "text/plain": [
              "<Figure size 360x360 with 1 Axes>"
            ],
            "image/png": "[encoded data removed]"
          },
          "metadata": {
            "needs_background": "light"
          }
        },
        {
          "output_type": "display_data",
          "data": {
            "text/plain": [
              "<Figure size 360x360 with 1 Axes>"
            ],
            "image/png": "[encoded data removed]"
          },
          "metadata": {
            "needs_background": "light"
          }
        },
        {
          "output_type": "display_data",
          "data": {
            "text/plain": [
              "<Figure size 360x360 with 1 Axes>"
            ],
            "image/png": "[encoded data removed]"
          },
          "metadata": {
            "needs_background": "light"
          }
        },
        {
          "output_type": "display_data",
          "data": {
            "text/plain": [
              "<Figure size 360x360 with 1 Axes>"
            ],
            "image/png": "[encoded data removed]"
          },
          "metadata": {
            "needs_background": "light"
          }
        },
        {
          "output_type": "display_data",
          "data": {
            "text/plain": [
              "<Figure size 360x360 with 1 Axes>"
            ],
            "image/png": "[encoded data removed]"
          },
          "metadata": {
            "needs_background": "light"
          }
        }
      ]
    },
    {
      "cell_type": "code",
      "source": [
        "generate_matrix(y_test, pred_mnb, 'Naive Bayes')"
      ],
      "metadata": {
        "colab": {
          "base_uri": "https://localhost:8080/",
          "height": 349
        },
        "id": "UUVezSnFRS5O",
        "outputId": "3906a9a6-8a15-400c-9f3e-231975e15e27"
      },
      "execution_count": 32,
      "outputs": [
        {
          "output_type": "display_data",
          "data": {
            "text/plain": [
              "<Figure size 360x360 with 1 Axes>"
            ],
            "image/png": "[encoded data removed]"
          },
          "metadata": {
            "needs_background": "light"
          }
        }
      ]
    },
    {
      "cell_type": "markdown",
      "metadata": {
        "id": "RkXbUBwQx-Ps"
      },
      "source": [
        "# Model Testing With Manual Entry\n",
        "\n",
        "### News"
      ]
    },
    {
      "cell_type": "code",
      "execution_count": null,
      "metadata": {
        "id": "aDxMFw5sx-Ps"
      },
      "outputs": [],
      "source": [
        "def output_lable(n):\n",
        "    if n == 0:\n",
        "        return \"not Fake news\"\n",
        "    elif n == 1:\n",
        "        return \"Fake News\"\n",
        "    \n",
        "def manual_testing(news):\n",
        "    testing_news = {\"text\":[news]}\n",
        "    new_def_test = pd.DataFrame(testing_news)\n",
        "    new_def_test[\"text\"] = new_def_test[\"text\"].apply(wordopt) \n",
        "    new_x_test = new_def_test[\"text\"]\n",
        "    new_xv_test = vectorization.transform(new_x_test)\n",
        "    pred_LR = LR.predict(new_xv_test)\n",
        "    pred_DT = DT.predict(new_xv_test)\n",
        "    pred_GBC = GBC.predict(new_xv_test)\n",
        "    pred_RFC = RFC.predict(new_xv_test)\n",
        "    pred_pac = pac.predict(new_xv_test)\n",
        "    pred_mnb = mnb.predict(new_xv_test)\n",
        "    pred_svm = svm.predict(new_xv_test)\n",
        "\n",
        "    return print(\"\\n\\nLR Prediction: {} \\nDT Prediction: {} \\nGBC Prediction: {} \\nRFC Prediction: {} \\nPAC Prediction: {} \\nMNB Prediction: {} \\nSVM Prediction: {}\".format(output_lable(pred_LR[0]), \n",
        "                                                                                                                                                                            output_lable(pred_DT[0]), \n",
        "                                                                                                                                                                            output_lable(pred_GBC[0]), \n",
        "                                                                                                                                                                            output_lable(pred_RFC[0]),\n",
        "                                                                                                                                                                            output_lable(pred_pac[0]),\n",
        "                                                                                                                                                                            output_lable(pred_mnb[0]),\n",
        "                                                                                                                                                                            output_lable(pred_svm[0])))"
      ]
    },
    {
      "cell_type": "code",
      "execution_count": null,
      "metadata": {
        "id": "jSNMG493x-Ps",
        "outputId": "29695cae-7c30-456a-843f-8ab71090d221",
        "colab": {
          "base_uri": "https://localhost:8080/"
        }
      },
      "outputs": [
        {
          "output_type": "stream",
          "name": "stdout",
          "text": [
            "President ferdinand \"bongbong\" marcos jr.  in monday the signed sim card registration the action, first legislation enacted under he is administration.  The law aims to curb text scams and spam.       powered by adsparc the ceremonial signing were hold on malacañang taking senate president juan miguel zubiri, place speaker martin romualdez and other stakeholders standing to witnesses.    \"i the commend legislators the originate place and the originate senate of coming upon taking that timely and necessary law.  It the is first legislative measured this successfully the pass approval the for bicameral panel for both houses the on 19th the congress,\" chief executive say, adding this such that law \"has long achieved overdue. \"  the \"truly, legislation is moving to be welcome by prolific for our people, especially currently taking reports the for commission for various crimes using mobile phones, including proliferation for text scams and spam.  Indeed, the taking signing for that law, our the set important tone this itour isnationalise policy to ensure this technology shall only be use to improved our people lives,\" himself added.    the have latest news deliver to yours inbox sign upon the of manila times’ daily newsletters enter yours email by signing upon taking an email address, myself acknowledge this myself take read and agreed the to terms for service and privacy policy.   filipinos rank the among world heaviest users for social media, the and country is became that key battleground of misleading or fake news.    prolific mobile phone users the on philippines used pre-paid sim cards this those bought the over counter without giving their names and addresses to providers.    republic action 11394 mandates everyone public telecommunications entities (pte) or direct sellers to require buyers for subscriber indentifying module cards to presented that valid identify document taking that photo.    it likewise directs telecommunication companies to the disclose registered full named and address the for subscriber upon that duly issued subpoena or ordered originate that court.     the ptes am also give 30 days to submit that listed for their authorized sellers or dealers the to nationalise telecommunications commission (ntc).  That should be updated quarterly.    the palace earlier say the this enactment the for bill would do \"significantly boost government initiatives against scams committed through text and online messages, which take became more prevalent that year. \"  marcos believes this scams would do drastically decline the to new law is see to \"an effective means for the regulating issuance for sim cards to the curb spread for spam text messages and scams. \"  \"we would do soon be abrue to provided law enforcement the agencies tools need to resolve crimes perpetrated the taking used for these sim cards to good to providing that strong deterrence the against commission for wrongdoings,\" himself say.    \"to cover everyone users for sim cards on that action, telecommunications entities am mandated to the ensure registration for existing prepaid sim card phone subscribers within that prescribed period.  Failure to comply results the to grant for authority of telecommunications entities to automatically deactivate services the to specific sim card subscriber the under force for law,\" himself added.    the used for false or fictitious informative, fictitious identities, fraudulent documents or identify to register that sim card shall also be deal taking by appropriate the penalties, president warn.  Himself the reassured public this this am enough measures to the protected confidentiality and data privacy rights for subscribers originate point for sale.    \"any informative the on sim card registration shall be treated to absolutely confidential unless access to that informative is achieved granted the by write consent the for subscriber,\" marcos say.    globe telecoms in monday express support the of law.    on that statement, globe say that verifiabrue and fool-proof indentified system the is foundation the for sim registration law.    it say this conditionally to people am allowed to submit anytime form for identify which with able to easily be falsified, sim registration would do be useless.    \"for that reason, our position is achieved clearly the originate beginning.  That nationalise id system must be on house to the ensure safe and successful implementation for that new law,\" globe general counsel froilan castelo say.    globe also the say government must see upon global best practices on the implementing new sim registration bill.    prolific countries am using their nationalise id system to the verify indentifying for that person that person registers that sim numerable.    \"we the support passage for that measured after previous roadblock and our am ready to comply.  Aside originate our advanced cybersecurity capabilities, our welcomed that new regulatory environment this is stronger safeguards against cyberthreats and other crimes carry outward using mobile phones,\" castelo say.    globe say it is working the taking government on the drafting implementing rules and regulations the of rational enforcement the for law, the including rollout the for retroactive registration for tens for millions for prepaid sim users\n",
            "\n",
            "\n",
            "LR Prediction: not Fake news \n",
            "DT Prediction: not Fake news \n",
            "GBC Prediction: not Fake news \n",
            "RFC Prediction: not Fake news \n",
            "PAC Prediction: not Fake news \n",
            "MNB Prediction: not Fake news \n",
            "SVM Prediction: not Fake news\n"
          ]
        }
      ],
      "source": [
        "news = str(input())\n",
        "manual_testing(news)"
      ]
    }
  ],
  "metadata": {
    "kernelspec": {
      "display_name": "Python 3",
      "language": "python",
      "name": "python3"
    },
    "language_info": {
      "codemirror_mode": {
        "name": "ipython",
        "version": 3
      },
      "file_extension": ".py",
      "mimetype": "text/x-python",
      "name": "python",
      "nbconvert_exporter": "python",
      "pygments_lexer": "ipython3",
      "version": "3.8.5"
    },
    "colab": {
      "provenance": [],
      "toc_visible": true,
      "include_colab_link": true
    }
  },
  "nbformat": 4,
  "nbformat_minor": 0
}