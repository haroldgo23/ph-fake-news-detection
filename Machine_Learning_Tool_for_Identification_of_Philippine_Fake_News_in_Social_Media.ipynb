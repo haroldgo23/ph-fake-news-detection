{
  "cells": [
    {
      "cell_type": "markdown",
      "metadata": {
        "id": "view-in-github",
        "colab_type": "text"
      },
      "source": [
        "<a href=\"https://colab.research.google.com/github/haroldgo23/ph-fake-news-detection/blob/main/Machine_Learning_Tool_for_Identification_of_Philippine_Fake_News_in_Social_Media.ipynb\" target=\"_parent\"><img src=\"https://colab.research.google.com/assets/colab-badge.svg\" alt=\"Open In Colab\"/></a>"
      ]
    },
    {
      "cell_type": "markdown",
      "metadata": {
        "id": "-0tPtHopx-PX"
      },
      "source": [
        "# Fake news Detection"
      ]
    },
    {
      "cell_type": "markdown",
      "metadata": {
        "id": "-S5KO3NAx-Pd"
      },
      "source": [
        "### Import necessary libraries"
      ]
    },
    {
      "cell_type": "code",
      "execution_count": 1,
      "metadata": {
        "id": "Lhv_Rkigx-Pd"
      },
      "outputs": [],
      "source": [
        "import pandas as pd\n",
        "import numpy as np\n",
        "import seaborn as sns\n",
        "import matplotlib.pyplot as plt\n",
        "from sklearn.model_selection import train_test_split\n",
        "from sklearn.metrics import accuracy_score, classification_report, confusion_matrix, ConfusionMatrixDisplay\n",
        "import re\n",
        "import string"
      ]
    },
    {
      "cell_type": "markdown",
      "source": [
        "###Import csv files"
      ],
      "metadata": {
        "id": "UZm4tYy81Kcm"
      }
    },
    {
      "cell_type": "code",
      "source": [
        "from google.colab import drive\n",
        "drive.mount('/content/drive')"
      ],
      "metadata": {
        "colab": {
          "base_uri": "https://localhost:8080/"
        },
        "id": "MlQhfb0I1WDz",
        "outputId": "2af67d51-a837-47dd-fcc0-c525c1865e20"
      },
      "execution_count": 2,
      "outputs": [
        {
          "output_type": "stream",
          "name": "stdout",
          "text": [
            "Mounted at /content/drive\n"
          ]
        }
      ]
    },
    {
      "cell_type": "markdown",
      "source": [],
      "metadata": {
        "id": "GdDoWR_l1UzL"
      }
    },
    {
      "cell_type": "markdown",
      "metadata": {
        "id": "Pt0XUs1xx-Pe"
      },
      "source": [
        "### Inserting fake and real dataset"
      ]
    },
    {
      "cell_type": "code",
      "execution_count": 3,
      "metadata": {
        "id": "hj-eDUJxx-Pf"
      },
      "outputs": [],
      "source": [
        "df_eng = pd.read_csv(\"/content/drive/MyDrive/Machine Learning Tool for Identification of Philippine Fake News in Social Media/English.csv\")\n",
        "df_fil = pd.read_csv(\"/content/drive/MyDrive/Machine Learning Tool for Identification of Philippine Fake News in Social Media/Filipino.csv\")"
      ]
    },
    {
      "cell_type": "code",
      "execution_count": 4,
      "metadata": {
        "id": "viCdhbAbx-Pf",
        "outputId": "3d4dc614-13bc-4637-d050-a2bd6e08b1fa",
        "colab": {
          "base_uri": "https://localhost:8080/",
          "height": 206
        }
      },
      "outputs": [
        {
          "output_type": "execute_result",
          "data": {
            "text/plain": [
              "              Page                                               Text  Label\n",
              "0  Manila Bulletin  President Ferdinand “Bongbong” Marcos Jr. beli...      0\n",
              "1  Manila Bulletin  A New People’s Army member who has pending war...      0\n",
              "2  Manila Bulletin  Malacañang announced that President Marcos has...      0\n",
              "3  Manila Bulletin  Fisherfolk organizations staged a peaceful ral...      0\n",
              "4  Manila Bulletin  Members of the Northern Police District-Distri...      0"
            ],
            "text/html": [
              "\n",
              "  <div id=\"df-51201ada-d386-4303-a7bc-37cab92ab984\">\n",
              "    <div class=\"colab-df-container\">\n",
              "      <div>\n",
              "<style scoped>\n",
              "    .dataframe tbody tr th:only-of-type {\n",
              "        vertical-align: middle;\n",
              "    }\n",
              "\n",
              "    .dataframe tbody tr th {\n",
              "        vertical-align: top;\n",
              "    }\n",
              "\n",
              "    .dataframe thead th {\n",
              "        text-align: right;\n",
              "    }\n",
              "</style>\n",
              "<table border=\"1\" class=\"dataframe\">\n",
              "  <thead>\n",
              "    <tr style=\"text-align: right;\">\n",
              "      <th></th>\n",
              "      <th>Page</th>\n",
              "      <th>Text</th>\n",
              "      <th>Label</th>\n",
              "    </tr>\n",
              "  </thead>\n",
              "  <tbody>\n",
              "    <tr>\n",
              "      <th>0</th>\n",
              "      <td>Manila Bulletin</td>\n",
              "      <td>President Ferdinand “Bongbong” Marcos Jr. beli...</td>\n",
              "      <td>0</td>\n",
              "    </tr>\n",
              "    <tr>\n",
              "      <th>1</th>\n",
              "      <td>Manila Bulletin</td>\n",
              "      <td>A New People’s Army member who has pending war...</td>\n",
              "      <td>0</td>\n",
              "    </tr>\n",
              "    <tr>\n",
              "      <th>2</th>\n",
              "      <td>Manila Bulletin</td>\n",
              "      <td>Malacañang announced that President Marcos has...</td>\n",
              "      <td>0</td>\n",
              "    </tr>\n",
              "    <tr>\n",
              "      <th>3</th>\n",
              "      <td>Manila Bulletin</td>\n",
              "      <td>Fisherfolk organizations staged a peaceful ral...</td>\n",
              "      <td>0</td>\n",
              "    </tr>\n",
              "    <tr>\n",
              "      <th>4</th>\n",
              "      <td>Manila Bulletin</td>\n",
              "      <td>Members of the Northern Police District-Distri...</td>\n",
              "      <td>0</td>\n",
              "    </tr>\n",
              "  </tbody>\n",
              "</table>\n",
              "</div>\n",
              "      <button class=\"colab-df-convert\" onclick=\"convertToInteractive('df-51201ada-d386-4303-a7bc-37cab92ab984')\"\n",
              "              title=\"Convert this dataframe to an interactive table.\"\n",
              "              style=\"display:none;\">\n",
              "        \n",
              "  <svg xmlns=\"http://www.w3.org/2000/svg\" height=\"24px\"viewBox=\"0 0 24 24\"\n",
              "       width=\"24px\">\n",
              "    <path d=\"M0 0h24v24H0V0z\" fill=\"none\"/>\n",
              "    <path d=\"M18.56 5.44l.94 2.06.94-2.06 2.06-.94-2.06-.94-.94-2.06-.94 2.06-2.06.94zm-11 1L8.5 8.5l.94-2.06 2.06-.94-2.06-.94L8.5 2.5l-.94 2.06-2.06.94zm10 10l.94 2.06.94-2.06 2.06-.94-2.06-.94-.94-2.06-.94 2.06-2.06.94z\"/><path d=\"M17.41 7.96l-1.37-1.37c-.4-.4-.92-.59-1.43-.59-.52 0-1.04.2-1.43.59L10.3 9.45l-7.72 7.72c-.78.78-.78 2.05 0 2.83L4 21.41c.39.39.9.59 1.41.59.51 0 1.02-.2 1.41-.59l7.78-7.78 2.81-2.81c.8-.78.8-2.07 0-2.86zM5.41 20L4 18.59l7.72-7.72 1.47 1.35L5.41 20z\"/>\n",
              "  </svg>\n",
              "      </button>\n",
              "      \n",
              "  <style>\n",
              "    .colab-df-container {\n",
              "      display:flex;\n",
              "      flex-wrap:wrap;\n",
              "      gap: 12px;\n",
              "    }\n",
              "\n",
              "    .colab-df-convert {\n",
              "      background-color: #E8F0FE;\n",
              "      border: none;\n",
              "      border-radius: 50%;\n",
              "      cursor: pointer;\n",
              "      display: none;\n",
              "      fill: #1967D2;\n",
              "      height: 32px;\n",
              "      padding: 0 0 0 0;\n",
              "      width: 32px;\n",
              "    }\n",
              "\n",
              "    .colab-df-convert:hover {\n",
              "      background-color: #E2EBFA;\n",
              "      box-shadow: 0px 1px 2px rgba(60, 64, 67, 0.3), 0px 1px 3px 1px rgba(60, 64, 67, 0.15);\n",
              "      fill: #174EA6;\n",
              "    }\n",
              "\n",
              "    [theme=dark] .colab-df-convert {\n",
              "      background-color: #3B4455;\n",
              "      fill: #D2E3FC;\n",
              "    }\n",
              "\n",
              "    [theme=dark] .colab-df-convert:hover {\n",
              "      background-color: #434B5C;\n",
              "      box-shadow: 0px 1px 3px 1px rgba(0, 0, 0, 0.15);\n",
              "      filter: drop-shadow(0px 1px 2px rgba(0, 0, 0, 0.3));\n",
              "      fill: #FFFFFF;\n",
              "    }\n",
              "  </style>\n",
              "\n",
              "      <script>\n",
              "        const buttonEl =\n",
              "          document.querySelector('#df-51201ada-d386-4303-a7bc-37cab92ab984 button.colab-df-convert');\n",
              "        buttonEl.style.display =\n",
              "          google.colab.kernel.accessAllowed ? 'block' : 'none';\n",
              "\n",
              "        async function convertToInteractive(key) {\n",
              "          const element = document.querySelector('#df-51201ada-d386-4303-a7bc-37cab92ab984');\n",
              "          const dataTable =\n",
              "            await google.colab.kernel.invokeFunction('convertToInteractive',\n",
              "                                                     [key], {});\n",
              "          if (!dataTable) return;\n",
              "\n",
              "          const docLinkHtml = 'Like what you see? Visit the ' +\n",
              "            '<a target=\"_blank\" href=https://colab.research.google.com/notebooks/data_table.ipynb>data table notebook</a>'\n",
              "            + ' to learn more about interactive tables.';\n",
              "          element.innerHTML = '';\n",
              "          dataTable['output_type'] = 'display_data';\n",
              "          await google.colab.output.renderOutput(dataTable, element);\n",
              "          const docLink = document.createElement('div');\n",
              "          docLink.innerHTML = docLinkHtml;\n",
              "          element.appendChild(docLink);\n",
              "        }\n",
              "      </script>\n",
              "    </div>\n",
              "  </div>\n",
              "  "
            ]
          },
          "metadata": {},
          "execution_count": 4
        }
      ],
      "source": [
        "df_eng.head(5)"
      ]
    },
    {
      "cell_type": "code",
      "execution_count": 5,
      "metadata": {
        "id": "2ddIU5SJx-Pg",
        "outputId": "ba87e147-bb7a-4383-9c84-16c6f44a51be",
        "colab": {
          "base_uri": "https://localhost:8080/",
          "height": 206
        }
      },
      "outputs": [
        {
          "output_type": "execute_result",
          "data": {
            "text/plain": [
              "     Page                                               Text  Label\n",
              "0  Balita  Nagtalaga na ng bagong acting president at chi...      0\n",
              "1  Balita  Sa paglaganap ng text scam, nagbabala si Senad...      0\n",
              "2  Balita  Umapela sa gobyerno ang grupong Confederation ...      0\n",
              "3  Balita  Nagtatago pa rin umano si National Bilibid Pri...      0\n",
              "4  Balita  Mahigpit ang kautusan ni Manila Mayor Honey La...      0"
            ],
            "text/html": [
              "\n",
              "  <div id=\"df-4c4872f4-bec4-4e4d-b367-5d1b05330ddf\">\n",
              "    <div class=\"colab-df-container\">\n",
              "      <div>\n",
              "<style scoped>\n",
              "    .dataframe tbody tr th:only-of-type {\n",
              "        vertical-align: middle;\n",
              "    }\n",
              "\n",
              "    .dataframe tbody tr th {\n",
              "        vertical-align: top;\n",
              "    }\n",
              "\n",
              "    .dataframe thead th {\n",
              "        text-align: right;\n",
              "    }\n",
              "</style>\n",
              "<table border=\"1\" class=\"dataframe\">\n",
              "  <thead>\n",
              "    <tr style=\"text-align: right;\">\n",
              "      <th></th>\n",
              "      <th>Page</th>\n",
              "      <th>Text</th>\n",
              "      <th>Label</th>\n",
              "    </tr>\n",
              "  </thead>\n",
              "  <tbody>\n",
              "    <tr>\n",
              "      <th>0</th>\n",
              "      <td>Balita</td>\n",
              "      <td>Nagtalaga na ng bagong acting president at chi...</td>\n",
              "      <td>0</td>\n",
              "    </tr>\n",
              "    <tr>\n",
              "      <th>1</th>\n",
              "      <td>Balita</td>\n",
              "      <td>Sa paglaganap ng text scam, nagbabala si Senad...</td>\n",
              "      <td>0</td>\n",
              "    </tr>\n",
              "    <tr>\n",
              "      <th>2</th>\n",
              "      <td>Balita</td>\n",
              "      <td>Umapela sa gobyerno ang grupong Confederation ...</td>\n",
              "      <td>0</td>\n",
              "    </tr>\n",
              "    <tr>\n",
              "      <th>3</th>\n",
              "      <td>Balita</td>\n",
              "      <td>Nagtatago pa rin umano si National Bilibid Pri...</td>\n",
              "      <td>0</td>\n",
              "    </tr>\n",
              "    <tr>\n",
              "      <th>4</th>\n",
              "      <td>Balita</td>\n",
              "      <td>Mahigpit ang kautusan ni Manila Mayor Honey La...</td>\n",
              "      <td>0</td>\n",
              "    </tr>\n",
              "  </tbody>\n",
              "</table>\n",
              "</div>\n",
              "      <button class=\"colab-df-convert\" onclick=\"convertToInteractive('df-4c4872f4-bec4-4e4d-b367-5d1b05330ddf')\"\n",
              "              title=\"Convert this dataframe to an interactive table.\"\n",
              "              style=\"display:none;\">\n",
              "        \n",
              "  <svg xmlns=\"http://www.w3.org/2000/svg\" height=\"24px\"viewBox=\"0 0 24 24\"\n",
              "       width=\"24px\">\n",
              "    <path d=\"M0 0h24v24H0V0z\" fill=\"none\"/>\n",
              "    <path d=\"M18.56 5.44l.94 2.06.94-2.06 2.06-.94-2.06-.94-.94-2.06-.94 2.06-2.06.94zm-11 1L8.5 8.5l.94-2.06 2.06-.94-2.06-.94L8.5 2.5l-.94 2.06-2.06.94zm10 10l.94 2.06.94-2.06 2.06-.94-2.06-.94-.94-2.06-.94 2.06-2.06.94z\"/><path d=\"M17.41 7.96l-1.37-1.37c-.4-.4-.92-.59-1.43-.59-.52 0-1.04.2-1.43.59L10.3 9.45l-7.72 7.72c-.78.78-.78 2.05 0 2.83L4 21.41c.39.39.9.59 1.41.59.51 0 1.02-.2 1.41-.59l7.78-7.78 2.81-2.81c.8-.78.8-2.07 0-2.86zM5.41 20L4 18.59l7.72-7.72 1.47 1.35L5.41 20z\"/>\n",
              "  </svg>\n",
              "      </button>\n",
              "      \n",
              "  <style>\n",
              "    .colab-df-container {\n",
              "      display:flex;\n",
              "      flex-wrap:wrap;\n",
              "      gap: 12px;\n",
              "    }\n",
              "\n",
              "    .colab-df-convert {\n",
              "      background-color: #E8F0FE;\n",
              "      border: none;\n",
              "      border-radius: 50%;\n",
              "      cursor: pointer;\n",
              "      display: none;\n",
              "      fill: #1967D2;\n",
              "      height: 32px;\n",
              "      padding: 0 0 0 0;\n",
              "      width: 32px;\n",
              "    }\n",
              "\n",
              "    .colab-df-convert:hover {\n",
              "      background-color: #E2EBFA;\n",
              "      box-shadow: 0px 1px 2px rgba(60, 64, 67, 0.3), 0px 1px 3px 1px rgba(60, 64, 67, 0.15);\n",
              "      fill: #174EA6;\n",
              "    }\n",
              "\n",
              "    [theme=dark] .colab-df-convert {\n",
              "      background-color: #3B4455;\n",
              "      fill: #D2E3FC;\n",
              "    }\n",
              "\n",
              "    [theme=dark] .colab-df-convert:hover {\n",
              "      background-color: #434B5C;\n",
              "      box-shadow: 0px 1px 3px 1px rgba(0, 0, 0, 0.15);\n",
              "      filter: drop-shadow(0px 1px 2px rgba(0, 0, 0, 0.3));\n",
              "      fill: #FFFFFF;\n",
              "    }\n",
              "  </style>\n",
              "\n",
              "      <script>\n",
              "        const buttonEl =\n",
              "          document.querySelector('#df-4c4872f4-bec4-4e4d-b367-5d1b05330ddf button.colab-df-convert');\n",
              "        buttonEl.style.display =\n",
              "          google.colab.kernel.accessAllowed ? 'block' : 'none';\n",
              "\n",
              "        async function convertToInteractive(key) {\n",
              "          const element = document.querySelector('#df-4c4872f4-bec4-4e4d-b367-5d1b05330ddf');\n",
              "          const dataTable =\n",
              "            await google.colab.kernel.invokeFunction('convertToInteractive',\n",
              "                                                     [key], {});\n",
              "          if (!dataTable) return;\n",
              "\n",
              "          const docLinkHtml = 'Like what you see? Visit the ' +\n",
              "            '<a target=\"_blank\" href=https://colab.research.google.com/notebooks/data_table.ipynb>data table notebook</a>'\n",
              "            + ' to learn more about interactive tables.';\n",
              "          element.innerHTML = '';\n",
              "          dataTable['output_type'] = 'display_data';\n",
              "          await google.colab.output.renderOutput(dataTable, element);\n",
              "          const docLink = document.createElement('div');\n",
              "          docLink.innerHTML = docLinkHtml;\n",
              "          element.appendChild(docLink);\n",
              "        }\n",
              "      </script>\n",
              "    </div>\n",
              "  </div>\n",
              "  "
            ]
          },
          "metadata": {},
          "execution_count": 5
        }
      ],
      "source": [
        "df_fil.head(5)"
      ]
    },
    {
      "cell_type": "markdown",
      "metadata": {
        "id": "rySuKwLRx-Ph"
      },
      "source": [
        "Inserting a column called \"class\" for fake and real news dataset to categories fake and true news. "
      ]
    },
    {
      "cell_type": "code",
      "execution_count": null,
      "metadata": {
        "id": "yQB4Y0Cyx-Ph"
      },
      "outputs": [],
      "source": [
        "#df_fake[\"class\"] = 1\n",
        "#df_true[\"class\"] = 0"
      ]
    },
    {
      "cell_type": "markdown",
      "metadata": {
        "id": "R3FMs3F1x-Pi"
      },
      "source": [
        "Removing last 10 rows from both the dataset, for manual testing  "
      ]
    },
    {
      "cell_type": "code",
      "execution_count": 6,
      "metadata": {
        "id": "MZ56QVcwx-Pi",
        "outputId": "f1213573-b689-459f-afe9-64cab48a7f02",
        "colab": {
          "base_uri": "https://localhost:8080/"
        }
      },
      "outputs": [
        {
          "output_type": "execute_result",
          "data": {
            "text/plain": [
              "((1210, 3), (793, 3))"
            ]
          },
          "metadata": {},
          "execution_count": 6
        }
      ],
      "source": [
        "df_eng.shape, df_fil.shape"
      ]
    },
    {
      "cell_type": "code",
      "execution_count": null,
      "metadata": {
        "id": "XAwZXH1ox-Pi"
      },
      "outputs": [],
      "source": [
        "#df_fake_manual_testing = df_fake.tail(10)\n",
        "#for i in range(23480,23470,-1):\n",
        "#    df_fake.drop([i], axis = 0, inplace = True)\n",
        "#df_true_manual_testing = df_true.tail(10)\n",
        "#for i in range(21416,21406,-1):\n",
        "#    df_true.drop([i], axis = 0, inplace = True)"
      ]
    },
    {
      "cell_type": "code",
      "execution_count": null,
      "metadata": {
        "id": "hFNrIojux-Pj",
        "outputId": "657b4ec9-ba7f-40ab-8ec4-456a322a0fa8",
        "colab": {
          "base_uri": "https://localhost:8080/"
        }
      },
      "outputs": [
        {
          "output_type": "execute_result",
          "data": {
            "text/plain": [
              "((23481, 5), (21417, 5))"
            ]
          },
          "metadata": {},
          "execution_count": 9
        }
      ],
      "source": [
        "#df_fake.shape, df_true.shape"
      ]
    },
    {
      "cell_type": "markdown",
      "metadata": {
        "id": "vFQqTcWyx-Pj"
      },
      "source": [
        "Merging the manual testing dataframe in single dataset and save it in a csv file"
      ]
    },
    {
      "cell_type": "code",
      "execution_count": null,
      "metadata": {
        "id": "npPkA-Adx-Pj"
      },
      "outputs": [],
      "source": [
        "#df_fake_manual_testing[\"class\"] = 0\n",
        "#df_true_manual_testing[\"class\"] = 1"
      ]
    },
    {
      "cell_type": "code",
      "execution_count": null,
      "metadata": {
        "id": "6naBNVzJx-Pj"
      },
      "outputs": [],
      "source": [
        "#df_fake_manual_testing.head(10)"
      ]
    },
    {
      "cell_type": "code",
      "execution_count": null,
      "metadata": {
        "id": "y9K3Q6Ssx-Pk"
      },
      "outputs": [],
      "source": [
        "#df_true_manual_testing.head(10)"
      ]
    },
    {
      "cell_type": "code",
      "execution_count": null,
      "metadata": {
        "id": "AOfiR_c2x-Pk"
      },
      "outputs": [],
      "source": [
        "#df_manual_testing = pd.concat([df_fake_manual_testing,df_true_manual_testing], axis = 0)\n",
        "#df_manual_testing.to_csv(\"/content/drive/MyDrive/Fake news detection using python | Data Science Problem with python | Machine Learning | Tutorial 1/manual_testing.csv\")"
      ]
    },
    {
      "cell_type": "markdown",
      "metadata": {
        "id": "QuXdXCIMx-Pk"
      },
      "source": [
        "Merging the main fake and true dataframe"
      ]
    },
    {
      "cell_type": "code",
      "execution_count": 7,
      "metadata": {
        "id": "G5LeEgoEx-Pk",
        "outputId": "3d7fd2ff-4007-4126-946b-6db7de43fa6d",
        "colab": {
          "base_uri": "https://localhost:8080/",
          "height": 363
        }
      },
      "outputs": [
        {
          "output_type": "execute_result",
          "data": {
            "text/plain": [
              "              Page                                               Text  Label\n",
              "0  Manila Bulletin  President Ferdinand “Bongbong” Marcos Jr. beli...      0\n",
              "1  Manila Bulletin  A New People’s Army member who has pending war...      0\n",
              "2  Manila Bulletin  Malacañang announced that President Marcos has...      0\n",
              "3  Manila Bulletin  Fisherfolk organizations staged a peaceful ral...      0\n",
              "4  Manila Bulletin  Members of the Northern Police District-Distri...      0\n",
              "5  Manila Bulletin  Secretary of Foreign Affairs Enrique Manalo sa...      0\n",
              "6  Manila Bulletin  CAMP RAFAEL C. RODRIGUEZ, Butuan City – A top ...      0\n",
              "7  Manila Bulletin  The National Bureau of Investigation (NBI) is ...      0\n",
              "8  Manila Bulletin  At least six members of the New People’s Army ...      0\n",
              "9  Manila Bulletin  The Department of Finance (DOF) has vowed to r...      0"
            ],
            "text/html": [
              "\n",
              "  <div id=\"df-41d6ad55-a267-4c26-bb07-53a9c4999dca\">\n",
              "    <div class=\"colab-df-container\">\n",
              "      <div>\n",
              "<style scoped>\n",
              "    .dataframe tbody tr th:only-of-type {\n",
              "        vertical-align: middle;\n",
              "    }\n",
              "\n",
              "    .dataframe tbody tr th {\n",
              "        vertical-align: top;\n",
              "    }\n",
              "\n",
              "    .dataframe thead th {\n",
              "        text-align: right;\n",
              "    }\n",
              "</style>\n",
              "<table border=\"1\" class=\"dataframe\">\n",
              "  <thead>\n",
              "    <tr style=\"text-align: right;\">\n",
              "      <th></th>\n",
              "      <th>Page</th>\n",
              "      <th>Text</th>\n",
              "      <th>Label</th>\n",
              "    </tr>\n",
              "  </thead>\n",
              "  <tbody>\n",
              "    <tr>\n",
              "      <th>0</th>\n",
              "      <td>Manila Bulletin</td>\n",
              "      <td>President Ferdinand “Bongbong” Marcos Jr. beli...</td>\n",
              "      <td>0</td>\n",
              "    </tr>\n",
              "    <tr>\n",
              "      <th>1</th>\n",
              "      <td>Manila Bulletin</td>\n",
              "      <td>A New People’s Army member who has pending war...</td>\n",
              "      <td>0</td>\n",
              "    </tr>\n",
              "    <tr>\n",
              "      <th>2</th>\n",
              "      <td>Manila Bulletin</td>\n",
              "      <td>Malacañang announced that President Marcos has...</td>\n",
              "      <td>0</td>\n",
              "    </tr>\n",
              "    <tr>\n",
              "      <th>3</th>\n",
              "      <td>Manila Bulletin</td>\n",
              "      <td>Fisherfolk organizations staged a peaceful ral...</td>\n",
              "      <td>0</td>\n",
              "    </tr>\n",
              "    <tr>\n",
              "      <th>4</th>\n",
              "      <td>Manila Bulletin</td>\n",
              "      <td>Members of the Northern Police District-Distri...</td>\n",
              "      <td>0</td>\n",
              "    </tr>\n",
              "    <tr>\n",
              "      <th>5</th>\n",
              "      <td>Manila Bulletin</td>\n",
              "      <td>Secretary of Foreign Affairs Enrique Manalo sa...</td>\n",
              "      <td>0</td>\n",
              "    </tr>\n",
              "    <tr>\n",
              "      <th>6</th>\n",
              "      <td>Manila Bulletin</td>\n",
              "      <td>CAMP RAFAEL C. RODRIGUEZ, Butuan City – A top ...</td>\n",
              "      <td>0</td>\n",
              "    </tr>\n",
              "    <tr>\n",
              "      <th>7</th>\n",
              "      <td>Manila Bulletin</td>\n",
              "      <td>The National Bureau of Investigation (NBI) is ...</td>\n",
              "      <td>0</td>\n",
              "    </tr>\n",
              "    <tr>\n",
              "      <th>8</th>\n",
              "      <td>Manila Bulletin</td>\n",
              "      <td>At least six members of the New People’s Army ...</td>\n",
              "      <td>0</td>\n",
              "    </tr>\n",
              "    <tr>\n",
              "      <th>9</th>\n",
              "      <td>Manila Bulletin</td>\n",
              "      <td>The Department of Finance (DOF) has vowed to r...</td>\n",
              "      <td>0</td>\n",
              "    </tr>\n",
              "  </tbody>\n",
              "</table>\n",
              "</div>\n",
              "      <button class=\"colab-df-convert\" onclick=\"convertToInteractive('df-41d6ad55-a267-4c26-bb07-53a9c4999dca')\"\n",
              "              title=\"Convert this dataframe to an interactive table.\"\n",
              "              style=\"display:none;\">\n",
              "        \n",
              "  <svg xmlns=\"http://www.w3.org/2000/svg\" height=\"24px\"viewBox=\"0 0 24 24\"\n",
              "       width=\"24px\">\n",
              "    <path d=\"M0 0h24v24H0V0z\" fill=\"none\"/>\n",
              "    <path d=\"M18.56 5.44l.94 2.06.94-2.06 2.06-.94-2.06-.94-.94-2.06-.94 2.06-2.06.94zm-11 1L8.5 8.5l.94-2.06 2.06-.94-2.06-.94L8.5 2.5l-.94 2.06-2.06.94zm10 10l.94 2.06.94-2.06 2.06-.94-2.06-.94-.94-2.06-.94 2.06-2.06.94z\"/><path d=\"M17.41 7.96l-1.37-1.37c-.4-.4-.92-.59-1.43-.59-.52 0-1.04.2-1.43.59L10.3 9.45l-7.72 7.72c-.78.78-.78 2.05 0 2.83L4 21.41c.39.39.9.59 1.41.59.51 0 1.02-.2 1.41-.59l7.78-7.78 2.81-2.81c.8-.78.8-2.07 0-2.86zM5.41 20L4 18.59l7.72-7.72 1.47 1.35L5.41 20z\"/>\n",
              "  </svg>\n",
              "      </button>\n",
              "      \n",
              "  <style>\n",
              "    .colab-df-container {\n",
              "      display:flex;\n",
              "      flex-wrap:wrap;\n",
              "      gap: 12px;\n",
              "    }\n",
              "\n",
              "    .colab-df-convert {\n",
              "      background-color: #E8F0FE;\n",
              "      border: none;\n",
              "      border-radius: 50%;\n",
              "      cursor: pointer;\n",
              "      display: none;\n",
              "      fill: #1967D2;\n",
              "      height: 32px;\n",
              "      padding: 0 0 0 0;\n",
              "      width: 32px;\n",
              "    }\n",
              "\n",
              "    .colab-df-convert:hover {\n",
              "      background-color: #E2EBFA;\n",
              "      box-shadow: 0px 1px 2px rgba(60, 64, 67, 0.3), 0px 1px 3px 1px rgba(60, 64, 67, 0.15);\n",
              "      fill: #174EA6;\n",
              "    }\n",
              "\n",
              "    [theme=dark] .colab-df-convert {\n",
              "      background-color: #3B4455;\n",
              "      fill: #D2E3FC;\n",
              "    }\n",
              "\n",
              "    [theme=dark] .colab-df-convert:hover {\n",
              "      background-color: #434B5C;\n",
              "      box-shadow: 0px 1px 3px 1px rgba(0, 0, 0, 0.15);\n",
              "      filter: drop-shadow(0px 1px 2px rgba(0, 0, 0, 0.3));\n",
              "      fill: #FFFFFF;\n",
              "    }\n",
              "  </style>\n",
              "\n",
              "      <script>\n",
              "        const buttonEl =\n",
              "          document.querySelector('#df-41d6ad55-a267-4c26-bb07-53a9c4999dca button.colab-df-convert');\n",
              "        buttonEl.style.display =\n",
              "          google.colab.kernel.accessAllowed ? 'block' : 'none';\n",
              "\n",
              "        async function convertToInteractive(key) {\n",
              "          const element = document.querySelector('#df-41d6ad55-a267-4c26-bb07-53a9c4999dca');\n",
              "          const dataTable =\n",
              "            await google.colab.kernel.invokeFunction('convertToInteractive',\n",
              "                                                     [key], {});\n",
              "          if (!dataTable) return;\n",
              "\n",
              "          const docLinkHtml = 'Like what you see? Visit the ' +\n",
              "            '<a target=\"_blank\" href=https://colab.research.google.com/notebooks/data_table.ipynb>data table notebook</a>'\n",
              "            + ' to learn more about interactive tables.';\n",
              "          element.innerHTML = '';\n",
              "          dataTable['output_type'] = 'display_data';\n",
              "          await google.colab.output.renderOutput(dataTable, element);\n",
              "          const docLink = document.createElement('div');\n",
              "          docLink.innerHTML = docLinkHtml;\n",
              "          element.appendChild(docLink);\n",
              "        }\n",
              "      </script>\n",
              "    </div>\n",
              "  </div>\n",
              "  "
            ]
          },
          "metadata": {},
          "execution_count": 7
        }
      ],
      "source": [
        "df_merge = pd.concat([df_eng, df_fil], axis =0 )\n",
        "df_merge.head(10)"
      ]
    },
    {
      "cell_type": "code",
      "execution_count": 8,
      "metadata": {
        "id": "Avbh-v4Nx-Pl",
        "outputId": "902aec8a-90b3-408a-b7a3-2cc3dfb802fe",
        "colab": {
          "base_uri": "https://localhost:8080/"
        }
      },
      "outputs": [
        {
          "output_type": "execute_result",
          "data": {
            "text/plain": [
              "Index(['Page', 'Text', 'Label'], dtype='object')"
            ]
          },
          "metadata": {},
          "execution_count": 8
        }
      ],
      "source": [
        "df_merge.columns"
      ]
    },
    {
      "cell_type": "markdown",
      "metadata": {
        "id": "LASAhNRAx-Pl"
      },
      "source": [
        "#### Dropping unnecessary columns columns "
      ]
    },
    {
      "cell_type": "code",
      "execution_count": 9,
      "metadata": {
        "id": "L3QqZWiPx-Pl",
        "colab": {
          "base_uri": "https://localhost:8080/",
          "height": 363
        },
        "outputId": "0123631c-39d9-4e1f-8768-acd03d225e25"
      },
      "outputs": [
        {
          "output_type": "execute_result",
          "data": {
            "text/plain": [
              "                                                Text  Label\n",
              "0  President Ferdinand “Bongbong” Marcos Jr. beli...      0\n",
              "1  A New People’s Army member who has pending war...      0\n",
              "2  Malacañang announced that President Marcos has...      0\n",
              "3  Fisherfolk organizations staged a peaceful ral...      0\n",
              "4  Members of the Northern Police District-Distri...      0\n",
              "5  Secretary of Foreign Affairs Enrique Manalo sa...      0\n",
              "6  CAMP RAFAEL C. RODRIGUEZ, Butuan City – A top ...      0\n",
              "7  The National Bureau of Investigation (NBI) is ...      0\n",
              "8  At least six members of the New People’s Army ...      0\n",
              "9  The Department of Finance (DOF) has vowed to r...      0"
            ],
            "text/html": [
              "\n",
              "  <div id=\"df-02f37d37-4b87-4350-9b94-681995f6f5d6\">\n",
              "    <div class=\"colab-df-container\">\n",
              "      <div>\n",
              "<style scoped>\n",
              "    .dataframe tbody tr th:only-of-type {\n",
              "        vertical-align: middle;\n",
              "    }\n",
              "\n",
              "    .dataframe tbody tr th {\n",
              "        vertical-align: top;\n",
              "    }\n",
              "\n",
              "    .dataframe thead th {\n",
              "        text-align: right;\n",
              "    }\n",
              "</style>\n",
              "<table border=\"1\" class=\"dataframe\">\n",
              "  <thead>\n",
              "    <tr style=\"text-align: right;\">\n",
              "      <th></th>\n",
              "      <th>Text</th>\n",
              "      <th>Label</th>\n",
              "    </tr>\n",
              "  </thead>\n",
              "  <tbody>\n",
              "    <tr>\n",
              "      <th>0</th>\n",
              "      <td>President Ferdinand “Bongbong” Marcos Jr. beli...</td>\n",
              "      <td>0</td>\n",
              "    </tr>\n",
              "    <tr>\n",
              "      <th>1</th>\n",
              "      <td>A New People’s Army member who has pending war...</td>\n",
              "      <td>0</td>\n",
              "    </tr>\n",
              "    <tr>\n",
              "      <th>2</th>\n",
              "      <td>Malacañang announced that President Marcos has...</td>\n",
              "      <td>0</td>\n",
              "    </tr>\n",
              "    <tr>\n",
              "      <th>3</th>\n",
              "      <td>Fisherfolk organizations staged a peaceful ral...</td>\n",
              "      <td>0</td>\n",
              "    </tr>\n",
              "    <tr>\n",
              "      <th>4</th>\n",
              "      <td>Members of the Northern Police District-Distri...</td>\n",
              "      <td>0</td>\n",
              "    </tr>\n",
              "    <tr>\n",
              "      <th>5</th>\n",
              "      <td>Secretary of Foreign Affairs Enrique Manalo sa...</td>\n",
              "      <td>0</td>\n",
              "    </tr>\n",
              "    <tr>\n",
              "      <th>6</th>\n",
              "      <td>CAMP RAFAEL C. RODRIGUEZ, Butuan City – A top ...</td>\n",
              "      <td>0</td>\n",
              "    </tr>\n",
              "    <tr>\n",
              "      <th>7</th>\n",
              "      <td>The National Bureau of Investigation (NBI) is ...</td>\n",
              "      <td>0</td>\n",
              "    </tr>\n",
              "    <tr>\n",
              "      <th>8</th>\n",
              "      <td>At least six members of the New People’s Army ...</td>\n",
              "      <td>0</td>\n",
              "    </tr>\n",
              "    <tr>\n",
              "      <th>9</th>\n",
              "      <td>The Department of Finance (DOF) has vowed to r...</td>\n",
              "      <td>0</td>\n",
              "    </tr>\n",
              "  </tbody>\n",
              "</table>\n",
              "</div>\n",
              "      <button class=\"colab-df-convert\" onclick=\"convertToInteractive('df-02f37d37-4b87-4350-9b94-681995f6f5d6')\"\n",
              "              title=\"Convert this dataframe to an interactive table.\"\n",
              "              style=\"display:none;\">\n",
              "        \n",
              "  <svg xmlns=\"http://www.w3.org/2000/svg\" height=\"24px\"viewBox=\"0 0 24 24\"\n",
              "       width=\"24px\">\n",
              "    <path d=\"M0 0h24v24H0V0z\" fill=\"none\"/>\n",
              "    <path d=\"M18.56 5.44l.94 2.06.94-2.06 2.06-.94-2.06-.94-.94-2.06-.94 2.06-2.06.94zm-11 1L8.5 8.5l.94-2.06 2.06-.94-2.06-.94L8.5 2.5l-.94 2.06-2.06.94zm10 10l.94 2.06.94-2.06 2.06-.94-2.06-.94-.94-2.06-.94 2.06-2.06.94z\"/><path d=\"M17.41 7.96l-1.37-1.37c-.4-.4-.92-.59-1.43-.59-.52 0-1.04.2-1.43.59L10.3 9.45l-7.72 7.72c-.78.78-.78 2.05 0 2.83L4 21.41c.39.39.9.59 1.41.59.51 0 1.02-.2 1.41-.59l7.78-7.78 2.81-2.81c.8-.78.8-2.07 0-2.86zM5.41 20L4 18.59l7.72-7.72 1.47 1.35L5.41 20z\"/>\n",
              "  </svg>\n",
              "      </button>\n",
              "      \n",
              "  <style>\n",
              "    .colab-df-container {\n",
              "      display:flex;\n",
              "      flex-wrap:wrap;\n",
              "      gap: 12px;\n",
              "    }\n",
              "\n",
              "    .colab-df-convert {\n",
              "      background-color: #E8F0FE;\n",
              "      border: none;\n",
              "      border-radius: 50%;\n",
              "      cursor: pointer;\n",
              "      display: none;\n",
              "      fill: #1967D2;\n",
              "      height: 32px;\n",
              "      padding: 0 0 0 0;\n",
              "      width: 32px;\n",
              "    }\n",
              "\n",
              "    .colab-df-convert:hover {\n",
              "      background-color: #E2EBFA;\n",
              "      box-shadow: 0px 1px 2px rgba(60, 64, 67, 0.3), 0px 1px 3px 1px rgba(60, 64, 67, 0.15);\n",
              "      fill: #174EA6;\n",
              "    }\n",
              "\n",
              "    [theme=dark] .colab-df-convert {\n",
              "      background-color: #3B4455;\n",
              "      fill: #D2E3FC;\n",
              "    }\n",
              "\n",
              "    [theme=dark] .colab-df-convert:hover {\n",
              "      background-color: #434B5C;\n",
              "      box-shadow: 0px 1px 3px 1px rgba(0, 0, 0, 0.15);\n",
              "      filter: drop-shadow(0px 1px 2px rgba(0, 0, 0, 0.3));\n",
              "      fill: #FFFFFF;\n",
              "    }\n",
              "  </style>\n",
              "\n",
              "      <script>\n",
              "        const buttonEl =\n",
              "          document.querySelector('#df-02f37d37-4b87-4350-9b94-681995f6f5d6 button.colab-df-convert');\n",
              "        buttonEl.style.display =\n",
              "          google.colab.kernel.accessAllowed ? 'block' : 'none';\n",
              "\n",
              "        async function convertToInteractive(key) {\n",
              "          const element = document.querySelector('#df-02f37d37-4b87-4350-9b94-681995f6f5d6');\n",
              "          const dataTable =\n",
              "            await google.colab.kernel.invokeFunction('convertToInteractive',\n",
              "                                                     [key], {});\n",
              "          if (!dataTable) return;\n",
              "\n",
              "          const docLinkHtml = 'Like what you see? Visit the ' +\n",
              "            '<a target=\"_blank\" href=https://colab.research.google.com/notebooks/data_table.ipynb>data table notebook</a>'\n",
              "            + ' to learn more about interactive tables.';\n",
              "          element.innerHTML = '';\n",
              "          dataTable['output_type'] = 'display_data';\n",
              "          await google.colab.output.renderOutput(dataTable, element);\n",
              "          const docLink = document.createElement('div');\n",
              "          docLink.innerHTML = docLinkHtml;\n",
              "          element.appendChild(docLink);\n",
              "        }\n",
              "      </script>\n",
              "    </div>\n",
              "  </div>\n",
              "  "
            ]
          },
          "metadata": {},
          "execution_count": 9
        }
      ],
      "source": [
        "df = df_merge.drop([\"Page\"], axis = 1)\n",
        "df.head(10)"
      ]
    },
    {
      "cell_type": "code",
      "execution_count": 10,
      "metadata": {
        "id": "0wbRVI9wx-Pm",
        "outputId": "132c7f1f-81b5-49de-a8c6-30b052b561d0",
        "colab": {
          "base_uri": "https://localhost:8080/"
        }
      },
      "outputs": [
        {
          "output_type": "execute_result",
          "data": {
            "text/plain": [
              "Text     0\n",
              "Label    0\n",
              "dtype: int64"
            ]
          },
          "metadata": {},
          "execution_count": 10
        }
      ],
      "source": [
        "df.isnull().sum()"
      ]
    },
    {
      "cell_type": "markdown",
      "metadata": {
        "id": "iEGswMdix-Pm"
      },
      "source": [
        "#### Randomly shuffling the dataframe "
      ]
    },
    {
      "cell_type": "code",
      "execution_count": 11,
      "metadata": {
        "id": "ueitSSRBx-Pm"
      },
      "outputs": [],
      "source": [
        "df = df.sample(frac = 1)"
      ]
    },
    {
      "cell_type": "code",
      "execution_count": 12,
      "metadata": {
        "id": "p2a7LYScx-Pm",
        "outputId": "1a299dd4-e7da-42cd-ff5e-9c398fb14db0",
        "colab": {
          "base_uri": "https://localhost:8080/",
          "height": 206
        }
      },
      "outputs": [
        {
          "output_type": "execute_result",
          "data": {
            "text/plain": [
              "                                                  Text  Label\n",
              "962  \"In difficult moments ay hindi sya nagpapakita...      1\n",
              "468  Inisa-isa ni Partido Reporma Presidential bet ...      0\n",
              "392  Senator Robinhood “Robin” C. Padilla is pushin...      0\n",
              "996  Senator Sherwin Gatchalian has urged the Senat...      0\n",
              "654  So bakit parang kasalanan na naman ng Marcos A...      1"
            ],
            "text/html": [
              "\n",
              "  <div id=\"df-d156def9-8ee1-457d-9282-63c60e1b3c78\">\n",
              "    <div class=\"colab-df-container\">\n",
              "      <div>\n",
              "<style scoped>\n",
              "    .dataframe tbody tr th:only-of-type {\n",
              "        vertical-align: middle;\n",
              "    }\n",
              "\n",
              "    .dataframe tbody tr th {\n",
              "        vertical-align: top;\n",
              "    }\n",
              "\n",
              "    .dataframe thead th {\n",
              "        text-align: right;\n",
              "    }\n",
              "</style>\n",
              "<table border=\"1\" class=\"dataframe\">\n",
              "  <thead>\n",
              "    <tr style=\"text-align: right;\">\n",
              "      <th></th>\n",
              "      <th>Text</th>\n",
              "      <th>Label</th>\n",
              "    </tr>\n",
              "  </thead>\n",
              "  <tbody>\n",
              "    <tr>\n",
              "      <th>962</th>\n",
              "      <td>\"In difficult moments ay hindi sya nagpapakita...</td>\n",
              "      <td>1</td>\n",
              "    </tr>\n",
              "    <tr>\n",
              "      <th>468</th>\n",
              "      <td>Inisa-isa ni Partido Reporma Presidential bet ...</td>\n",
              "      <td>0</td>\n",
              "    </tr>\n",
              "    <tr>\n",
              "      <th>392</th>\n",
              "      <td>Senator Robinhood “Robin” C. Padilla is pushin...</td>\n",
              "      <td>0</td>\n",
              "    </tr>\n",
              "    <tr>\n",
              "      <th>996</th>\n",
              "      <td>Senator Sherwin Gatchalian has urged the Senat...</td>\n",
              "      <td>0</td>\n",
              "    </tr>\n",
              "    <tr>\n",
              "      <th>654</th>\n",
              "      <td>So bakit parang kasalanan na naman ng Marcos A...</td>\n",
              "      <td>1</td>\n",
              "    </tr>\n",
              "  </tbody>\n",
              "</table>\n",
              "</div>\n",
              "      <button class=\"colab-df-convert\" onclick=\"convertToInteractive('df-d156def9-8ee1-457d-9282-63c60e1b3c78')\"\n",
              "              title=\"Convert this dataframe to an interactive table.\"\n",
              "              style=\"display:none;\">\n",
              "        \n",
              "  <svg xmlns=\"http://www.w3.org/2000/svg\" height=\"24px\"viewBox=\"0 0 24 24\"\n",
              "       width=\"24px\">\n",
              "    <path d=\"M0 0h24v24H0V0z\" fill=\"none\"/>\n",
              "    <path d=\"M18.56 5.44l.94 2.06.94-2.06 2.06-.94-2.06-.94-.94-2.06-.94 2.06-2.06.94zm-11 1L8.5 8.5l.94-2.06 2.06-.94-2.06-.94L8.5 2.5l-.94 2.06-2.06.94zm10 10l.94 2.06.94-2.06 2.06-.94-2.06-.94-.94-2.06-.94 2.06-2.06.94z\"/><path d=\"M17.41 7.96l-1.37-1.37c-.4-.4-.92-.59-1.43-.59-.52 0-1.04.2-1.43.59L10.3 9.45l-7.72 7.72c-.78.78-.78 2.05 0 2.83L4 21.41c.39.39.9.59 1.41.59.51 0 1.02-.2 1.41-.59l7.78-7.78 2.81-2.81c.8-.78.8-2.07 0-2.86zM5.41 20L4 18.59l7.72-7.72 1.47 1.35L5.41 20z\"/>\n",
              "  </svg>\n",
              "      </button>\n",
              "      \n",
              "  <style>\n",
              "    .colab-df-container {\n",
              "      display:flex;\n",
              "      flex-wrap:wrap;\n",
              "      gap: 12px;\n",
              "    }\n",
              "\n",
              "    .colab-df-convert {\n",
              "      background-color: #E8F0FE;\n",
              "      border: none;\n",
              "      border-radius: 50%;\n",
              "      cursor: pointer;\n",
              "      display: none;\n",
              "      fill: #1967D2;\n",
              "      height: 32px;\n",
              "      padding: 0 0 0 0;\n",
              "      width: 32px;\n",
              "    }\n",
              "\n",
              "    .colab-df-convert:hover {\n",
              "      background-color: #E2EBFA;\n",
              "      box-shadow: 0px 1px 2px rgba(60, 64, 67, 0.3), 0px 1px 3px 1px rgba(60, 64, 67, 0.15);\n",
              "      fill: #174EA6;\n",
              "    }\n",
              "\n",
              "    [theme=dark] .colab-df-convert {\n",
              "      background-color: #3B4455;\n",
              "      fill: #D2E3FC;\n",
              "    }\n",
              "\n",
              "    [theme=dark] .colab-df-convert:hover {\n",
              "      background-color: #434B5C;\n",
              "      box-shadow: 0px 1px 3px 1px rgba(0, 0, 0, 0.15);\n",
              "      filter: drop-shadow(0px 1px 2px rgba(0, 0, 0, 0.3));\n",
              "      fill: #FFFFFF;\n",
              "    }\n",
              "  </style>\n",
              "\n",
              "      <script>\n",
              "        const buttonEl =\n",
              "          document.querySelector('#df-d156def9-8ee1-457d-9282-63c60e1b3c78 button.colab-df-convert');\n",
              "        buttonEl.style.display =\n",
              "          google.colab.kernel.accessAllowed ? 'block' : 'none';\n",
              "\n",
              "        async function convertToInteractive(key) {\n",
              "          const element = document.querySelector('#df-d156def9-8ee1-457d-9282-63c60e1b3c78');\n",
              "          const dataTable =\n",
              "            await google.colab.kernel.invokeFunction('convertToInteractive',\n",
              "                                                     [key], {});\n",
              "          if (!dataTable) return;\n",
              "\n",
              "          const docLinkHtml = 'Like what you see? Visit the ' +\n",
              "            '<a target=\"_blank\" href=https://colab.research.google.com/notebooks/data_table.ipynb>data table notebook</a>'\n",
              "            + ' to learn more about interactive tables.';\n",
              "          element.innerHTML = '';\n",
              "          dataTable['output_type'] = 'display_data';\n",
              "          await google.colab.output.renderOutput(dataTable, element);\n",
              "          const docLink = document.createElement('div');\n",
              "          docLink.innerHTML = docLinkHtml;\n",
              "          element.appendChild(docLink);\n",
              "        }\n",
              "      </script>\n",
              "    </div>\n",
              "  </div>\n",
              "  "
            ]
          },
          "metadata": {},
          "execution_count": 12
        }
      ],
      "source": [
        "df.head()"
      ]
    },
    {
      "cell_type": "code",
      "execution_count": 13,
      "metadata": {
        "id": "ctX3Ex2kx-Pn"
      },
      "outputs": [],
      "source": [
        "df.reset_index(inplace = True)\n",
        "df.drop([\"index\"], axis = 1, inplace = True)"
      ]
    },
    {
      "cell_type": "code",
      "execution_count": 14,
      "metadata": {
        "id": "qVF2YKByx-Pn",
        "outputId": "acdcb518-32f9-487a-b01a-968b45a4d1cc",
        "colab": {
          "base_uri": "https://localhost:8080/"
        }
      },
      "outputs": [
        {
          "output_type": "execute_result",
          "data": {
            "text/plain": [
              "Index(['Text', 'Label'], dtype='object')"
            ]
          },
          "metadata": {},
          "execution_count": 14
        }
      ],
      "source": [
        "df.columns"
      ]
    },
    {
      "cell_type": "code",
      "execution_count": 15,
      "metadata": {
        "id": "LB-IoNnsx-Pn",
        "outputId": "1f696abd-e250-4d43-ae55-e59d67df7b7a",
        "colab": {
          "base_uri": "https://localhost:8080/",
          "height": 206
        }
      },
      "outputs": [
        {
          "output_type": "execute_result",
          "data": {
            "text/plain": [
              "                                                Text  Label\n",
              "0  \"In difficult moments ay hindi sya nagpapakita...      1\n",
              "1  Inisa-isa ni Partido Reporma Presidential bet ...      0\n",
              "2  Senator Robinhood “Robin” C. Padilla is pushin...      0\n",
              "3  Senator Sherwin Gatchalian has urged the Senat...      0\n",
              "4  So bakit parang kasalanan na naman ng Marcos A...      1"
            ],
            "text/html": [
              "\n",
              "  <div id=\"df-c5e31500-e87b-4483-a069-7056bfd9b0a1\">\n",
              "    <div class=\"colab-df-container\">\n",
              "      <div>\n",
              "<style scoped>\n",
              "    .dataframe tbody tr th:only-of-type {\n",
              "        vertical-align: middle;\n",
              "    }\n",
              "\n",
              "    .dataframe tbody tr th {\n",
              "        vertical-align: top;\n",
              "    }\n",
              "\n",
              "    .dataframe thead th {\n",
              "        text-align: right;\n",
              "    }\n",
              "</style>\n",
              "<table border=\"1\" class=\"dataframe\">\n",
              "  <thead>\n",
              "    <tr style=\"text-align: right;\">\n",
              "      <th></th>\n",
              "      <th>Text</th>\n",
              "      <th>Label</th>\n",
              "    </tr>\n",
              "  </thead>\n",
              "  <tbody>\n",
              "    <tr>\n",
              "      <th>0</th>\n",
              "      <td>\"In difficult moments ay hindi sya nagpapakita...</td>\n",
              "      <td>1</td>\n",
              "    </tr>\n",
              "    <tr>\n",
              "      <th>1</th>\n",
              "      <td>Inisa-isa ni Partido Reporma Presidential bet ...</td>\n",
              "      <td>0</td>\n",
              "    </tr>\n",
              "    <tr>\n",
              "      <th>2</th>\n",
              "      <td>Senator Robinhood “Robin” C. Padilla is pushin...</td>\n",
              "      <td>0</td>\n",
              "    </tr>\n",
              "    <tr>\n",
              "      <th>3</th>\n",
              "      <td>Senator Sherwin Gatchalian has urged the Senat...</td>\n",
              "      <td>0</td>\n",
              "    </tr>\n",
              "    <tr>\n",
              "      <th>4</th>\n",
              "      <td>So bakit parang kasalanan na naman ng Marcos A...</td>\n",
              "      <td>1</td>\n",
              "    </tr>\n",
              "  </tbody>\n",
              "</table>\n",
              "</div>\n",
              "      <button class=\"colab-df-convert\" onclick=\"convertToInteractive('df-c5e31500-e87b-4483-a069-7056bfd9b0a1')\"\n",
              "              title=\"Convert this dataframe to an interactive table.\"\n",
              "              style=\"display:none;\">\n",
              "        \n",
              "  <svg xmlns=\"http://www.w3.org/2000/svg\" height=\"24px\"viewBox=\"0 0 24 24\"\n",
              "       width=\"24px\">\n",
              "    <path d=\"M0 0h24v24H0V0z\" fill=\"none\"/>\n",
              "    <path d=\"M18.56 5.44l.94 2.06.94-2.06 2.06-.94-2.06-.94-.94-2.06-.94 2.06-2.06.94zm-11 1L8.5 8.5l.94-2.06 2.06-.94-2.06-.94L8.5 2.5l-.94 2.06-2.06.94zm10 10l.94 2.06.94-2.06 2.06-.94-2.06-.94-.94-2.06-.94 2.06-2.06.94z\"/><path d=\"M17.41 7.96l-1.37-1.37c-.4-.4-.92-.59-1.43-.59-.52 0-1.04.2-1.43.59L10.3 9.45l-7.72 7.72c-.78.78-.78 2.05 0 2.83L4 21.41c.39.39.9.59 1.41.59.51 0 1.02-.2 1.41-.59l7.78-7.78 2.81-2.81c.8-.78.8-2.07 0-2.86zM5.41 20L4 18.59l7.72-7.72 1.47 1.35L5.41 20z\"/>\n",
              "  </svg>\n",
              "      </button>\n",
              "      \n",
              "  <style>\n",
              "    .colab-df-container {\n",
              "      display:flex;\n",
              "      flex-wrap:wrap;\n",
              "      gap: 12px;\n",
              "    }\n",
              "\n",
              "    .colab-df-convert {\n",
              "      background-color: #E8F0FE;\n",
              "      border: none;\n",
              "      border-radius: 50%;\n",
              "      cursor: pointer;\n",
              "      display: none;\n",
              "      fill: #1967D2;\n",
              "      height: 32px;\n",
              "      padding: 0 0 0 0;\n",
              "      width: 32px;\n",
              "    }\n",
              "\n",
              "    .colab-df-convert:hover {\n",
              "      background-color: #E2EBFA;\n",
              "      box-shadow: 0px 1px 2px rgba(60, 64, 67, 0.3), 0px 1px 3px 1px rgba(60, 64, 67, 0.15);\n",
              "      fill: #174EA6;\n",
              "    }\n",
              "\n",
              "    [theme=dark] .colab-df-convert {\n",
              "      background-color: #3B4455;\n",
              "      fill: #D2E3FC;\n",
              "    }\n",
              "\n",
              "    [theme=dark] .colab-df-convert:hover {\n",
              "      background-color: #434B5C;\n",
              "      box-shadow: 0px 1px 3px 1px rgba(0, 0, 0, 0.15);\n",
              "      filter: drop-shadow(0px 1px 2px rgba(0, 0, 0, 0.3));\n",
              "      fill: #FFFFFF;\n",
              "    }\n",
              "  </style>\n",
              "\n",
              "      <script>\n",
              "        const buttonEl =\n",
              "          document.querySelector('#df-c5e31500-e87b-4483-a069-7056bfd9b0a1 button.colab-df-convert');\n",
              "        buttonEl.style.display =\n",
              "          google.colab.kernel.accessAllowed ? 'block' : 'none';\n",
              "\n",
              "        async function convertToInteractive(key) {\n",
              "          const element = document.querySelector('#df-c5e31500-e87b-4483-a069-7056bfd9b0a1');\n",
              "          const dataTable =\n",
              "            await google.colab.kernel.invokeFunction('convertToInteractive',\n",
              "                                                     [key], {});\n",
              "          if (!dataTable) return;\n",
              "\n",
              "          const docLinkHtml = 'Like what you see? Visit the ' +\n",
              "            '<a target=\"_blank\" href=https://colab.research.google.com/notebooks/data_table.ipynb>data table notebook</a>'\n",
              "            + ' to learn more about interactive tables.';\n",
              "          element.innerHTML = '';\n",
              "          dataTable['output_type'] = 'display_data';\n",
              "          await google.colab.output.renderOutput(dataTable, element);\n",
              "          const docLink = document.createElement('div');\n",
              "          docLink.innerHTML = docLinkHtml;\n",
              "          element.appendChild(docLink);\n",
              "        }\n",
              "      </script>\n",
              "    </div>\n",
              "  </div>\n",
              "  "
            ]
          },
          "metadata": {},
          "execution_count": 15
        }
      ],
      "source": [
        "df.head()"
      ]
    },
    {
      "cell_type": "markdown",
      "metadata": {
        "id": "h4_E9Qdsx-Po"
      },
      "source": [
        "#### Defining independent and dependent variables as x and y"
      ]
    },
    {
      "cell_type": "code",
      "execution_count": 16,
      "metadata": {
        "id": "hcBa4Tl5x-Po"
      },
      "outputs": [],
      "source": [
        "x = df[\"Text\"]\n",
        "y = df[\"Label\"]\n",
        "#print(x)"
      ]
    },
    {
      "cell_type": "markdown",
      "metadata": {
        "id": "cpl9jIi7x-Pn"
      },
      "source": [
        "#### Creating a function to convert the text in lowercase, remove the extra space, special chr., ulr and links."
      ]
    },
    {
      "cell_type": "code",
      "execution_count": 17,
      "metadata": {
        "id": "X4AiMAYwx-Pn"
      },
      "outputs": [],
      "source": [
        "def wordopt(text):\n",
        "    text = text.lower()\n",
        "    text = re.sub('\\[.*?\\]', '', text)\n",
        "    text = re.sub(\"\\\\W\",\" \",text) \n",
        "    text = re.sub('https?://\\S+|www\\.\\S+', '', text)\n",
        "    text = re.sub('<.*?>+', '', text)\n",
        "    text = re.sub('[%s]' % re.escape(string.punctuation), '', text)\n",
        "    text = re.sub('\\n', '', text)\n",
        "    text = re.sub('\\w*\\d\\w*', '', text)    \n",
        "    return text"
      ]
    },
    {
      "cell_type": "code",
      "execution_count": 18,
      "metadata": {
        "id": "tfsUbhLIx-Po"
      },
      "outputs": [],
      "source": [
        "df[\"Text\"] = df[\"Text\"].apply(wordopt)"
      ]
    },
    {
      "cell_type": "markdown",
      "metadata": {
        "id": "DsMuMq7Vx-Po"
      },
      "source": [
        "#### Splitting the dataset into training set and testing set. "
      ]
    },
    {
      "cell_type": "code",
      "execution_count": 19,
      "metadata": {
        "id": "itqeKcJjx-Po"
      },
      "outputs": [],
      "source": [
        "x_train, x_test, y_train, y_test = train_test_split(x, y, test_size=0.2)"
      ]
    },
    {
      "cell_type": "markdown",
      "metadata": {
        "id": "N_W0p4vZx-Po"
      },
      "source": [
        "#### Convert text to vectors"
      ]
    },
    {
      "cell_type": "code",
      "execution_count": 20,
      "metadata": {
        "id": "Rn38-OQnx-Po"
      },
      "outputs": [],
      "source": [
        "from sklearn.feature_extraction.text import TfidfVectorizer"
      ]
    },
    {
      "cell_type": "code",
      "execution_count": 21,
      "metadata": {
        "id": "XgJAteQAx-Po",
        "colab": {
          "base_uri": "https://localhost:8080/"
        },
        "outputId": "6b920d8b-50b5-4823-e713-c1e9043f7c8a"
      },
      "outputs": [
        {
          "output_type": "stream",
          "name": "stdout",
          "text": [
            "  (0, 27671)\t0.030565673749836132\n",
            "  (0, 8229)\t0.057742411217686605\n",
            "  (0, 29107)\t0.06877682595540614\n",
            "  (0, 21989)\t0.06877682595540614\n",
            "  (0, 21265)\t0.019698116737003377\n",
            "  (0, 20113)\t0.06409510742236668\n",
            "  (0, 30629)\t0.05978752260425744\n",
            "  (0, 6653)\t0.04395753689658362\n",
            "  (0, 19730)\t0.04652650533523572\n",
            "  (0, 22051)\t0.057742411217686605\n",
            "  (0, 23450)\t0.04245787268588466\n",
            "  (0, 8073)\t0.05185981822588853\n",
            "  (0, 27286)\t0.040309589440825744\n",
            "  (0, 26357)\t0.04017380913055564\n",
            "  (0, 23700)\t0.02813207823435169\n",
            "  (0, 11336)\t0.04437419970551238\n",
            "  (0, 30834)\t0.045507122021208456\n",
            "  (0, 17833)\t0.04437419970551238\n",
            "  (0, 13990)\t0.03663921121707554\n",
            "  (0, 31777)\t0.027137514234115274\n",
            "  (0, 21359)\t0.05236327990532505\n",
            "  (0, 32241)\t0.06877682595540614\n",
            "  (0, 16396)\t0.06877682595540614\n",
            "  (0, 7438)\t0.062424129750726066\n",
            "  (0, 10963)\t0.05870804069251461\n",
            "  :\t:\n",
            "  (2002, 1136)\t0.06206206287907492\n",
            "  (2002, 20441)\t0.08614365328754206\n",
            "  (2002, 19741)\t0.044691482269813336\n",
            "  (2002, 24134)\t0.03911186964227156\n",
            "  (2002, 21265)\t0.031413671449226285\n",
            "  (2002, 1099)\t0.22835412435174385\n",
            "  (2002, 18685)\t0.1363240624281737\n",
            "  (2002, 29292)\t0.05093517066396115\n",
            "  (2002, 20311)\t0.1143051598025012\n",
            "  (2002, 20354)\t0.058832046268398844\n",
            "  (2002, 18040)\t0.12724553910022388\n",
            "  (2002, 26342)\t0.11417706217587192\n",
            "  (2002, 9205)\t0.021202337926444256\n",
            "  (2002, 12965)\t0.020487589052496622\n",
            "  (2002, 20785)\t0.017063555705438323\n",
            "  (2002, 1691)\t0.1188994549285544\n",
            "  (2002, 3609)\t0.028407627777612646\n",
            "  (2002, 17867)\t0.040204024170524974\n",
            "  (2002, 27854)\t0.04098027394940031\n",
            "  (2002, 28845)\t0.04657806398857578\n",
            "  (2002, 11375)\t0.08124089444662484\n",
            "  (2002, 30008)\t0.0358497424502015\n",
            "  (2002, 26143)\t0.07512047814406604\n",
            "  (2002, 15138)\t0.036157635613485964\n",
            "  (2002, 1924)\t0.03299202641316716\n"
          ]
        }
      ],
      "source": [
        "vectorization = TfidfVectorizer()\n",
        "X = vectorization.fit_transform(x)\n",
        "xv_train = vectorization.transform(x_train)\n",
        "xv_test = vectorization.transform(x_test)\n",
        "#print(X)"
      ]
    },
    {
      "cell_type": "markdown",
      "metadata": {
        "id": "6QO011-vx-Pp"
      },
      "source": [
        "\n",
        "\n",
        "```\n",
        "# This is formatted as code\n",
        "```\n",
        "\n",
        "### 1. Logistic Regression"
      ]
    },
    {
      "cell_type": "code",
      "execution_count": 22,
      "metadata": {
        "id": "SyOrtroox-Pp"
      },
      "outputs": [],
      "source": [
        "from sklearn.linear_model import LogisticRegression"
      ]
    },
    {
      "cell_type": "code",
      "execution_count": 23,
      "metadata": {
        "id": "ZG1v2Vvox-Pp",
        "outputId": "e953abba-fa6c-4b94-9c64-770b65cece23",
        "colab": {
          "base_uri": "https://localhost:8080/"
        }
      },
      "outputs": [
        {
          "output_type": "execute_result",
          "data": {
            "text/plain": [
              "LogisticRegression()"
            ]
          },
          "metadata": {},
          "execution_count": 23
        }
      ],
      "source": [
        "LR = LogisticRegression()\n",
        "LR.fit(xv_train,y_train)"
      ]
    },
    {
      "cell_type": "code",
      "execution_count": 24,
      "metadata": {
        "id": "2feqcGIYx-Pp"
      },
      "outputs": [],
      "source": [
        "pred_lr=LR.predict(xv_test)"
      ]
    },
    {
      "cell_type": "code",
      "execution_count": 25,
      "metadata": {
        "id": "yIFa-K1Ix-Pp",
        "outputId": "9841c283-9c53-4980-9d49-5bf8b35251b8",
        "colab": {
          "base_uri": "https://localhost:8080/"
        }
      },
      "outputs": [
        {
          "output_type": "execute_result",
          "data": {
            "text/plain": [
              "0.9600997506234414"
            ]
          },
          "metadata": {},
          "execution_count": 25
        }
      ],
      "source": [
        "LR.score(xv_test, y_test)"
      ]
    },
    {
      "cell_type": "code",
      "source": [
        "# cross validation\n",
        "from sklearn.model_selection import cross_val_score\n",
        "score_lr = cross_val_score(LR, X, y,cv=10)\n",
        "print(score_lr)\n",
        "print(score_lr.mean())"
      ],
      "metadata": {
        "colab": {
          "base_uri": "https://localhost:8080/"
        },
        "id": "fVauOURCN36J",
        "outputId": "2c71c930-daae-4a6b-8df5-7e3c66c7c9c2"
      },
      "execution_count": 26,
      "outputs": [
        {
          "output_type": "stream",
          "name": "stdout",
          "text": [
            "[0.960199   0.97512438 0.99004975 0.945      0.98       0.95\n",
            " 0.955      0.94       0.935      0.975     ]\n",
            "0.9605373134328359\n"
          ]
        }
      ]
    },
    {
      "cell_type": "code",
      "execution_count": 28,
      "metadata": {
        "id": "z7wCHjSwx-Pp",
        "outputId": "cda5abbe-4229-4db7-dc6d-97c363ceaa8b",
        "colab": {
          "base_uri": "https://localhost:8080/",
          "height": 802
        }
      },
      "outputs": [
        {
          "output_type": "stream",
          "name": "stdout",
          "text": [
            "              precision    recall  f1-score   support\n",
            "\n",
            "           0       0.94      0.98      0.96       196\n",
            "           1       0.98      0.94      0.96       205\n",
            "\n",
            "    accuracy                           0.96       401\n",
            "   macro avg       0.96      0.96      0.96       401\n",
            "weighted avg       0.96      0.96      0.96       401\n",
            "\n",
            "[[192   4]\n",
            " [ 12 193]]\n"
          ]
        },
        {
          "output_type": "display_data",
          "data": {
            "text/plain": [
              "<Figure size 432x288 with 2 Axes>"
            ],
            "image/png": "[encoded data removed]"
          },
          "metadata": {
            "needs_background": "light"
          }
        },
        {
          "output_type": "display_data",
          "data": {
            "text/plain": [
              "<Figure size 360x360 with 1 Axes>"
            ],
            "image/png": "[encoded data removed]"
          },
          "metadata": {
            "needs_background": "light"
          }
        }
      ],
      "source": [
        "############# conf matrix/ class report practically useless if cross validated ##################\n",
        "print(classification_report(y_test, pred_lr))\n",
        "cm_lr = confusion_matrix(y_test, pred_lr)\n",
        "print(cm_lr)\n",
        "\n",
        "cmd_lr = ConfusionMatrixDisplay(cm_lr, display_labels=['Not Fake','Fake']) # 0 - not fake, 1 - fake\n",
        "cmd_lr.plot()  \n",
        "\n",
        "labels = ['Not Fake','Fake']\n",
        "fig_lr, ax = plt.subplots(figsize=(5, 5))\n",
        "ax.matshow(cm_lr, cmap=plt.cm.Blues, alpha=0.3)\n",
        "for i in range(cm_lr.shape[0]):\n",
        "    for j in range(cm_lr.shape[1]):\n",
        "        ax.text(x=j, y=i,s=cm_lr[i, j], va='center', ha='center', size='large')\n",
        " \n",
        "ax.set_xticklabels([''] + labels)\n",
        "ax.set_yticklabels([''] + labels)\n",
        "plt.xlabel('Predicted Label', fontsize=12)\n",
        "plt.ylabel('True Label', fontsize=12)\n",
        "plt.title('Confusion Matrix of Logistic Regression', fontsize=12)\n",
        "plt.show()\n",
        "\n",
        "fig_lr.savefig('conf_lr.pdf', format='pdf', bbox_inches = 'tight')"
      ]
    },
    {
      "cell_type": "markdown",
      "metadata": {
        "id": "0ttFaGm5x-Pp"
      },
      "source": [
        "### 2. Decision Tree Classification"
      ]
    },
    {
      "cell_type": "code",
      "execution_count": 29,
      "metadata": {
        "id": "BwHwHPXax-Pp"
      },
      "outputs": [],
      "source": [
        "from sklearn.tree import DecisionTreeClassifier"
      ]
    },
    {
      "cell_type": "code",
      "execution_count": 30,
      "metadata": {
        "id": "8Of2lxA1x-Pq",
        "outputId": "cc1b8fdb-4243-44a3-f83f-6316968ec60c",
        "colab": {
          "base_uri": "https://localhost:8080/"
        }
      },
      "outputs": [
        {
          "output_type": "execute_result",
          "data": {
            "text/plain": [
              "DecisionTreeClassifier()"
            ]
          },
          "metadata": {},
          "execution_count": 30
        }
      ],
      "source": [
        "DT = DecisionTreeClassifier()\n",
        "DT.fit(xv_train, y_train)"
      ]
    },
    {
      "cell_type": "code",
      "execution_count": 31,
      "metadata": {
        "id": "mWq1lN6Ex-Pq"
      },
      "outputs": [],
      "source": [
        "pred_dt = DT.predict(xv_test)"
      ]
    },
    {
      "cell_type": "code",
      "execution_count": 32,
      "metadata": {
        "id": "eFqCXjo6x-Pq",
        "outputId": "b850efdb-1f1a-403e-f9c8-0f9caa5133f7",
        "colab": {
          "base_uri": "https://localhost:8080/"
        }
      },
      "outputs": [
        {
          "output_type": "execute_result",
          "data": {
            "text/plain": [
              "0.8977556109725686"
            ]
          },
          "metadata": {},
          "execution_count": 32
        }
      ],
      "source": [
        "DT.score(xv_test, y_test)"
      ]
    },
    {
      "cell_type": "code",
      "source": [
        "# cross validation\n",
        "from sklearn.model_selection import cross_val_score\n",
        "score_dt = cross_val_score(DT, X, y,cv=10)\n",
        "print(score_dt)\n",
        "print(score_dt.mean())"
      ],
      "metadata": {
        "colab": {
          "base_uri": "https://localhost:8080/"
        },
        "id": "hzb-k79srPra",
        "outputId": "959e510a-7c77-46aa-8a7e-8fcbe3cdad5c"
      },
      "execution_count": 33,
      "outputs": [
        {
          "output_type": "stream",
          "name": "stdout",
          "text": [
            "[0.90049751 0.92537313 0.94029851 0.915      0.935      0.925\n",
            " 0.905      0.875      0.865      0.89      ]\n",
            "0.9076169154228857\n"
          ]
        }
      ]
    },
    {
      "cell_type": "code",
      "execution_count": 34,
      "metadata": {
        "id": "EuaBVYIjx-Pq",
        "outputId": "3c7d8dc5-dacd-4fff-e162-8ac542560a5f",
        "colab": {
          "base_uri": "https://localhost:8080/",
          "height": 802
        }
      },
      "outputs": [
        {
          "output_type": "stream",
          "name": "stdout",
          "text": [
            "              precision    recall  f1-score   support\n",
            "\n",
            "           0       0.90      0.89      0.90       196\n",
            "           1       0.90      0.90      0.90       205\n",
            "\n",
            "    accuracy                           0.90       401\n",
            "   macro avg       0.90      0.90      0.90       401\n",
            "weighted avg       0.90      0.90      0.90       401\n",
            "\n",
            "[[175  21]\n",
            " [ 20 185]]\n"
          ]
        },
        {
          "output_type": "display_data",
          "data": {
            "text/plain": [
              "<Figure size 432x288 with 2 Axes>"
            ],
            "image/png": "[encoded data removed]"
          },
          "metadata": {
            "needs_background": "light"
          }
        },
        {
          "output_type": "display_data",
          "data": {
            "text/plain": [
              "<Figure size 360x360 with 1 Axes>"
            ],
            "image/png": "[encoded data removed]"
          },
          "metadata": {
            "needs_background": "light"
          }
        }
      ],
      "source": [
        "print(classification_report(y_test, pred_dt))\n",
        "cm_dt = confusion_matrix(y_test, pred_dt)\n",
        "print(cm_dt)\n",
        "\n",
        "cmd_dt = ConfusionMatrixDisplay(cm_dt, display_labels=['Not Fake','Fake']) # 0 - not fake, 1 - fake\n",
        "cmd_dt.plot()  \n",
        "\n",
        "labels = ['Not Fake','Fake']\n",
        "fig_dt, ax = plt.subplots(figsize=(5, 5))\n",
        "ax.matshow(cm_dt, cmap=plt.cm.Blues, alpha=0.3)\n",
        "for i in range(cm_dt.shape[0]):\n",
        "    for j in range(cm_dt.shape[1]):\n",
        "        ax.text(x=j, y=i,s=cm_dt[i, j], va='center', ha='center', size='large')\n",
        " \n",
        "ax.set_xticklabels([''] + labels)\n",
        "ax.set_yticklabels([''] + labels)\n",
        "plt.xlabel('Predicted Label', fontsize=12)\n",
        "plt.ylabel('True Label', fontsize=12)\n",
        "plt.title('Confusion Matrix of Decision Tree Classifier', fontsize=12)\n",
        "plt.show()\n",
        "\n",
        "fig_dt.savefig('conf_dt.pdf', format='pdf', bbox_inches = 'tight')"
      ]
    },
    {
      "cell_type": "markdown",
      "metadata": {
        "id": "-VvXZ6eVx-Pq"
      },
      "source": [
        "### 3. Gradient Boosting Classifier"
      ]
    },
    {
      "cell_type": "code",
      "execution_count": 35,
      "metadata": {
        "id": "_iBg_b0Qx-Pq"
      },
      "outputs": [],
      "source": [
        "from sklearn.ensemble import GradientBoostingClassifier\n",
        "GBC = GradientBoostingClassifier(random_state=0)"
      ]
    },
    {
      "cell_type": "code",
      "execution_count": 36,
      "metadata": {
        "id": "NgFRpVtQx-Pq",
        "outputId": "6d27312d-7670-4f53-cb12-c2ebde6eb273",
        "colab": {
          "base_uri": "https://localhost:8080/"
        }
      },
      "outputs": [
        {
          "output_type": "execute_result",
          "data": {
            "text/plain": [
              "GradientBoostingClassifier(random_state=0)"
            ]
          },
          "metadata": {},
          "execution_count": 36
        }
      ],
      "source": [
        "GBC.fit(xv_train, y_train)"
      ]
    },
    {
      "cell_type": "code",
      "execution_count": 37,
      "metadata": {
        "id": "9wC2HnJnx-Pr"
      },
      "outputs": [],
      "source": [
        "pred_gbc = GBC.predict(xv_test)"
      ]
    },
    {
      "cell_type": "code",
      "execution_count": 38,
      "metadata": {
        "id": "MS3KLa3_x-Pr",
        "outputId": "6fa5d226-2083-4534-b099-a4dcb6ba8084",
        "colab": {
          "base_uri": "https://localhost:8080/"
        }
      },
      "outputs": [
        {
          "output_type": "execute_result",
          "data": {
            "text/plain": [
              "0.9551122194513716"
            ]
          },
          "metadata": {},
          "execution_count": 38
        }
      ],
      "source": [
        "GBC.score(xv_test, y_test)"
      ]
    },
    {
      "cell_type": "code",
      "source": [
        "# cross validation\n",
        "from sklearn.model_selection import cross_val_score\n",
        "score_gbc = cross_val_score(GBC, X, y,cv=10)\n",
        "print(score_gbc)\n",
        "print(score_gbc.mean())"
      ],
      "metadata": {
        "colab": {
          "base_uri": "https://localhost:8080/"
        },
        "id": "OPONc9Qg2XVW",
        "outputId": "cdf9b680-866a-47ef-8ecf-5dbde8c31cb2"
      },
      "execution_count": 39,
      "outputs": [
        {
          "output_type": "stream",
          "name": "stdout",
          "text": [
            "[0.97512438 0.98507463 0.99004975 0.955      0.975      0.97\n",
            " 0.955      0.955      0.96       0.96      ]\n",
            "0.9680248756218905\n"
          ]
        }
      ]
    },
    {
      "cell_type": "code",
      "execution_count": 40,
      "metadata": {
        "id": "5coH5G9Qx-Pr",
        "outputId": "9dfca4d9-0788-4701-96c0-8f7f2e31d8c0",
        "colab": {
          "base_uri": "https://localhost:8080/",
          "height": 802
        }
      },
      "outputs": [
        {
          "output_type": "stream",
          "name": "stdout",
          "text": [
            "              precision    recall  f1-score   support\n",
            "\n",
            "           0       0.94      0.97      0.95       196\n",
            "           1       0.97      0.94      0.96       205\n",
            "\n",
            "    accuracy                           0.96       401\n",
            "   macro avg       0.96      0.96      0.96       401\n",
            "weighted avg       0.96      0.96      0.96       401\n",
            "\n",
            "[[190   6]\n",
            " [ 12 193]]\n"
          ]
        },
        {
          "output_type": "display_data",
          "data": {
            "text/plain": [
              "<Figure size 432x288 with 2 Axes>"
            ],
            "image/png": "[encoded data removed]"
          },
          "metadata": {
            "needs_background": "light"
          }
        },
        {
          "output_type": "display_data",
          "data": {
            "text/plain": [
              "<Figure size 360x360 with 1 Axes>"
            ],
            "image/png": "[encoded data removed]"
          },
          "metadata": {
            "needs_background": "light"
          }
        }
      ],
      "source": [
        "print(classification_report(y_test, pred_gbc))\n",
        "cm_gbc = confusion_matrix(y_test, pred_gbc)\n",
        "print(cm_gbc)\n",
        "\n",
        "cmd_gbc = ConfusionMatrixDisplay(cm_gbc, display_labels=['Not Fake','Fake']) # 0 - not fake, 1 - fake\n",
        "cmd_gbc.plot()  \n",
        "\n",
        "labels = ['Not Fake','Fake']\n",
        "fig_gb, ax = plt.subplots(figsize=(5, 5))\n",
        "ax.matshow(cm_gbc, cmap=plt.cm.Blues, alpha=0.3)\n",
        "for i in range(cm_gbc.shape[0]):\n",
        "    for j in range(cm_gbc.shape[1]):\n",
        "        ax.text(x=j, y=i,s=cm_gbc[i, j], va='center', ha='center', size='large')\n",
        " \n",
        "ax.set_xticklabels([''] + labels)\n",
        "ax.set_yticklabels([''] + labels)\n",
        "plt.xlabel('Predicted Label', fontsize=12)\n",
        "plt.ylabel('True Label', fontsize=12)\n",
        "plt.title('Confusion Matrix of Gradient Boosting Classifier', fontsize=12)\n",
        "plt.show()\n",
        "\n",
        "fig_gb.savefig('conf_gb.pdf', format='pdf', bbox_inches = 'tight')"
      ]
    },
    {
      "cell_type": "markdown",
      "metadata": {
        "id": "ii-GykiUx-Pr"
      },
      "source": [
        "### 4. Random Forest Classifier"
      ]
    },
    {
      "cell_type": "code",
      "execution_count": 41,
      "metadata": {
        "id": "OIwoGCPCx-Pr"
      },
      "outputs": [],
      "source": [
        "from sklearn.ensemble import RandomForestClassifier\n",
        "RFC = RandomForestClassifier()"
      ]
    },
    {
      "cell_type": "code",
      "execution_count": 42,
      "metadata": {
        "id": "LQ_NRI6Fx-Pr",
        "outputId": "ff63f1fa-8e7b-43e5-c7e5-60516a9a35fd",
        "colab": {
          "base_uri": "https://localhost:8080/"
        }
      },
      "outputs": [
        {
          "output_type": "execute_result",
          "data": {
            "text/plain": [
              "RandomForestClassifier()"
            ]
          },
          "metadata": {},
          "execution_count": 42
        }
      ],
      "source": [
        "RFC.fit(xv_train, y_train)"
      ]
    },
    {
      "cell_type": "code",
      "execution_count": 43,
      "metadata": {
        "id": "f6t9OsC5x-Ps"
      },
      "outputs": [],
      "source": [
        "pred_rfc = RFC.predict(xv_test)"
      ]
    },
    {
      "cell_type": "code",
      "execution_count": 44,
      "metadata": {
        "id": "rsr-3J3bx-Ps",
        "outputId": "61bf7cb5-fd89-4533-ef69-42f2ca3b21e7",
        "colab": {
          "base_uri": "https://localhost:8080/"
        }
      },
      "outputs": [
        {
          "output_type": "execute_result",
          "data": {
            "text/plain": [
              "0.9650872817955112"
            ]
          },
          "metadata": {},
          "execution_count": 44
        }
      ],
      "source": [
        "RFC.score(xv_test, y_test)"
      ]
    },
    {
      "cell_type": "code",
      "source": [
        "# cross validation\n",
        "from sklearn.model_selection import cross_val_score\n",
        "score_rfc = cross_val_score(RFC, X, y,cv=10)\n",
        "print(score_rfc)\n",
        "print(score_rfc.mean())"
      ],
      "metadata": {
        "colab": {
          "base_uri": "https://localhost:8080/"
        },
        "id": "Io87LJZ289yZ",
        "outputId": "f2675690-9eeb-4cb7-bc5f-7f9faa0b220c"
      },
      "execution_count": 45,
      "outputs": [
        {
          "output_type": "stream",
          "name": "stdout",
          "text": [
            "[0.96517413 0.9800995  0.98507463 0.955      0.97       0.96\n",
            " 0.965      0.95       0.94       0.97      ]\n",
            "0.9640348258706467\n"
          ]
        }
      ]
    },
    {
      "cell_type": "code",
      "execution_count": 46,
      "metadata": {
        "id": "GxoGgDg8x-Ps",
        "outputId": "6a6802d7-7b48-4a41-8402-c65d3b9ff5ec",
        "colab": {
          "base_uri": "https://localhost:8080/",
          "height": 802
        }
      },
      "outputs": [
        {
          "output_type": "stream",
          "name": "stdout",
          "text": [
            "              precision    recall  f1-score   support\n",
            "\n",
            "           0       0.95      0.98      0.96       196\n",
            "           1       0.98      0.95      0.97       205\n",
            "\n",
            "    accuracy                           0.97       401\n",
            "   macro avg       0.97      0.97      0.97       401\n",
            "weighted avg       0.97      0.97      0.97       401\n",
            "\n",
            "[[192   4]\n",
            " [ 10 195]]\n"
          ]
        },
        {
          "output_type": "display_data",
          "data": {
            "text/plain": [
              "<Figure size 432x288 with 2 Axes>"
            ],
            "image/png": "[encoded data removed]"
          },
          "metadata": {
            "needs_background": "light"
          }
        },
        {
          "output_type": "display_data",
          "data": {
            "text/plain": [
              "<Figure size 360x360 with 1 Axes>"
            ],
            "image/png": "[encoded data removed]"
          },
          "metadata": {
            "needs_background": "light"
          }
        }
      ],
      "source": [
        "print(classification_report(y_test, pred_rfc))\n",
        "cm_rfc = confusion_matrix(y_test, pred_rfc)\n",
        "print(cm_rfc)\n",
        "\n",
        "cmd_rfc = ConfusionMatrixDisplay(cm_rfc, display_labels=['Not Fake','Fake']) # 0 - not fake, 1 - fake\n",
        "cmd_rfc.plot()  \n",
        "\n",
        "labels = ['Not Fake','Fake']\n",
        "fig_rf, ax = plt.subplots(figsize=(5, 5))\n",
        "ax.matshow(cm_rfc, cmap=plt.cm.Blues, alpha=0.3)\n",
        "for i in range(cm_rfc.shape[0]):\n",
        "    for j in range(cm_rfc.shape[1]):\n",
        "        ax.text(x=j, y=i,s=cm_rfc[i, j], va='center', ha='center', size='large')\n",
        " \n",
        "ax.set_xticklabels([''] + labels)\n",
        "ax.set_yticklabels([''] + labels)\n",
        "plt.xlabel('Predicted Label', fontsize=12)\n",
        "plt.ylabel('True Label', fontsize=12)\n",
        "plt.title('Confusion Matrix of Random Forest Classifier', fontsize=12)\n",
        "plt.show()\n",
        "\n",
        "fig_rf.savefig('conf_rf.pdf', format='pdf', bbox_inches = 'tight')"
      ]
    },
    {
      "cell_type": "markdown",
      "source": [
        "### 5. Passive-Aggresive Classifier"
      ],
      "metadata": {
        "id": "RWqfA6GBr_2j"
      }
    },
    {
      "cell_type": "code",
      "source": [
        "from sklearn.linear_model import PassiveAggressiveClassifier\n",
        "pac = PassiveAggressiveClassifier(max_iter=50)"
      ],
      "metadata": {
        "id": "bnANzDrjsFa_"
      },
      "execution_count": 47,
      "outputs": []
    },
    {
      "cell_type": "code",
      "source": [
        "pac.fit(xv_train, y_train)"
      ],
      "metadata": {
        "colab": {
          "base_uri": "https://localhost:8080/"
        },
        "id": "dU9HRTCMsVT_",
        "outputId": "a7a46970-f228-46ee-c3a6-6408b7b7322f"
      },
      "execution_count": 48,
      "outputs": [
        {
          "output_type": "execute_result",
          "data": {
            "text/plain": [
              "PassiveAggressiveClassifier(max_iter=50)"
            ]
          },
          "metadata": {},
          "execution_count": 48
        }
      ]
    },
    {
      "cell_type": "code",
      "source": [
        "pred_pac = pac.predict(xv_test)"
      ],
      "metadata": {
        "id": "TjrMxTbPsk76"
      },
      "execution_count": 49,
      "outputs": []
    },
    {
      "cell_type": "code",
      "source": [
        "pac.score(xv_test, y_test)"
      ],
      "metadata": {
        "colab": {
          "base_uri": "https://localhost:8080/"
        },
        "id": "Zk8_X68Ks5Oy",
        "outputId": "8cc31003-3bc8-45fd-a614-260fccd6df33"
      },
      "execution_count": 50,
      "outputs": [
        {
          "output_type": "execute_result",
          "data": {
            "text/plain": [
              "0.9625935162094763"
            ]
          },
          "metadata": {},
          "execution_count": 50
        }
      ]
    },
    {
      "cell_type": "code",
      "source": [
        "# cross validation\n",
        "from sklearn.model_selection import cross_val_score\n",
        "score_pac = cross_val_score(pac, X, y,cv=10)\n",
        "print(score_pac)\n",
        "print(score_pac.mean())"
      ],
      "metadata": {
        "colab": {
          "base_uri": "https://localhost:8080/"
        },
        "id": "-zit-X6j9GH8",
        "outputId": "73662360-52c6-4cef-da0d-c6d99d71ff20"
      },
      "execution_count": 51,
      "outputs": [
        {
          "output_type": "stream",
          "name": "stdout",
          "text": [
            "[0.9800995  0.9800995  0.99502488 0.985      0.995      0.975\n",
            " 0.975      0.96       0.96       0.97      ]\n",
            "0.9775223880597016\n"
          ]
        }
      ]
    },
    {
      "cell_type": "code",
      "source": [
        "print(classification_report(y_test, pred_pac))\n",
        "cm_pac = confusion_matrix(y_test, pred_pac)\n",
        "print(cm_pac)\n",
        "\n",
        "cmd_pac = ConfusionMatrixDisplay(cm_pac, display_labels=['Not Fake','Fake']) # 0 - not fake, 1 - fake\n",
        "cmd_pac.plot()  \n",
        "\n",
        "labels = ['Not Fake','Fake']\n",
        "fig_pac, ax = plt.subplots(figsize=(5, 5))\n",
        "ax.matshow(cm_pac, cmap=plt.cm.Blues, alpha=0.3)\n",
        "for i in range(cm_pac.shape[0]):\n",
        "    for j in range(cm_pac.shape[1]):\n",
        "        ax.text(x=j, y=i,s=cm_pac[i, j], va='center', ha='center', size='large')\n",
        " \n",
        "ax.set_xticklabels([''] + labels)\n",
        "ax.set_yticklabels([''] + labels)\n",
        "plt.xlabel('Predicted Label', fontsize=12)\n",
        "plt.ylabel('True Label', fontsize=12)\n",
        "plt.title('Confusion Matrix of Passive Aggressive Classifier', fontsize=12)\n",
        "plt.show()\n",
        "\n",
        "fig_pac.savefig('conf_pac.pdf', format='pdf', bbox_inches = 'tight')"
      ],
      "metadata": {
        "colab": {
          "base_uri": "https://localhost:8080/",
          "height": 802
        },
        "id": "WRmjXjzntFFR",
        "outputId": "015edeb5-9dd8-4241-baa4-b1c7a89a3e83"
      },
      "execution_count": 52,
      "outputs": [
        {
          "output_type": "stream",
          "name": "stdout",
          "text": [
            "              precision    recall  f1-score   support\n",
            "\n",
            "           0       0.95      0.97      0.96       196\n",
            "           1       0.97      0.95      0.96       205\n",
            "\n",
            "    accuracy                           0.96       401\n",
            "   macro avg       0.96      0.96      0.96       401\n",
            "weighted avg       0.96      0.96      0.96       401\n",
            "\n",
            "[[191   5]\n",
            " [ 10 195]]\n"
          ]
        },
        {
          "output_type": "display_data",
          "data": {
            "text/plain": [
              "<Figure size 432x288 with 2 Axes>"
            ],
            "image/png": "[encoded data removed]"
          },
          "metadata": {
            "needs_background": "light"
          }
        },
        {
          "output_type": "display_data",
          "data": {
            "text/plain": [
              "<Figure size 360x360 with 1 Axes>"
            ],
            "image/png": "[encoded data removed]"
          },
          "metadata": {
            "needs_background": "light"
          }
        }
      ]
    },
    {
      "cell_type": "markdown",
      "source": [
        "### 6. Naive Bayes"
      ],
      "metadata": {
        "id": "3vm6QReAvWy6"
      }
    },
    {
      "cell_type": "code",
      "source": [
        "from sklearn.naive_bayes import MultinomialNB\n",
        "mnb= MultinomialNB()"
      ],
      "metadata": {
        "id": "0JzqVX5rvs6a"
      },
      "execution_count": 53,
      "outputs": []
    },
    {
      "cell_type": "code",
      "source": [
        "mnb.fit(xv_train, y_train)"
      ],
      "metadata": {
        "colab": {
          "base_uri": "https://localhost:8080/"
        },
        "id": "nY-yKpQmwYY-",
        "outputId": "3275e785-f1e1-4d78-cd29-41cecff30541"
      },
      "execution_count": 54,
      "outputs": [
        {
          "output_type": "execute_result",
          "data": {
            "text/plain": [
              "MultinomialNB()"
            ]
          },
          "metadata": {},
          "execution_count": 54
        }
      ]
    },
    {
      "cell_type": "code",
      "source": [
        "pred_mnb = mnb.predict(xv_test)"
      ],
      "metadata": {
        "id": "hhVQn77hweT_"
      },
      "execution_count": 55,
      "outputs": []
    },
    {
      "cell_type": "code",
      "source": [
        "mnb.score(xv_test, y_test)"
      ],
      "metadata": {
        "colab": {
          "base_uri": "https://localhost:8080/"
        },
        "id": "2bAlauDkwk5e",
        "outputId": "43a8f5f0-28f4-42b9-c55e-e03909962166"
      },
      "execution_count": 56,
      "outputs": [
        {
          "output_type": "execute_result",
          "data": {
            "text/plain": [
              "0.9476309226932669"
            ]
          },
          "metadata": {},
          "execution_count": 56
        }
      ]
    },
    {
      "cell_type": "code",
      "source": [
        "# cross validation\n",
        "from sklearn.model_selection import cross_val_score\n",
        "score_nb = cross_val_score(mnb, X, y,cv=10)\n",
        "print(score_nb)\n",
        "print(score_nb.mean())"
      ],
      "metadata": {
        "colab": {
          "base_uri": "https://localhost:8080/"
        },
        "id": "u8vMgX0U9OIz",
        "outputId": "090c7fa4-c520-4bff-83e0-c3ed0bc56a32"
      },
      "execution_count": 57,
      "outputs": [
        {
          "output_type": "stream",
          "name": "stdout",
          "text": [
            "[0.95024876 0.95522388 0.96517413 0.94       0.96       0.93\n",
            " 0.95       0.94       0.925      0.98      ]\n",
            "0.9495646766169156\n"
          ]
        }
      ]
    },
    {
      "cell_type": "code",
      "source": [
        "print(classification_report(y_test, pred_mnb))\n",
        "cm_mnb = confusion_matrix(y_test, pred_mnb)\n",
        "print(cm_mnb)\n",
        "\n",
        "cmd_mnb = ConfusionMatrixDisplay(cm_mnb, display_labels=['Not Fake','Fake']) # 0 - not fake, 1 - fake\n",
        "cmd_mnb.plot()  \n",
        "\n",
        "labels = ['Not Fake','Fake']\n",
        "fig_nb, ax = plt.subplots(figsize=(5, 5))\n",
        "ax.matshow(cm_mnb, cmap=plt.cm.Blues, alpha=0.3)\n",
        "for i in range(cm_mnb.shape[0]):\n",
        "    for j in range(cm_mnb.shape[1]):\n",
        "        ax.text(x=j, y=i,s=cm_mnb[i, j], va='center', ha='center', size='large')\n",
        " \n",
        "ax.set_xticklabels([''] + labels)\n",
        "ax.set_yticklabels([''] + labels)\n",
        "plt.xlabel('Predicted Label', fontsize=12)\n",
        "plt.ylabel('True Label', fontsize=12)\n",
        "plt.title('Confusion Matrix of Naive Bayes', fontsize=12)\n",
        "plt.show()\n",
        "\n",
        "fig_nb.savefig('conf_nb.pdf', format='pdf', bbox_inches = 'tight')"
      ],
      "metadata": {
        "colab": {
          "base_uri": "https://localhost:8080/",
          "height": 802
        },
        "id": "Hqkaj1-VwqKs",
        "outputId": "1fd747ff-f9f0-447b-b6fe-fdc33fbff042"
      },
      "execution_count": 58,
      "outputs": [
        {
          "output_type": "stream",
          "name": "stdout",
          "text": [
            "              precision    recall  f1-score   support\n",
            "\n",
            "           0       0.93      0.97      0.95       196\n",
            "           1       0.97      0.93      0.95       205\n",
            "\n",
            "    accuracy                           0.95       401\n",
            "   macro avg       0.95      0.95      0.95       401\n",
            "weighted avg       0.95      0.95      0.95       401\n",
            "\n",
            "[[190   6]\n",
            " [ 15 190]]\n"
          ]
        },
        {
          "output_type": "display_data",
          "data": {
            "text/plain": [
              "<Figure size 432x288 with 2 Axes>"
            ],
            "image/png": "[encoded data removed]"
          },
          "metadata": {
            "needs_background": "light"
          }
        },
        {
          "output_type": "display_data",
          "data": {
            "text/plain": [
              "<Figure size 360x360 with 1 Axes>"
            ],
            "image/png": "[encoded data removed]"
          },
          "metadata": {
            "needs_background": "light"
          }
        }
      ]
    },
    {
      "cell_type": "markdown",
      "source": [
        "### Support Vector Machine"
      ],
      "metadata": {
        "id": "APqMiytIw810"
      }
    },
    {
      "cell_type": "code",
      "source": [
        "from sklearn import svm\n",
        "svm = svm.SVC(kernel='linear', probability=True) # Linear Kernel"
      ],
      "metadata": {
        "id": "X2LFRldmxAhz"
      },
      "execution_count": 59,
      "outputs": []
    },
    {
      "cell_type": "code",
      "source": [
        "svm.fit(xv_train, y_train)"
      ],
      "metadata": {
        "colab": {
          "base_uri": "https://localhost:8080/"
        },
        "id": "5zIP476kxKAK",
        "outputId": "25cf0c72-db83-4960-88cd-39bb9a55ccc9"
      },
      "execution_count": 60,
      "outputs": [
        {
          "output_type": "execute_result",
          "data": {
            "text/plain": [
              "SVC(kernel='linear', probability=True)"
            ]
          },
          "metadata": {},
          "execution_count": 60
        }
      ]
    },
    {
      "cell_type": "code",
      "source": [
        "pred_svm = svm.predict(xv_test)"
      ],
      "metadata": {
        "id": "azLxj7lfxTjJ"
      },
      "execution_count": 61,
      "outputs": []
    },
    {
      "cell_type": "code",
      "source": [
        "svm.score(xv_test, y_test)"
      ],
      "metadata": {
        "colab": {
          "base_uri": "https://localhost:8080/"
        },
        "id": "iw37Vor7xZJ4",
        "outputId": "b94fb347-f5c7-44bb-a199-ace74a322f7e"
      },
      "execution_count": 62,
      "outputs": [
        {
          "output_type": "execute_result",
          "data": {
            "text/plain": [
              "0.9551122194513716"
            ]
          },
          "metadata": {},
          "execution_count": 62
        }
      ]
    },
    {
      "cell_type": "code",
      "source": [
        "# cross validation\n",
        "from sklearn.model_selection import cross_val_score\n",
        "score_svm = cross_val_score(svm, X, y,cv=10)\n",
        "print(score_svm)\n",
        "print(score_svm.mean())"
      ],
      "metadata": {
        "colab": {
          "base_uri": "https://localhost:8080/"
        },
        "id": "qc725qPJ9TdT",
        "outputId": "3c112817-625b-470c-bf41-80920bdcf185"
      },
      "execution_count": 63,
      "outputs": [
        {
          "output_type": "stream",
          "name": "stdout",
          "text": [
            "[0.96517413 0.9800995  0.99004975 0.97       0.995      0.97\n",
            " 0.98       0.955      0.97       0.98      ]\n",
            "0.9755323383084578\n"
          ]
        }
      ]
    },
    {
      "cell_type": "code",
      "source": [
        "print(classification_report(y_test, pred_svm))\n",
        "cm_svm = confusion_matrix(y_test, pred_svm)\n",
        "print(cm_svm)\n",
        "\n",
        "cmd_svm = ConfusionMatrixDisplay(cm_svm, display_labels=['Not Fake','Fake']) # 0 - not fake, 1 - fake\n",
        "cmd_svm.plot()  \n",
        "\n",
        "labels = ['Not Fake','Fake']\n",
        "fig_svm, ax = plt.subplots(figsize=(5, 5))\n",
        "ax.matshow(cm_svm, cmap=plt.cm.Blues, alpha=0.3)\n",
        "for i in range(cm_svm.shape[0]):\n",
        "    for j in range(cm_svm.shape[1]):\n",
        "        ax.text(x=j, y=i,s=cm_svm[i, j], va='center', ha='center', size='large')\n",
        " \n",
        "ax.set_xticklabels([''] + labels)\n",
        "ax.set_yticklabels([''] + labels)\n",
        "plt.xlabel('Predicted Label', fontsize=12)\n",
        "plt.ylabel('True Label', fontsize=12)\n",
        "plt.title('Confusion Matrix of Support Vector Machine', fontsize=12)\n",
        "plt.show()\n",
        "\n",
        "fig_svm.savefig('conf_svm.pdf', format='pdf', bbox_inches = 'tight')"
      ],
      "metadata": {
        "colab": {
          "base_uri": "https://localhost:8080/",
          "height": 802
        },
        "id": "a1z2RjyDxadO",
        "outputId": "ccd453bb-1f61-4385-c00b-3e45280b67d5"
      },
      "execution_count": 64,
      "outputs": [
        {
          "output_type": "stream",
          "name": "stdout",
          "text": [
            "              precision    recall  f1-score   support\n",
            "\n",
            "           0       0.94      0.97      0.96       196\n",
            "           1       0.97      0.94      0.96       205\n",
            "\n",
            "    accuracy                           0.96       401\n",
            "   macro avg       0.96      0.96      0.96       401\n",
            "weighted avg       0.96      0.96      0.96       401\n",
            "\n",
            "[[191   5]\n",
            " [ 13 192]]\n"
          ]
        },
        {
          "output_type": "display_data",
          "data": {
            "text/plain": [
              "<Figure size 432x288 with 2 Axes>"
            ],
            "image/png": "[encoded data removed]"
          },
          "metadata": {
            "needs_background": "light"
          }
        },
        {
          "output_type": "display_data",
          "data": {
            "text/plain": [
              "<Figure size 360x360 with 1 Axes>"
            ],
            "image/png": "[encoded data removed]"
          },
          "metadata": {
            "needs_background": "light"
          }
        }
      ]
    },
    {
      "cell_type": "markdown",
      "source": [
        "# ROC / AUC "
      ],
      "metadata": {
        "id": "zjM3PaYWL860"
      }
    },
    {
      "cell_type": "code",
      "source": [
        "lr_probs = LR.predict_proba(xv_test)\n",
        "dt_probs = DT.predict_proba(xv_test)\n",
        "gb_probs = GBC.predict_proba(xv_test)\n",
        "rf_probs = RFC.predict_proba(xv_test)\n",
        "#pac_probs = pac.predict_proba(xv_test)\n",
        "nb_probs = mnb.predict_proba(xv_test)\n",
        "svm_probs = svm.predict_proba(xv_test)"
      ],
      "metadata": {
        "id": "WwbqWXxWMqg_"
      },
      "execution_count": 65,
      "outputs": []
    },
    {
      "cell_type": "code",
      "source": [
        "# getting probabilities for the positive outcome\n",
        "lr_probs = lr_probs[:, 1]\n",
        "dt_probs = dt_probs[:, 1]\n",
        "gb_probs = gb_probs[:, 1]\n",
        "rf_probs = rf_probs[:, 1]\n",
        "#pac_probs = pac_probs[:, 1]\n",
        "nb_probs = nb_probs[:, 1]\n",
        "svm_probs = svm_probs[:, 1]"
      ],
      "metadata": {
        "id": "I_Dm4fzBRUah"
      },
      "execution_count": 66,
      "outputs": []
    },
    {
      "cell_type": "code",
      "source": [
        "from sklearn.metrics import roc_curve, roc_auc_score\n",
        "lr_auc = roc_auc_score(y_test, lr_probs)\n",
        "dt_auc = roc_auc_score(y_test, dt_probs)\n",
        "gb_auc = roc_auc_score(y_test, gb_probs)\n",
        "rf_auc = roc_auc_score(y_test, rf_probs)\n",
        "#pac_auc = roc_auc_score(y_test, pac_probs)\n",
        "nb_auc = roc_auc_score(y_test, nb_probs)\n",
        "svm_auc = roc_auc_score(y_test, svm_probs)"
      ],
      "metadata": {
        "id": "072BKXu5R12R"
      },
      "execution_count": 67,
      "outputs": []
    },
    {
      "cell_type": "code",
      "source": [
        "print('LR: AUC = %.3f' % (lr_auc))\n",
        "print('DTC: AUC = %.3f' % (dt_auc))\n",
        "print('GBC: AUC = %.3f' % (gb_auc))\n",
        "print('RF: AUC = %.3f' % (rf_auc))\n",
        "#print('LR: AUC = %.3f' % (pac_auc))\n",
        "print('NB: AUC = %.3f' % (nb_auc))\n",
        "print('SVM: AUC = %.3f' % (svm_auc))"
      ],
      "metadata": {
        "colab": {
          "base_uri": "https://localhost:8080/"
        },
        "id": "vAok3YbXS1xs",
        "outputId": "6cfe80d8-cecf-4d1b-d3f0-bdb83960f7c0"
      },
      "execution_count": 68,
      "outputs": [
        {
          "output_type": "stream",
          "name": "stdout",
          "text": [
            "LR: AUC = 0.987\n",
            "DTC: AUC = 0.898\n",
            "GBC: AUC = 0.994\n",
            "RF: AUC = 0.994\n",
            "NB: AUC = 0.984\n",
            "SVM: AUC = 0.996\n"
          ]
        }
      ]
    },
    {
      "cell_type": "code",
      "source": [
        "lr_fpr, lr_tpr, _ = roc_curve(y_test, lr_probs)\n",
        "dt_fpr, dt_tpr, _ = roc_curve(y_test, dt_probs)\n",
        "gb_fpr, gb_tpr, _ = roc_curve(y_test, gb_probs)\n",
        "rf_fpr, rf_tpr, _ = roc_curve(y_test, rf_probs)\n",
        "#pac_fpr, pac_tpr, _ = roc_curve(y_test, pac_probs)\n",
        "nb_fpr, nb_tpr, _ = roc_curve(y_test, nb_probs)\n",
        "svm_fpr, svm_tpr, _ = roc_curve(y_test, svm_probs)"
      ],
      "metadata": {
        "id": "wL6veUO2VmP9"
      },
      "execution_count": 69,
      "outputs": []
    },
    {
      "cell_type": "markdown",
      "source": [
        "### Plot the curves"
      ],
      "metadata": {
        "id": "jC0eYxNUWIlk"
      }
    },
    {
      "cell_type": "code",
      "source": [
        "roc_plot = plt.figure()\n",
        "plt.plot(lr_fpr, lr_tpr, marker='.', label='LR (AUC = %0.3f)' % lr_auc)\n",
        "plt.plot(dt_fpr, dt_tpr, marker='.', label='DTC (AUC = %0.3f)' % dt_auc)\n",
        "plt.plot(gb_fpr, gb_tpr, marker='.', label='GBC (AUC = %0.3f)' % gb_auc)\n",
        "plt.plot(rf_fpr, rf_tpr, marker='.', label='RFC (AUC = %0.3f)' % rf_auc)\n",
        "#plt.plot(pac_fpr, pac_tpr, marker='.', label='PAC (AUC = %0.3f)' % pac_auc)\n",
        "plt.plot(nb_fpr, nb_tpr, marker='.', label='NB (AUC = %0.3f)' % nb_auc)\n",
        "plt.plot(svm_fpr, svm_tpr, marker='.', label='SVM (AUC = %0.3f)' % svm_auc)\n",
        "\n",
        "# Title\n",
        "plt.title('ROC Plot')\n",
        "# Axis labels\n",
        "plt.xlabel('False Positive Rate')\n",
        "plt.ylabel('True Positive Rate')\n",
        "# Show legend\n",
        "plt.legend()  \n",
        "# Show plot\n",
        "plt.show()\n",
        "\n",
        "roc_plot.savefig('roc.pdf', format='pdf', bbox_inches = 'tight')"
      ],
      "metadata": {
        "colab": {
          "base_uri": "https://localhost:8080/",
          "height": 295
        },
        "id": "0vBI4ejwWHy6",
        "outputId": "1c777ef3-ec61-4169-81ec-b9e33624fed0"
      },
      "execution_count": 70,
      "outputs": [
        {
          "output_type": "display_data",
          "data": {
            "text/plain": [
              "<Figure size 432x288 with 1 Axes>"
            ],
            "image/png": "[encoded data removed]"
          },
          "metadata": {
            "needs_background": "light"
          }
        }
      ]
    },
    {
      "cell_type": "markdown",
      "metadata": {
        "id": "RkXbUBwQx-Ps"
      },
      "source": [
        "# Model Testing With Manual Entry\n",
        "\n",
        "### News"
      ]
    },
    {
      "cell_type": "code",
      "execution_count": 71,
      "metadata": {
        "id": "aDxMFw5sx-Ps"
      },
      "outputs": [],
      "source": [
        "def output_lable(n):\n",
        "    if n == 0:\n",
        "        return \"not Fake news\"\n",
        "    elif n == 1:\n",
        "        return \"Fake News\"\n",
        "    \n",
        "def manual_testing(news):\n",
        "    testing_news = {\"text\":[news]}\n",
        "    new_def_test = pd.DataFrame(testing_news)\n",
        "    new_def_test[\"text\"] = new_def_test[\"text\"].apply(wordopt) \n",
        "    new_x_test = new_def_test[\"text\"]\n",
        "    new_xv_test = vectorization.transform(new_x_test)\n",
        "    pred_LR = LR.predict(new_xv_test)\n",
        "    pred_DT = DT.predict(new_xv_test)\n",
        "    pred_GBC = GBC.predict(new_xv_test)\n",
        "    pred_RFC = RFC.predict(new_xv_test)\n",
        "    pred_pac = pac.predict(new_xv_test)\n",
        "    pred_mnb = mnb.predict(new_xv_test)\n",
        "    pred_svm = svm.predict(new_xv_test)\n",
        "\n",
        "    return print(\"\\n\\nLR Prediction: {} \\nDT Prediction: {} \\nGBC Prediction: {} \\nRFC Prediction: {} \\nPAC Prediction: {} \\nMNB Prediction: {} \\nSVM Prediction: {}\".format(output_lable(pred_LR[0]), \n",
        "                                                                                                                                                                            output_lable(pred_DT[0]), \n",
        "                                                                                                                                                                            output_lable(pred_GBC[0]), \n",
        "                                                                                                                                                                            output_lable(pred_RFC[0]),\n",
        "                                                                                                                                                                            output_lable(pred_pac[0]),\n",
        "                                                                                                                                                                            output_lable(pred_mnb[0]),\n",
        "                                                                                                                                                                            output_lable(pred_svm[0])))"
      ]
    },
    {
      "cell_type": "code",
      "execution_count": 75,
      "metadata": {
        "id": "jSNMG493x-Ps",
        "outputId": "29695cae-7c30-456a-843f-8ab71090d221",
        "colab": {
          "base_uri": "https://localhost:8080/"
        }
      },
      "outputs": [
        {
          "output_type": "stream",
          "name": "stdout",
          "text": [
            "President ferdinand \"bongbong\" marcos jr.  in monday the signed sim card registration the action, first legislation enacted under he is administration.  The law aims to curb text scams and spam.       powered by adsparc the ceremonial signing were hold on malacañang taking senate president juan miguel zubiri, place speaker martin romualdez and other stakeholders standing to witnesses.    \"i the commend legislators the originate place and the originate senate of coming upon taking that timely and necessary law.  It the is first legislative measured this successfully the pass approval the for bicameral panel for both houses the on 19th the congress,\" chief executive say, adding this such that law \"has long achieved overdue. \"  the \"truly, legislation is moving to be welcome by prolific for our people, especially currently taking reports the for commission for various crimes using mobile phones, including proliferation for text scams and spam.  Indeed, the taking signing for that law, our the set important tone this itour isnationalise policy to ensure this technology shall only be use to improved our people lives,\" himself added.    the have latest news deliver to yours inbox sign upon the of manila times’ daily newsletters enter yours email by signing upon taking an email address, myself acknowledge this myself take read and agreed the to terms for service and privacy policy.   filipinos rank the among world heaviest users for social media, the and country is became that key battleground of misleading or fake news.    prolific mobile phone users the on philippines used pre-paid sim cards this those bought the over counter without giving their names and addresses to providers.    republic action 11394 mandates everyone public telecommunications entities (pte) or direct sellers to require buyers for subscriber indentifying module cards to presented that valid identify document taking that photo.    it likewise directs telecommunication companies to the disclose registered full named and address the for subscriber upon that duly issued subpoena or ordered originate that court.     the ptes am also give 30 days to submit that listed for their authorized sellers or dealers the to nationalise telecommunications commission (ntc).  That should be updated quarterly.    the palace earlier say the this enactment the for bill would do \"significantly boost government initiatives against scams committed through text and online messages, which take became more prevalent that year. \"  marcos believes this scams would do drastically decline the to new law is see to \"an effective means for the regulating issuance for sim cards to the curb spread for spam text messages and scams. \"  \"we would do soon be abrue to provided law enforcement the agencies tools need to resolve crimes perpetrated the taking used for these sim cards to good to providing that strong deterrence the against commission for wrongdoings,\" himself say.    \"to cover everyone users for sim cards on that action, telecommunications entities am mandated to the ensure registration for existing prepaid sim card phone subscribers within that prescribed period.  Failure to comply results the to grant for authority of telecommunications entities to automatically deactivate services the to specific sim card subscriber the under force for law,\" himself added.    the used for false or fictitious informative, fictitious identities, fraudulent documents or identify to register that sim card shall also be deal taking by appropriate the penalties, president warn.  Himself the reassured public this this am enough measures to the protected confidentiality and data privacy rights for subscribers originate point for sale.    \"any informative the on sim card registration shall be treated to absolutely confidential unless access to that informative is achieved granted the by write consent the for subscriber,\" marcos say.    globe telecoms in monday express support the of law.    on that statement, globe say that verifiabrue and fool-proof indentified system the is foundation the for sim registration law.    it say this conditionally to people am allowed to submit anytime form for identify which with able to easily be falsified, sim registration would do be useless.    \"for that reason, our position is achieved clearly the originate beginning.  That nationalise id system must be on house to the ensure safe and successful implementation for that new law,\" globe general counsel froilan castelo say.    globe also the say government must see upon global best practices on the implementing new sim registration bill.    prolific countries am using their nationalise id system to the verify indentifying for that person that person registers that sim numerable.    \"we the support passage for that measured after previous roadblock and our am ready to comply.  Aside originate our advanced cybersecurity capabilities, our welcomed that new regulatory environment this is stronger safeguards against cyberthreats and other crimes carry outward using mobile phones,\" castelo say.    globe say it is working the taking government on the drafting implementing rules and regulations the of rational enforcement the for law, the including rollout the for retroactive registration for tens for millions for prepaid sim users\n",
            "\n",
            "\n",
            "LR Prediction: not Fake news \n",
            "DT Prediction: not Fake news \n",
            "GBC Prediction: not Fake news \n",
            "RFC Prediction: not Fake news \n",
            "PAC Prediction: not Fake news \n",
            "MNB Prediction: not Fake news \n",
            "SVM Prediction: not Fake news\n"
          ]
        }
      ],
      "source": [
        "news = str(input())\n",
        "manual_testing(news)"
      ]
    }
  ],
  "metadata": {
    "kernelspec": {
      "display_name": "Python 3",
      "language": "python",
      "name": "python3"
    },
    "language_info": {
      "codemirror_mode": {
        "name": "ipython",
        "version": 3
      },
      "file_extension": ".py",
      "mimetype": "text/x-python",
      "name": "python",
      "nbconvert_exporter": "python",
      "pygments_lexer": "ipython3",
      "version": "3.8.5"
    },
    "colab": {
      "provenance": [],
      "include_colab_link": true
    }
  },
  "nbformat": 4,
  "nbformat_minor": 0
}